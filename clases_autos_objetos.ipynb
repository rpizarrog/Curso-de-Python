{
 "cells": [
  {
   "cell_type": "markdown",
   "id": "79aff7a1",
   "metadata": {},
   "source": [
    "# Clase autos\n",
    "\n",
    "## Variables \n",
    "\n",
    "color: color de auto\n",
    "modelo: año de fabricación y/o venta de agencia\n",
    "tipo: si es sedan o pickup\n",
    "encendido:  Motor del carro encendido o apagado [True or False]\n",
    "movimiento: # Carro en movimiento: [1 hacia adelante, -1 hacia atrás y 0 Detenido]\n",
    "\n",
    "## Operaciones/Métodos/Funciones\n",
    "\n",
    "encender: Encender el auto\n",
    "apagar: Apagar el motor del auto\n",
    "ver_encendido: Verificar el encendido del motor [True o False]\n",
    "adelante: Mover el auto hacia adelante\n",
    "reversa: Mover el auto hacia atrás\n",
    "detener: Deterner o frenar auto totalmente\n",
    "ver_movimiento: Verificar el movimiento del carro [-1, 0 o 1]\n"
   ]
  },
  {
   "cell_type": "code",
   "execution_count": 1,
   "id": "4cbe53ba",
   "metadata": {},
   "outputs": [
    {
     "ename": "IndentationError",
     "evalue": "expected an indented block (1063142780.py, line 3)",
     "output_type": "error",
     "traceback": [
      "\u001b[1;36m  Input \u001b[1;32mIn [1]\u001b[1;36m\u001b[0m\n\u001b[1;33m    \u001b[0m\n\u001b[1;37m    ^\u001b[0m\n\u001b[1;31mIndentationError\u001b[0m\u001b[1;31m:\u001b[0m expected an indented block\n"
     ]
    }
   ],
   "source": [
    "# Crear clase autos\n",
    "class autos:\n",
    "    "
   ]
  },
  {
   "cell_type": "code",
   "execution_count": 3,
   "id": "03a41b44",
   "metadata": {},
   "outputs": [],
   "source": [
    "# Crear clase autos y variables con valores específicos\n",
    "class autos:\n",
    "    color = \"ROJO\"\n",
    "    modelo = 2020\n",
    "    tipo = \"SEDAN\"\n",
    "    \n",
    "    \n"
   ]
  },
  {
   "cell_type": "code",
   "execution_count": 5,
   "id": "d867c62b",
   "metadata": {},
   "outputs": [
    {
     "name": "stdout",
     "output_type": "stream",
     "text": [
      "ROJO\n",
      "2020\n",
      "SEDAN\n"
     ]
    }
   ],
   "source": [
    "print(autos.color)\n",
    "print(autos.modelo)\n",
    "print(autos.tipo)"
   ]
  },
  {
   "cell_type": "code",
   "execution_count": null,
   "id": "35d30add",
   "metadata": {},
   "outputs": [],
   "source": [
    "# Asignar valores con la función _init_ de una clase\n",
    "\n",
    "# Definir objetos de una clase asignando valores y sacando provecho a la clase\n"
   ]
  },
  {
   "cell_type": "code",
   "execution_count": 31,
   "id": "903c16de",
   "metadata": {},
   "outputs": [],
   "source": [
    "class autos:\n",
    "    def __init__(self, color, modelo, tipo):\n",
    "        self.color = color\n",
    "        self.modelo = modelo\n",
    "        self.tipo = tipo"
   ]
  },
  {
   "cell_type": "code",
   "execution_count": 36,
   "id": "6b11c74c",
   "metadata": {},
   "outputs": [
    {
     "name": "stdout",
     "output_type": "stream",
     "text": [
      "NEGRO\n",
      "2004\n",
      "PICKUP\n"
     ]
    }
   ],
   "source": [
    "micarro = autos(color=\"NEGRO\", modelo=2004, tipo=\"PICKUP\" )\n",
    "print(micarro.color)\n",
    "print(micarro.modelo)\n",
    "print(micarro.tipo)"
   ]
  },
  {
   "cell_type": "code",
   "execution_count": 37,
   "id": "be002059",
   "metadata": {},
   "outputs": [
    {
     "name": "stdout",
     "output_type": "stream",
     "text": [
      "AZUL\n",
      "2014\n",
      "SEDAN\n"
     ]
    }
   ],
   "source": [
    "# Otro objeto o carro\n",
    "otrocarro = autos(color=\"AZUL\", modelo=2014, tipo=\"SEDAN\")\n",
    "print(otrocarro.color)\n",
    "print(otrocarro.modelo)\n",
    "print(otrocarro.tipo)"
   ]
  },
  {
   "cell_type": "code",
   "execution_count": 48,
   "id": "b4bd0bd5",
   "metadata": {},
   "outputs": [],
   "source": [
    "# Utilizar la función __str__ para recuperar el objeto de una clase como un string\n",
    "\n",
    "class autos:\n",
    "    def __init__(self, color, modelo, tipo):\n",
    "        self.color = color\n",
    "        self.modelo = modelo\n",
    "        self.tipo = tipo\n",
    "    def __str__(self):\n",
    "        return f\"{self.color},{self.modelo },{self.tipo}\""
   ]
  },
  {
   "cell_type": "code",
   "execution_count": 49,
   "id": "cf7ba233",
   "metadata": {},
   "outputs": [
    {
     "name": "stdout",
     "output_type": "stream",
     "text": [
      "NEGRO,2004,PICKUP\n"
     ]
    }
   ],
   "source": [
    "micarro = autos(color=\"NEGRO\", tipo=\"PICKUP\", modelo=2004)\n",
    "print(micarro)"
   ]
  },
  {
   "cell_type": "code",
   "execution_count": 181,
   "id": "85562d40",
   "metadata": {},
   "outputs": [],
   "source": [
    "# Agregar funciones a la clase y llamar a las funciones de la clase a através del objeto\n",
    "class autos:\n",
    "\n",
    "    def __init__(self, color, modelo, tipo):\n",
    "        self.color = color\n",
    "        self.modelo = modelo\n",
    "        self.tipo = tipo\n",
    "        self.encendido = False      # Motor del carro encendido o apagado [True or False]\n",
    "        self.movimiento = 0 # Carro en movimiento: [1 hacia adelante, -1 hacia atrás y 0 Detenido]\n",
    "    def __str__(self):\n",
    "        return f\"{self.color},{self.modelo },{self.tipo}\"\n",
    "    \n",
    "    def enceder(self):\n",
    "        self.encendido = True\n",
    "        print(\"Se enciende el motor del carro. Estado del motor:\", self.encendido)\n",
    "        # Veriicar que si ya está encendido pues que no se encienda solo mandar msj que ya esta encendido\n",
    "        # Veriicar que si está apagado entonces si se puede encender el auto\n",
    "        \n",
    "        \n",
    "    def apagar(self):\n",
    "        self.encendido = False\n",
    "        print(\"Se apaga el motor del carro. Estado del motor:\", self.encendido)\n",
    "        # Veriicar que si ya está apagado pues que no se puede apagr dos veces o mas solo mandar msj que ya esta apagado\n",
    "        # Veriicar que si está encendido entonces si se puede apagar el auto\n",
    "                \n",
    "        \n",
    "    def ver_encendido(self):\n",
    "        if self.encendido == True:\n",
    "            print(\"El auto está encendido\")\n",
    "        elif self.encendido == False:  \n",
    "            print(\"El auto está apagado\")\n",
    "            \n",
    "    def adelante(self):\n",
    "        self.movimiento = 1\n",
    "        print(\"Se mueve el carro hacia adelante:\", self.movimiento)\n",
    "        # solo se podrá avanzar si el carro está encendido\n",
    "        # Si está encendido y detenido entonces se puede avanzar\n",
    "        # Si está apagado entonces enviar msj de encender auto y luego avanzar\n",
    "        # No se puede retrocedr cuando se está avanzandy viceversa hay que poner el carro en detenido\n",
    "        \n",
    "    def reversa(self):\n",
    "        self.movimiento = -1\n",
    "        print(\"Se mueve el carro en reversa:\", self.movimiento)\n",
    "        # solo se podrá retroceder si el carro está encendido \n",
    "        # Si está encendido y detenido entonces se puede retroceder\n",
    "        # Si está apagado entonces enviar msj de encender auto y luego retroceder\n",
    "        # No se puede retroceder cuando se está avanzando y viceversa hay que poner el carro en detenido y por supuesto encendido\n",
    "        \n",
    "    def detener(self):\n",
    "        self.movimiento = 0\n",
    "        print(\"El carro se detiene:\", self.movimiento)\n",
    "        # El carro solo se puede detener si está encendido y en movimiento adelte o en reversa\n",
    "            \n",
    "    def ver_movimiento(self):\n",
    "        if self.movimiento == 0:\n",
    "            print(\"El auto está detenido\")\n",
    "        elif self.movimiento == 1:  \n",
    "            print(\"El auto va hacia adelante\")            \n",
    "        elif self.movimiento == -1:  \n",
    "            print(\"El auto va en reversa\")            \n",
    "    \n",
    "    def verificar_all(self):\n",
    "        msj =  None # Valor nulo en python\n",
    "        if self.encendido == True:\n",
    "            msj = \"El auto está encendido y ...\"\n",
    "        elif self.encendido == False:  \n",
    "            msj = \"El auto está apagado y ...\"\n",
    "            \n",
    "        if self.movimiento == 0:\n",
    "            msj = msj + \"el auto está detenido\"\n",
    "        elif self.movimiento == 1:  \n",
    "            msj = msj + \"el auto va hacia adelante\" \n",
    "        elif self.movimiento == -1:  \n",
    "            msj = msj + \"el auto va en reversa\"\n",
    "        return msj\n",
    "        \n",
    "        "
   ]
  },
  {
   "cell_type": "code",
   "execution_count": 182,
   "id": "22fb9056",
   "metadata": {},
   "outputs": [],
   "source": [
    "# Crear un objeto \n",
    "micarro = autos(color=\"NEGRO\", modelo=2004, tipo=\"PICKUP\" )\n"
   ]
  },
  {
   "cell_type": "code",
   "execution_count": 143,
   "id": "a26799b3",
   "metadata": {},
   "outputs": [
    {
     "name": "stdout",
     "output_type": "stream",
     "text": [
      "Se enciende el motor del carro. Estado del motor: True\n"
     ]
    }
   ],
   "source": [
    "# Encender el auto\n",
    "micarro.enceder_auto()"
   ]
  },
  {
   "cell_type": "code",
   "execution_count": 140,
   "id": "528b1d42",
   "metadata": {},
   "outputs": [
    {
     "name": "stdout",
     "output_type": "stream",
     "text": [
      "Se apaga el motor del carro. Estado del motor: False\n"
     ]
    }
   ],
   "source": [
    "# Encender el auto\n",
    "micarro.apagar_auto()"
   ]
  },
  {
   "cell_type": "code",
   "execution_count": 134,
   "id": "674dbcc5",
   "metadata": {},
   "outputs": [
    {
     "name": "stdout",
     "output_type": "stream",
     "text": [
      "El auto está encendido\n"
     ]
    }
   ],
   "source": [
    "# ¿Cómo está el motor?\n",
    "micarro.ver_encendido()"
   ]
  },
  {
   "cell_type": "code",
   "execution_count": 147,
   "id": "da1067af",
   "metadata": {},
   "outputs": [
    {
     "name": "stdout",
     "output_type": "stream",
     "text": [
      "El auto va hacia adelante\n"
     ]
    }
   ],
   "source": [
    "micarro.ver_movimiento()"
   ]
  },
  {
   "cell_type": "code",
   "execution_count": 184,
   "id": "81b63cf9",
   "metadata": {},
   "outputs": [
    {
     "name": "stdout",
     "output_type": "stream",
     "text": [
      "Se mueve el carro hacia adelante: 1\n",
      "El auto va hacia adelante\n"
     ]
    }
   ],
   "source": [
    "# adelante\n",
    "micarro.adelante()\n",
    "micarro.ver_movimiento()\n"
   ]
  },
  {
   "cell_type": "code",
   "execution_count": 157,
   "id": "bcca1b5e",
   "metadata": {},
   "outputs": [
    {
     "name": "stdout",
     "output_type": "stream",
     "text": [
      "Se mueve el carro en reversa: -1\n",
      "El auto va en reversa\n"
     ]
    }
   ],
   "source": [
    "# reversa\n",
    "# adelante\n",
    "micarro.reversa()\n",
    "micarro.ver_movimiento()"
   ]
  },
  {
   "cell_type": "code",
   "execution_count": 185,
   "id": "e31cdd59",
   "metadata": {},
   "outputs": [
    {
     "name": "stdout",
     "output_type": "stream",
     "text": [
      "El auto está apagado y ...el auto va hacia adelante\n"
     ]
    }
   ],
   "source": [
    "print(micarro.verificar_all())\n"
   ]
  },
  {
   "cell_type": "code",
   "execution_count": null,
   "id": "8b8e01e4",
   "metadata": {},
   "outputs": [],
   "source": []
  }
 ],
 "metadata": {
  "kernelspec": {
   "display_name": "Python 3 (ipykernel)",
   "language": "python",
   "name": "python3"
  },
  "language_info": {
   "codemirror_mode": {
    "name": "ipython",
    "version": 3
   },
   "file_extension": ".py",
   "mimetype": "text/x-python",
   "name": "python",
   "nbconvert_exporter": "python",
   "pygments_lexer": "ipython3",
   "version": "3.9.12"
  }
 },
 "nbformat": 4,
 "nbformat_minor": 5
}
