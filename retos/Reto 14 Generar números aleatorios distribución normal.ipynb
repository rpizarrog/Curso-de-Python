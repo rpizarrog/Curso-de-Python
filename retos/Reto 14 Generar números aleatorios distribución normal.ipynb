{
 "cells": [
  {
   "cell_type": "markdown",
   "id": "ca594608",
   "metadata": {},
   "source": [
    "# Reto 14\tPoblación y muestra de distribución Normal\n",
    "\n",
    "- Generar 6500 valores que representan la estatura de 6500 alumnos cuya media aritmética está entre 170 y desviación estándar de 5 centímetros. La variable que almacena las alturas de los estudiantes se llama estaturas\n",
    "- Visualizar la densidad o diagrama de campana de la distribución de los datos o de las estaturas de los estudiantes\n",
    "- Extraer una muestra de 50 estudiantes de las estaturas\n",
    "- Determinar los estadísticos media, desviación estándar, máximo y mínimo de la población estaturas y la muestra y ver sus diferencias (Error de muestreo)\n",
    "- Ver gráficos d densidad de la población y de la muestra\n",
    "- Intrepretar el reto\n"
   ]
  },
  {
   "cell_type": "code",
   "execution_count": null,
   "id": "b42970c1",
   "metadata": {},
   "outputs": [],
   "source": []
  }
 ],
 "metadata": {
  "kernelspec": {
   "display_name": "Python 3 (ipykernel)",
   "language": "python",
   "name": "python3"
  },
  "language_info": {
   "codemirror_mode": {
    "name": "ipython",
    "version": 3
   },
   "file_extension": ".py",
   "mimetype": "text/x-python",
   "name": "python",
   "nbconvert_exporter": "python",
   "pygments_lexer": "ipython3",
   "version": "3.9.12"
  }
 },
 "nbformat": 4,
 "nbformat_minor": 5
}
