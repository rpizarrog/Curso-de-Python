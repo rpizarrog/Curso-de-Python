{
 "cells": [
  {
   "cell_type": "markdown",
   "id": "b303916a",
   "metadata": {},
   "source": [
    "# Importar archicos de una ruta local\n",
    "\n",
    "Se crea el archivo mates.py con el siguiente código: \n",
    "\n",
    "\n",
    "# Este programa crea algunas funciones matemáticas\n",
    "\n",
    "\n",
    "def hola_matematicas():\n",
    "    print(\"Hola desde la función hola_matematicas del archivo matematicas.py\")\n",
    "\n",
    "def multiplos_simple(numero):\n",
    "    print (\"Estas en la funcion multiplos\")\n",
    "    for n in range(1, 100):\n",
    "       if n % numero == 0:\n",
    "            print(n)\n",
    "            \n",
    "            \n",
    "Importar ese archivo con la instrucción import            \n",
    "            \n",
    "    \n",
    "    \n"
   ]
  },
  {
   "cell_type": "code",
   "execution_count": 1,
   "id": "89c8014c",
   "metadata": {},
   "outputs": [
    {
     "name": "stdout",
     "output_type": "stream",
     "text": [
      "C:\\Users\\rpizarro\\Documents\\2023\\PythonCourse\\markdown_notebooks\\Retos\n"
     ]
    }
   ],
   "source": [
    "\n",
    "import os\n",
    "unidad  = os.getcwd()\n",
    "print(unidad)\n",
    "\n",
    "\n",
    "\n",
    "\n",
    "\n",
    "\n",
    "\n"
   ]
  },
  {
   "cell_type": "code",
   "execution_count": 4,
   "id": "12075b34",
   "metadata": {},
   "outputs": [
    {
     "name": "stdout",
     "output_type": "stream",
     "text": [
      "c:\\Users\\rpizarro\\Documents\\2023\\PythonCourse\\markdown_notebooks\\Retos  'n'\n",
      "c:\\Users\\rpizarro\\Documents\\2023\\PythonCourse\\scripts \n",
      "\n",
      "Ruta actual  c:\\Users\\rpizarro\\Documents\\2023\\PythonCourse\\scripts\n"
     ]
    }
   ],
   "source": [
    "import os\n",
    "\n",
    "directorio = os.path.join('c:\\\\', 'Users', 'rpizarro', \"Documents\", \"2023\", \"PythonCourse\", \"markdown_notebooks\", \"Retos\")\n",
    "# ruta_notebooks = os.chdir(\"C:\\Users\\rpizarro\\Documents\\2023\\PythonCourse\\markdown_notebooks\\Retos\")\n",
    "\n",
    "print(directorio, \" 'n'\")\n",
    "\n",
    "directorio_scripts = os.path.join('c:\\\\', 'Users', 'rpizarro', \"Documents\", \"2023\", \"PythonCourse\", \"scripts\")\n",
    "\n",
    "print(directorio_scripts, \"\\n\")\n",
    "\n",
    "ruta_scripts = os.chdir(directorio_scripts)\n",
    "print(\"Ruta actual \", os.getcwd())"
   ]
  },
  {
   "cell_type": "code",
   "execution_count": 5,
   "id": "dded61c3",
   "metadata": {},
   "outputs": [
    {
     "name": "stdout",
     "output_type": "stream",
     "text": [
      "Ruta actual  c:\\Users\\rpizarro\\Documents\\2023\\PythonCourse\\scripts\n"
     ]
    },
    {
     "ename": "NameError",
     "evalue": "name 'hola_matematicas' is not defined",
     "output_type": "error",
     "traceback": [
      "\u001b[1;31m---------------------------------------------------------------------------\u001b[0m",
      "\u001b[1;31mNameError\u001b[0m                                 Traceback (most recent call last)",
      "Input \u001b[1;32mIn [5]\u001b[0m, in \u001b[0;36m<cell line: 8>\u001b[1;34m()\u001b[0m\n\u001b[0;32m      4\u001b[0m os\u001b[38;5;241m.\u001b[39mlistdir()\n\u001b[0;32m      6\u001b[0m \u001b[38;5;28;01mimport\u001b[39;00m \u001b[38;5;21;01mmates\u001b[39;00m\n\u001b[1;32m----> 8\u001b[0m \u001b[43mhola_matematicas\u001b[49m()\n\u001b[0;32m     11\u001b[0m multiplos_simple(\u001b[38;5;241m7\u001b[39m)\n",
      "\u001b[1;31mNameError\u001b[0m: name 'hola_matematicas' is not defined"
     ]
    }
   ],
   "source": [
    "ruta_scripts = os.chdir(directorio_scripts)\n",
    "print(\"Ruta actual \", os.getcwd())\n",
    "\n",
    "os.listdir()\n",
    "\n",
    "import mates\n",
    "\n",
    "hola_matematicas()\n",
    "\n",
    "\n",
    "multiplos_simple(7)\n",
    "\n",
    "\n",
    "\n",
    "\n",
    "\n",
    "\n"
   ]
  },
  {
   "cell_type": "code",
   "execution_count": 6,
   "id": "146ea41d",
   "metadata": {},
   "outputs": [
    {
     "ename": "NameError",
     "evalue": "name 'multiplos_simple' is not defined",
     "output_type": "error",
     "traceback": [
      "\u001b[1;31m---------------------------------------------------------------------------\u001b[0m",
      "\u001b[1;31mNameError\u001b[0m                                 Traceback (most recent call last)",
      "Input \u001b[1;32mIn [6]\u001b[0m, in \u001b[0;36m<cell line: 6>\u001b[1;34m()\u001b[0m\n\u001b[0;32m      1\u001b[0m ruta_scripts \u001b[38;5;241m=\u001b[39m os\u001b[38;5;241m.\u001b[39mchdir(directorio_scripts)\n\u001b[0;32m      4\u001b[0m \u001b[38;5;28;01mimport\u001b[39;00m \u001b[38;5;21;01mmates\u001b[39;00m\n\u001b[1;32m----> 6\u001b[0m \u001b[43mmultiplos_simple\u001b[49m(\u001b[38;5;241m7\u001b[39m)\n",
      "\u001b[1;31mNameError\u001b[0m: name 'multiplos_simple' is not defined"
     ]
    }
   ],
   "source": [
    "ruta_scripts = os.chdir(directorio_scripts)\n",
    "\n",
    "\n",
    "import mates\n",
    "\n",
    "multiplos_simple(7)\n",
    "\n",
    "\n"
   ]
  },
  {
   "cell_type": "code",
   "execution_count": 7,
   "id": "29c90cac",
   "metadata": {},
   "outputs": [
    {
     "name": "stdout",
     "output_type": "stream",
     "text": [
      "Ruta actual  c:\\Users\\rpizarro\\Documents\\2023\\PythonCourse\\scripts\n",
      "Los múltiplos del número  6\n",
      "[6, 12, 18, 24, 30, 36, 42, 48, 54, 60, 66, 72, 78, 84, 90, 96]\n"
     ]
    }
   ],
   "source": [
    "ruta_scripts = os.chdir(directorio_scripts)\n",
    "\n",
    "print(\"Ruta actual \", os.getcwd())\n",
    "\n",
    "from mates import *\n",
    "\n",
    "dir()\n",
    "\n",
    "\n",
    "numero = 6\n",
    "print(\"Los múltiplos del número \", numero)\n",
    "\n",
    "\n",
    "\n",
    "los_multiplos = multiplos_ret(numero)\n",
    "      \n",
    "print(los_multiplos)\n",
    "\n",
    "\n",
    "\n",
    "\n",
    "\n",
    "\n",
    "\n"
   ]
  },
  {
   "cell_type": "code",
   "execution_count": null,
   "id": "a66382d8",
   "metadata": {},
   "outputs": [],
   "source": []
  }
 ],
 "metadata": {
  "kernelspec": {
   "display_name": "Python 3 (ipykernel)",
   "language": "python",
   "name": "python3"
  },
  "language_info": {
   "codemirror_mode": {
    "name": "ipython",
    "version": 3
   },
   "file_extension": ".py",
   "mimetype": "text/x-python",
   "name": "python",
   "nbconvert_exporter": "python",
   "pygments_lexer": "ipython3",
   "version": "3.9.12"
  }
 },
 "nbformat": 4,
 "nbformat_minor": 5
}
