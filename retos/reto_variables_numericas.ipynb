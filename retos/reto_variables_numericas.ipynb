{
 "cells": [
  {
   "cell_type": "markdown",
   "id": "4b9b2485",
   "metadata": {},
   "source": [
    "# Reto de variables numéricas\n",
    "\n",
    "## Crear un libro de notas reto_variables_numericas\n",
    "\n",
    "\n",
    "Declarar cinco variables numéricas de nombres diferentes con valores entre 0 y 100\n",
    "\n",
    "De las cinco variables indicar cual es la variable menor y cual es la variable mayor\n",
    "\n",
    "## Ejemplo:\n",
    "\n",
    "var1 = 50\n",
    "\n",
    "var2 = 10\n",
    "\n",
    "var3 = 15\n",
    "\n",
    "var4 = 30\n",
    "\n",
    "var5 = 25\n",
    "\n",
    "## Resultado\n",
    "\n",
    "La variable menor es var1\n",
    "La variable mayor es var25\n",
    "\n",
    "## Mostrar el notebook con el resultado y compartir\n",
    "\n"
   ]
  },
  {
   "cell_type": "markdown",
   "id": "dc827362",
   "metadata": {},
   "source": [
    "## Solución\n"
   ]
  },
  {
   "cell_type": "code",
   "execution_count": 62,
   "id": "24959023",
   "metadata": {},
   "outputs": [],
   "source": [
    "# Inicializar variables\n",
    "var1 = 50\n",
    "var2 = 35\n",
    "var3 = 42\n",
    "var4 = 75\n",
    "var5 = 63\n",
    "\n",
    "mayor = 0\n",
    "menor = 100"
   ]
  },
  {
   "cell_type": "code",
   "execution_count": 63,
   "id": "3eda5e0e",
   "metadata": {},
   "outputs": [
    {
     "name": "stdout",
     "output_type": "stream",
     "text": [
      "La variable mayor es var4 : 75\n"
     ]
    }
   ],
   "source": [
    "# La variable mayor\n",
    "from varname import nameof   # PAra recuperar el nombre de la variable\n",
    "\n",
    "\n",
    "if (var1 > mayor):   \n",
    "    mayor = var1\n",
    "    variable = nameof(var1)\n",
    "if (var2 > mayor):   \n",
    "    mayor = var2\n",
    "    variable = nameof(var2)\n",
    "if (var3 > mayor):   \n",
    "    menor = var3\n",
    "    variable = nameof(var3)\n",
    "if (var4 > mayor):   \n",
    "    mayor = var4\n",
    "    variable = nameof(var4)\n",
    "if (var5 > mayor):   \n",
    "    mayor = var5\n",
    "    variable = nameof(var5)\n",
    "    \n",
    "print (\"La variable mayor es\", variable, \":\", mayor )    \n",
    "    "
   ]
  },
  {
   "cell_type": "code",
   "execution_count": 64,
   "id": "bc375b0f",
   "metadata": {},
   "outputs": [
    {
     "name": "stdout",
     "output_type": "stream",
     "text": [
      "menor 100\n",
      "La variable menor es var2 : 35\n"
     ]
    }
   ],
   "source": [
    "# La variable menor\n",
    "from varname import nameof   # PAra recuperar el nombre de la variable\n",
    "\n",
    "\n",
    "print (\"menor\", menor)\n",
    "\n",
    "if (var1 < menor):   \n",
    "    menor = var1\n",
    "    variable = nameof(var1)\n",
    "if (var2 < menor):   \n",
    "    menor = var2\n",
    "    variable = nameof(var2)\n",
    "if (var3 < menor):   \n",
    "    menor = var3\n",
    "    variable = nameof(var3)\n",
    "if (var4 < menor):   \n",
    "    menor = var4\n",
    "    variable = nameof(var4)\n",
    "if (var5 < menor):   \n",
    "    menor = var5\n",
    "    variable = nameof(var5)\n",
    "    \n",
    "print (\"La variable menor es\", variable, \":\", menor )    \n",
    "    "
   ]
  },
  {
   "cell_type": "code",
   "execution_count": null,
   "id": "f9cd4829",
   "metadata": {},
   "outputs": [],
   "source": []
  },
  {
   "cell_type": "code",
   "execution_count": null,
   "id": "d7cd7236",
   "metadata": {},
   "outputs": [],
   "source": []
  }
 ],
 "metadata": {
  "kernelspec": {
   "display_name": "Python 3 (ipykernel)",
   "language": "python",
   "name": "python3"
  },
  "language_info": {
   "codemirror_mode": {
    "name": "ipython",
    "version": 3
   },
   "file_extension": ".py",
   "mimetype": "text/x-python",
   "name": "python",
   "nbconvert_exporter": "python",
   "pygments_lexer": "ipython3",
   "version": "3.9.12"
  }
 },
 "nbformat": 4,
 "nbformat_minor": 5
}
