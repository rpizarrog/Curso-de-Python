{
 "cells": [
  {
   "cell_type": "markdown",
   "id": "4b9b2485",
   "metadata": {},
   "source": [
    "# Reto de variables numéricas\n",
    "\n",
    "## Crear un libro de notas reto_variables_numericas\n",
    "\n",
    "\n",
    "Declarar cinco variables numéricas de nombres diferentes con valores entre 0 y 100\n",
    "\n",
    "De las cinco variables indicar cual es la variable menor y cual es la variable mayor\n",
    "\n",
    "## Ejemplo:\n",
    "\n",
    "var1 = 50\n",
    "\n",
    "var2 = 10\n",
    "\n",
    "var3 = 15\n",
    "\n",
    "var4 = 30\n",
    "\n",
    "var5 = 25\n",
    "\n",
    "## Resultado\n",
    "\n",
    "La variable menor es var2 con 15\n",
    "La variable mayor es var1 con 50\n",
    "\n",
    "## Mostrar el notebook con el resultado y compartir\n",
    "\n"
   ]
  },
  {
   "cell_type": "markdown",
   "id": "d6e4694b",
   "metadata": {},
   "source": [
    "## Solución\n"
   ]
  },
  {
   "cell_type": "code",
   "execution_count": 65,
   "id": "42c2f681",
   "metadata": {},
   "outputs": [],
   "source": [
    "# Inicializar variables\n",
    "var1 = 50\n",
    "var2 = 10\n",
    "var3 = 15\n",
    "var4 = 30\n",
    "var5 = 25\n",
    "\n",
    "mayor = 0\n",
    "menor = 100"
   ]
  },
  {
   "cell_type": "code",
   "execution_count": 66,
   "id": "92f7e18f",
   "metadata": {},
   "outputs": [
    {
     "name": "stdout",
     "output_type": "stream",
     "text": [
      "La variable mayor es var1 : 50\n"
     ]
    }
   ],
   "source": [
    "# La variable mayor\n",
    "from varname import nameof   # PAra recuperar el nombre de la variable\n",
    "\n",
    "\n",
    "if (var1 > mayor):   \n",
    "    mayor = var1\n",
    "    variable = nameof(var1)\n",
    "if (var2 > mayor):   \n",
    "    mayor = var2\n",
    "    variable = nameof(var2)\n",
    "if (var3 > mayor):   \n",
    "    menor = var3\n",
    "    variable = nameof(var3)\n",
    "if (var4 > mayor):   \n",
    "    mayor = var4\n",
    "    variable = nameof(var4)\n",
    "if (var5 > mayor):   \n",
    "    mayor = var5\n",
    "    variable = nameof(var5)\n",
    "    \n",
    "print (\"La variable mayor es\", variable, \":\", mayor )    \n",
    "    "
   ]
  },
  {
   "cell_type": "code",
   "execution_count": 67,
   "id": "56328c61",
   "metadata": {},
   "outputs": [
    {
     "name": "stdout",
     "output_type": "stream",
     "text": [
      "menor 100\n",
      "La variable menor es var2 : 10\n"
     ]
    }
   ],
   "source": [
    "# La variable menor\n",
    "from varname import nameof   # PAra recuperar el nombre de la variable\n",
    "\n",
    "\n",
    "print (\"menor\", menor)\n",
    "\n",
    "if (var1 < menor):   \n",
    "    menor = var1\n",
    "    variable = nameof(var1)\n",
    "if (var2 < menor):   \n",
    "    menor = var2\n",
    "    variable = nameof(var2)\n",
    "if (var3 < menor):   \n",
    "    menor = var3\n",
    "    variable = nameof(var3)\n",
    "if (var4 < menor):   \n",
    "    menor = var4\n",
    "    variable = nameof(var4)\n",
    "if (var5 < menor):   \n",
    "    menor = var5\n",
    "    variable = nameof(var5)\n",
    "    \n",
    "print (\"La variable menor es\", variable, \":\", menor )    \n",
    "    "
   ]
  },
  {
   "cell_type": "code",
   "execution_count": null,
   "id": "42cef50a",
   "metadata": {},
   "outputs": [],
   "source": []
  },
  {
   "cell_type": "code",
   "execution_count": null,
   "id": "7dc92a89",
   "metadata": {},
   "outputs": [],
   "source": []
  }
 ],
 "metadata": {
  "kernelspec": {
   "display_name": "Python 3 (ipykernel)",
   "language": "python",
   "name": "python3"
  },
  "language_info": {
   "codemirror_mode": {
    "name": "ipython",
    "version": 3
   },
   "file_extension": ".py",
   "mimetype": "text/x-python",
   "name": "python",
   "nbconvert_exporter": "python",
   "pygments_lexer": "ipython3",
   "version": "3.9.12"
  }
 },
 "nbformat": 4,
 "nbformat_minor": 5
}
