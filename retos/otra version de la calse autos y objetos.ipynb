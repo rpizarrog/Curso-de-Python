{
 "cells": [
  {
   "cell_type": "markdown",
   "id": "41df9ac9",
   "metadata": {},
   "source": [
    "# Crear clase autos y objetos de autos\n",
    "\n",
    "## Variables\n",
    "- color: color de auto \n",
    "- modelo: año de fabricación y/o venta de agencia \n",
    "- tipo: si es sedan o pickup encendido: Motor del carro encendido o apagado [True or False] \n",
    "\n",
    "\n",
    "## Operaciones/Métodos/Funciones\n",
    "- encender: Encender el auto apagar: \n",
    "- apagar el motor del auto ver_encendido: \n",
    "- verificar el encendido del motor [True o False] \n",
    "- adelante: Mover el auto hacia adelante \n",
    "- reversa: Mover el auto hacia atrás detener: \n",
    "- deterner o frenar auto totalmente ver_movimiento: \n",
    "- verificar el movimiento del carro [-1, 0 o 1]\n",
    "\n"
   ]
  },
  {
   "cell_type": "code",
   "execution_count": 2,
   "id": "6080754a",
   "metadata": {},
   "outputs": [],
   "source": [
    "# Crear clase autos\n",
    "class autos:\n",
    "    x = 20"
   ]
  },
  {
   "cell_type": "code",
   "execution_count": 3,
   "id": "bdf6994e",
   "metadata": {},
   "outputs": [],
   "source": [
    "# Crear la clase autos pero con sus atributos\n",
    "class autos:\n",
    "    color = \"ROJO\"\n",
    "    modelo = 2021\n",
    "    tipo = 'SEDAN'\n",
    "    "
   ]
  },
  {
   "cell_type": "code",
   "execution_count": 4,
   "id": "626f0ee3",
   "metadata": {},
   "outputs": [
    {
     "name": "stdout",
     "output_type": "stream",
     "text": [
      "ROJO\n",
      "2021\n",
      "SEDAN\n"
     ]
    }
   ],
   "source": [
    "print(autos.color)\n",
    "print(autos.modelo)\n",
    "print(autos.tipo)"
   ]
  },
  {
   "cell_type": "code",
   "execution_count": 55,
   "id": "b16cc893",
   "metadata": {},
   "outputs": [],
   "source": [
    "class autos:\n",
    "    def __init__(self, color, modelo, tipo):\n",
    "        self.color = color\n",
    "        self.modelo = modelo\n",
    "        self.tipo = tipo\n",
    "        self.encendido = False\n",
    "        \n",
    "    def ver_atributos(self):\n",
    "        print(self.color, self.modelo, self.tipo)\n",
    "        \n",
    "    def encender(self):\n",
    "        if self.encendido == True:\n",
    "            print(\"Ya está encendido\")\n",
    "        else:    \n",
    "            print(\"Encender el auto\")\n",
    "        # ¿Que hacer cuando se enciden el carro\n",
    "        # encender = True\n",
    "        self.encendido = True\n",
    "    \n",
    "    def apagar(self):\n",
    "        if self.encendido == False:\n",
    "            print(\"Ya está apagado\")\n",
    "        else:\n",
    "            print (\"Apagar el auto\")\n",
    "        self.encendido = False\n",
    "        \n",
    "    def adelante(self):\n",
    "        print (\"Se mueve hacia adelante\")\n",
    "\n",
    "    def reversa(self):\n",
    "        print (\"Se va en reversa\")\n",
    "        \n",
    "    def frenar(self):\n",
    "        print (\"Se detiene el carro\")\n",
    "        \n",
    "    def checarEncendido(self):\n",
    "        if self.encendido == False:\n",
    "            print(\"El carro está apagado\")\n",
    "        else:\n",
    "            print (\"El carro está encendido\")\n",
    "        \n"
   ]
  },
  {
   "cell_type": "code",
   "execution_count": 36,
   "id": "c54e098f",
   "metadata": {},
   "outputs": [
    {
     "name": "stdout",
     "output_type": "stream",
     "text": [
      "NEGRO\n"
     ]
    }
   ],
   "source": [
    "# Crer un objeto de la calse autos\n",
    "micarro = autos(color='NEGRO', modelo = 2023, tipo = 'SEDAN')\n",
    "print(micarro.color)\n",
    "\n"
   ]
  },
  {
   "cell_type": "code",
   "execution_count": 56,
   "id": "f45976e2",
   "metadata": {},
   "outputs": [
    {
     "name": "stdout",
     "output_type": "stream",
     "text": [
      "AZUL 2000 PICKUP\n"
     ]
    }
   ],
   "source": [
    "# Crar otro objeto diferente\n",
    "micarrito = autos(color = 'AZUL', modelo = 2000, tipo ='PICKUP')\n",
    "print(micarrito.color, micarrito.modelo, micarrito.tipo)"
   ]
  },
  {
   "cell_type": "code",
   "execution_count": 44,
   "id": "f6e0633f",
   "metadata": {},
   "outputs": [
    {
     "name": "stdout",
     "output_type": "stream",
     "text": [
      "AZUL 2000 PICKUP\n",
      "NEGRO 2023 SEDAN\n"
     ]
    }
   ],
   "source": [
    "micarrito.ver_atributos()\n",
    "micarro.ver_atributos()\n",
    "\n"
   ]
  },
  {
   "cell_type": "code",
   "execution_count": 61,
   "id": "f91525e0",
   "metadata": {},
   "outputs": [
    {
     "name": "stdout",
     "output_type": "stream",
     "text": [
      "Encender el auto\n",
      "Se mueve hacia adelante\n",
      "Se detiene el carro\n",
      "Se va en reversa\n",
      "Se detiene el carro\n",
      "Apagar el auto\n"
     ]
    }
   ],
   "source": [
    "micarrito.encender()\n",
    "micarrito.adelante()\n",
    "micarrito.frenar()\n",
    "micarrito.reversa()\n",
    "micarrito.frenar()\n",
    "micarrito.apagar()\n",
    "\n",
    "\n"
   ]
  },
  {
   "cell_type": "code",
   "execution_count": 34,
   "id": "491785af",
   "metadata": {},
   "outputs": [
    {
     "name": "stdout",
     "output_type": "stream",
     "text": [
      "Apagar el auto\n",
      "Se mueve hacia adelante\n"
     ]
    }
   ],
   "source": [
    "micarrito.apagar()\n",
    "micarrito.adelante()"
   ]
  },
  {
   "cell_type": "code",
   "execution_count": 60,
   "id": "0fefed5e",
   "metadata": {},
   "outputs": [
    {
     "name": "stdout",
     "output_type": "stream",
     "text": [
      "Encender el auto\n",
      "Ya está encendido\n",
      "El carro está encendido\n",
      "Apagar el auto\n",
      "El carro está apagado\n",
      "Ya está apagado\n",
      "El carro está apagado\n"
     ]
    }
   ],
   "source": [
    "micarrito.encender()\n",
    "micarrito.encender()\n",
    "micarrito.checarEncendido()\n",
    "micarrito.apagar()\n",
    "micarrito.checarEncendido()\n",
    "micarrito.apagar()\n",
    "micarrito.checarEncendido()\n",
    "\n"
   ]
  },
  {
   "cell_type": "code",
   "execution_count": null,
   "id": "51c88861",
   "metadata": {},
   "outputs": [],
   "source": []
  },
  {
   "cell_type": "raw",
   "id": "4bcfcbff",
   "metadata": {},
   "source": []
  }
 ],
 "metadata": {
  "kernelspec": {
   "display_name": "Python 3 (ipykernel)",
   "language": "python",
   "name": "python3"
  },
  "language_info": {
   "codemirror_mode": {
    "name": "ipython",
    "version": 3
   },
   "file_extension": ".py",
   "mimetype": "text/x-python",
   "name": "python",
   "nbconvert_exporter": "python",
   "pygments_lexer": "ipython3",
   "version": "3.9.12"
  }
 },
 "nbformat": 4,
 "nbformat_minor": 5
}
