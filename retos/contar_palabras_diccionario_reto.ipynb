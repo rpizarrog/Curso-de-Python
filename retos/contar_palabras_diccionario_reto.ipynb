{
 "cells": [
  {
   "cell_type": "markdown",
   "id": "794c31c0",
   "metadata": {},
   "source": [
    "Contar palabras de un texto\n",
    "Crear un texto con algunos parrafos en variables diferentes\n",
    "Del texto se pide contar el número de palabras para identificar cual es la palabra que mas se repite\n",
    "\n",
    "\"Los antecedentes de la inteligencia artificial se remontan a la década de 1950, cuando los científicos comenzaron a explorar la posibilidad de crear máquinas que pudieran pensar y aprender por sí mismas. Uno de los primeros ejemplos de inteligencia artificial fue el programa informático \"Eliza\", desarrollado por Joseph Weizenbaum en 1966, que podía simular una conversación humana\"\n",
    "\n",
    "\"En la década de 1970, la inteligencia artificial se centró en la creación de sistemas expertos, que utilizaban el conocimiento de expertos humanos para tomar decisiones. En los años 80 y 90, la inteligencia artificial se expandió a otras áreas, como el procesamiento del lenguaje natural, la visión por computadora y la robótica\"\n",
    "\n",
    "\"En la década de 2000, la inteligencia artificial se centró en el aprendizaje automático y el análisis de datos, lo que permitió a los sistemas aprender y mejorar por sí mismos. Esto llevó al desarrollo de tecnologías como la minería de datos y el aprendizaje profundo, que permiten a los sistemas analizar grandes cantidades de datos y detectar patrones\"\n",
    "\n",
    "\"En la actualidad, la inteligencia artificial está presente en una amplia variedad de industrias, desde la atención médica hasta la publicidad en línea. Los avances en el procesamiento del lenguaje natural, la robótica y la inteligencia artificial general (AGI) están llevando a la creación de sistemas cada vez más sofisticados y autónomos\"\n",
    "\n",
    "Del texto identificar las que sean preposiciones, artículos y signos de puntuación\n",
    "preposiciones = \"a, ante, bajo, cabe, con, contra, de, desde, durante, en, entre, hacia, hasta, mediante, para, por, según, sin, so, sobre, tras, versus, vía\"\n",
    "\n",
    "articulos = \"el, la, los, las, un, una, unos, unas\"\n",
    "\n",
    "signos_puntuacion = \"'.'';', ',', ':'\",\n",
    "\n",
    "Quitando preposiciones, los artículos y los signos de puntuación, ¿cuáles son las palabras que más se repiten, el top 5 , es decir las cinco que mas se repiten.\n",
    "\n",
    "¿Cuáles son las palabras que mas se repiten?\n",
    "- Se recomienda tratar párrafos independientes en variables tipo string\n",
    "- Se recomienda el uso de listas aunque puede hacer con conjuntos o con tuplas\n",
    "- Se recomienda usar la función split() en una variable string para convertirlo a lista cada párrafo\n",
    "- Se recomienda crear una sola lista con todas las palabras\n",
    "- Se recomienda crear listas e signos de puntuación, preposiciones, articulos, conjunciones y quitar esas paalbras d ela lista completa\n",
    "- Se recomienda de la lista completa y limpia contar las palabras con count()\n",
    "- A partir de aquí crear un diccionario con las palabras y la cantidad de ocasiones que hay de cada palabra\n",
    "- Ordenar el diccionario\n",
    "\n",
    "\n",
    "### Crear un Notebook y compartir\n",
    "\n"
   ]
  },
  {
   "cell_type": "markdown",
   "id": "dfc70998",
   "metadata": {},
   "source": [
    "### Crear párrafos"
   ]
  },
  {
   "cell_type": "code",
   "execution_count": 31,
   "id": "26886a32",
   "metadata": {},
   "outputs": [
    {
     "name": "stdout",
     "output_type": "stream",
     "text": [
      "Los antecedentes de la inteligencia artificial se remontan a la década de 1950, cuando los científicos comenzaron a explorar la posibilidad de crear máquinas que pudieran pensar y aprender por sí mismas. Uno de los primeros ejemplos de inteligencia artificial fue el programa informático Eliza, desarrollado por Joseph Weizenbaum en 1966, que podía simular una conversación humana\n"
     ]
    }
   ],
   "source": [
    "parrafo1 = \"Los antecedentes de la inteligencia artificial se remontan a la década de 1950, cuando los científicos comenzaron a explorar la posibilidad de crear máquinas que pudieran pensar y aprender por sí mismas. Uno de los primeros ejemplos de inteligencia artificial fue el programa informático Eliza, desarrollado por Joseph Weizenbaum en 1966, que podía simular una conversación humana\"\n",
    "\n",
    "\n",
    "print(parrafo1)"
   ]
  },
  {
   "cell_type": "code",
   "execution_count": 32,
   "id": "11c5c392",
   "metadata": {},
   "outputs": [
    {
     "name": "stdout",
     "output_type": "stream",
     "text": [
      "En la década de 1970, la inteligencia artificial se centró en la creación de sistemas expertos, que utilizaban el conocimiento de expertos humanos para tomar decisiones. En los años 80 y 90, la inteligencia artificial se expandió a otras áreas, como el procesamiento del lenguaje natural, la visión por computadora y la robótica\n"
     ]
    }
   ],
   "source": [
    "parrafo2 = \"En la década de 1970, la inteligencia artificial se centró en la creación de sistemas expertos, que utilizaban el conocimiento de expertos humanos para tomar decisiones. En los años 80 y 90, la inteligencia artificial se expandió a otras áreas, como el procesamiento del lenguaje natural, la visión por computadora y la robótica\"\n",
    "\n",
    "print (parrafo2)"
   ]
  },
  {
   "cell_type": "code",
   "execution_count": 33,
   "id": "0039fc51",
   "metadata": {},
   "outputs": [
    {
     "name": "stdout",
     "output_type": "stream",
     "text": [
      "En la década de 2000, la inteligencia artificial se centró en el aprendizaje automático y el análisis de datos, lo que permitió a los sistemas aprender y mejorar por sí mismos. Esto llevó al desarrollo de tecnologías como la minería de datos y el aprendizaje profundo, que permiten a los sistemas analizar grandes cantidades de datos y detectar patrones\n"
     ]
    }
   ],
   "source": [
    "parrafo3 = \"En la década de 2000, la inteligencia artificial se centró en el aprendizaje automático y el análisis de datos, lo que permitió a los sistemas aprender y mejorar por sí mismos. Esto llevó al desarrollo de tecnologías como la minería de datos y el aprendizaje profundo, que permiten a los sistemas analizar grandes cantidades de datos y detectar patrones\"\n",
    "\n",
    "print (parrafo3)"
   ]
  },
  {
   "cell_type": "code",
   "execution_count": 34,
   "id": "4b469623",
   "metadata": {},
   "outputs": [
    {
     "name": "stdout",
     "output_type": "stream",
     "text": [
      "En la actualidad, la inteligencia artificial está presente en una amplia variedad de industrias, desde la atención médica hasta la publicidad en línea. Los avances en el procesamiento del lenguaje natural, la robótica y la inteligencia artificial general (AGI) están llevando a la creación de sistemas cada vez más sofisticados y autónomos\n"
     ]
    }
   ],
   "source": [
    "parrafo4 = \"En la actualidad, la inteligencia artificial está presente en una amplia variedad de industrias, desde la atención médica hasta la publicidad en línea. Los avances en el procesamiento del lenguaje natural, la robótica y la inteligencia artificial general (AGI) están llevando a la creación de sistemas cada vez más sofisticados y autónomos\"\n",
    "\n",
    "print (parrafo4)"
   ]
  },
  {
   "cell_type": "markdown",
   "id": "632b92be",
   "metadata": {},
   "source": [
    "### Crear listas\n",
    "\n",
    "Se utiliza split() para convertir string a lista"
   ]
  },
  {
   "cell_type": "code",
   "execution_count": 35,
   "id": "c3aac0b0",
   "metadata": {},
   "outputs": [
    {
     "name": "stdout",
     "output_type": "stream",
     "text": [
      "['Los', 'antecedentes', 'de', 'la', 'inteligencia', 'artificial', 'se', 'remontan', 'a', 'la', 'década', 'de', '1950,', 'cuando', 'los', 'científicos', 'comenzaron', 'a', 'explorar', 'la', 'posibilidad', 'de', 'crear', 'máquinas', 'que', 'pudieran', 'pensar', 'y', 'aprender', 'por', 'sí', 'mismas.', 'Uno', 'de', 'los', 'primeros', 'ejemplos', 'de', 'inteligencia', 'artificial', 'fue', 'el', 'programa', 'informático', 'Eliza,', 'desarrollado', 'por', 'Joseph', 'Weizenbaum', 'en', '1966,', 'que', 'podía', 'simular', 'una', 'conversación', 'humana'] \n",
      "\n",
      "['En', 'la', 'década', 'de', '1970,', 'la', 'inteligencia', 'artificial', 'se', 'centró', 'en', 'la', 'creación', 'de', 'sistemas', 'expertos,', 'que', 'utilizaban', 'el', 'conocimiento', 'de', 'expertos', 'humanos', 'para', 'tomar', 'decisiones.', 'En', 'los', 'años', '80', 'y', '90,', 'la', 'inteligencia', 'artificial', 'se', 'expandió', 'a', 'otras', 'áreas,', 'como', 'el', 'procesamiento', 'del', 'lenguaje', 'natural,', 'la', 'visión', 'por', 'computadora', 'y', 'la', 'robótica'] \n",
      "\n",
      "['En', 'la', 'década', 'de', '2000,', 'la', 'inteligencia', 'artificial', 'se', 'centró', 'en', 'el', 'aprendizaje', 'automático', 'y', 'el', 'análisis', 'de', 'datos,', 'lo', 'que', 'permitió', 'a', 'los', 'sistemas', 'aprender', 'y', 'mejorar', 'por', 'sí', 'mismos.', 'Esto', 'llevó', 'al', 'desarrollo', 'de', 'tecnologías', 'como', 'la', 'minería', 'de', 'datos', 'y', 'el', 'aprendizaje', 'profundo,', 'que', 'permiten', 'a', 'los', 'sistemas', 'analizar', 'grandes', 'cantidades', 'de', 'datos', 'y', 'detectar', 'patrones'] \n",
      "\n",
      "['En', 'la', 'actualidad,', 'la', 'inteligencia', 'artificial', 'está', 'presente', 'en', 'una', 'amplia', 'variedad', 'de', 'industrias,', 'desde', 'la', 'atención', 'médica', 'hasta', 'la', 'publicidad', 'en', 'línea.', 'Los', 'avances', 'en', 'el', 'procesamiento', 'del', 'lenguaje', 'natural,', 'la', 'robótica', 'y', 'la', 'inteligencia', 'artificial', 'general', '(AGI)', 'están', 'llevando', 'a', 'la', 'creación', 'de', 'sistemas', 'cada', 'vez', 'más', 'sofisticados', 'y', 'autónomos'] \n",
      "\n"
     ]
    }
   ],
   "source": [
    "lista_pa1 = parrafo1.split() \n",
    "lista_pa2 = parrafo2.split() \n",
    "lista_pa3 = parrafo3.split() \n",
    "lista_pa4 = parrafo4.split() \n",
    "\n",
    "\n",
    "print(lista_pa1, \"\\n\")\n",
    "print(lista_pa2, \"\\n\")\n",
    "print(lista_pa3, \"\\n\")\n",
    "print(lista_pa4, \"\\n\")\n"
   ]
  },
  {
   "cell_type": "markdown",
   "id": "bc9a878b",
   "metadata": {},
   "source": [
    "### Todo en una lista\n",
    "\n",
    "se junta todo en una lista con join()\n"
   ]
  },
  {
   "cell_type": "code",
   "execution_count": 36,
   "id": "1e8d20ca",
   "metadata": {},
   "outputs": [
    {
     "name": "stdout",
     "output_type": "stream",
     "text": [
      "Lista completa vacía [] \n",
      "\n",
      "['Los', 'antecedentes', 'de', 'la', 'inteligencia', 'artificial', 'se', 'remontan', 'a', 'la', 'década', 'de', '1950,', 'cuando', 'los', 'científicos', 'comenzaron', 'a', 'explorar', 'la', 'posibilidad', 'de', 'crear', 'máquinas', 'que', 'pudieran', 'pensar', 'y', 'aprender', 'por', 'sí', 'mismas.', 'Uno', 'de', 'los', 'primeros', 'ejemplos', 'de', 'inteligencia', 'artificial', 'fue', 'el', 'programa', 'informático', 'Eliza,', 'desarrollado', 'por', 'Joseph', 'Weizenbaum', 'en', '1966,', 'que', 'podía', 'simular', 'una', 'conversación', 'humana']\n",
      "['Los', 'antecedentes', 'de', 'la', 'inteligencia', 'artificial', 'se', 'remontan', 'a', 'la', 'década', 'de', '1950,', 'cuando', 'los', 'científicos', 'comenzaron', 'a', 'explorar', 'la', 'posibilidad', 'de', 'crear', 'máquinas', 'que', 'pudieran', 'pensar', 'y', 'aprender', 'por', 'sí', 'mismas.', 'Uno', 'de', 'los', 'primeros', 'ejemplos', 'de', 'inteligencia', 'artificial', 'fue', 'el', 'programa', 'informático', 'Eliza,', 'desarrollado', 'por', 'Joseph', 'Weizenbaum', 'en', '1966,', 'que', 'podía', 'simular', 'una', 'conversación', 'humana', 'En', 'la', 'década', 'de', '1970,', 'la', 'inteligencia', 'artificial', 'se', 'centró', 'en', 'la', 'creación', 'de', 'sistemas', 'expertos,', 'que', 'utilizaban', 'el', 'conocimiento', 'de', 'expertos', 'humanos', 'para', 'tomar', 'decisiones.', 'En', 'los', 'años', '80', 'y', '90,', 'la', 'inteligencia', 'artificial', 'se', 'expandió', 'a', 'otras', 'áreas,', 'como', 'el', 'procesamiento', 'del', 'lenguaje', 'natural,', 'la', 'visión', 'por', 'computadora', 'y', 'la', 'robótica']\n",
      "['Los', 'antecedentes', 'de', 'la', 'inteligencia', 'artificial', 'se', 'remontan', 'a', 'la', 'década', 'de', '1950,', 'cuando', 'los', 'científicos', 'comenzaron', 'a', 'explorar', 'la', 'posibilidad', 'de', 'crear', 'máquinas', 'que', 'pudieran', 'pensar', 'y', 'aprender', 'por', 'sí', 'mismas.', 'Uno', 'de', 'los', 'primeros', 'ejemplos', 'de', 'inteligencia', 'artificial', 'fue', 'el', 'programa', 'informático', 'Eliza,', 'desarrollado', 'por', 'Joseph', 'Weizenbaum', 'en', '1966,', 'que', 'podía', 'simular', 'una', 'conversación', 'humana', 'En', 'la', 'década', 'de', '1970,', 'la', 'inteligencia', 'artificial', 'se', 'centró', 'en', 'la', 'creación', 'de', 'sistemas', 'expertos,', 'que', 'utilizaban', 'el', 'conocimiento', 'de', 'expertos', 'humanos', 'para', 'tomar', 'decisiones.', 'En', 'los', 'años', '80', 'y', '90,', 'la', 'inteligencia', 'artificial', 'se', 'expandió', 'a', 'otras', 'áreas,', 'como', 'el', 'procesamiento', 'del', 'lenguaje', 'natural,', 'la', 'visión', 'por', 'computadora', 'y', 'la', 'robótica', 'En', 'la', 'década', 'de', '2000,', 'la', 'inteligencia', 'artificial', 'se', 'centró', 'en', 'el', 'aprendizaje', 'automático', 'y', 'el', 'análisis', 'de', 'datos,', 'lo', 'que', 'permitió', 'a', 'los', 'sistemas', 'aprender', 'y', 'mejorar', 'por', 'sí', 'mismos.', 'Esto', 'llevó', 'al', 'desarrollo', 'de', 'tecnologías', 'como', 'la', 'minería', 'de', 'datos', 'y', 'el', 'aprendizaje', 'profundo,', 'que', 'permiten', 'a', 'los', 'sistemas', 'analizar', 'grandes', 'cantidades', 'de', 'datos', 'y', 'detectar', 'patrones']\n",
      "['Los', 'antecedentes', 'de', 'la', 'inteligencia', 'artificial', 'se', 'remontan', 'a', 'la', 'década', 'de', '1950,', 'cuando', 'los', 'científicos', 'comenzaron', 'a', 'explorar', 'la', 'posibilidad', 'de', 'crear', 'máquinas', 'que', 'pudieran', 'pensar', 'y', 'aprender', 'por', 'sí', 'mismas.', 'Uno', 'de', 'los', 'primeros', 'ejemplos', 'de', 'inteligencia', 'artificial', 'fue', 'el', 'programa', 'informático', 'Eliza,', 'desarrollado', 'por', 'Joseph', 'Weizenbaum', 'en', '1966,', 'que', 'podía', 'simular', 'una', 'conversación', 'humana', 'En', 'la', 'década', 'de', '1970,', 'la', 'inteligencia', 'artificial', 'se', 'centró', 'en', 'la', 'creación', 'de', 'sistemas', 'expertos,', 'que', 'utilizaban', 'el', 'conocimiento', 'de', 'expertos', 'humanos', 'para', 'tomar', 'decisiones.', 'En', 'los', 'años', '80', 'y', '90,', 'la', 'inteligencia', 'artificial', 'se', 'expandió', 'a', 'otras', 'áreas,', 'como', 'el', 'procesamiento', 'del', 'lenguaje', 'natural,', 'la', 'visión', 'por', 'computadora', 'y', 'la', 'robótica', 'En', 'la', 'década', 'de', '2000,', 'la', 'inteligencia', 'artificial', 'se', 'centró', 'en', 'el', 'aprendizaje', 'automático', 'y', 'el', 'análisis', 'de', 'datos,', 'lo', 'que', 'permitió', 'a', 'los', 'sistemas', 'aprender', 'y', 'mejorar', 'por', 'sí', 'mismos.', 'Esto', 'llevó', 'al', 'desarrollo', 'de', 'tecnologías', 'como', 'la', 'minería', 'de', 'datos', 'y', 'el', 'aprendizaje', 'profundo,', 'que', 'permiten', 'a', 'los', 'sistemas', 'analizar', 'grandes', 'cantidades', 'de', 'datos', 'y', 'detectar', 'patrones', 'En', 'la', 'actualidad,', 'la', 'inteligencia', 'artificial', 'está', 'presente', 'en', 'una', 'amplia', 'variedad', 'de', 'industrias,', 'desde', 'la', 'atención', 'médica', 'hasta', 'la', 'publicidad', 'en', 'línea.', 'Los', 'avances', 'en', 'el', 'procesamiento', 'del', 'lenguaje', 'natural,', 'la', 'robótica', 'y', 'la', 'inteligencia', 'artificial', 'general', '(AGI)', 'están', 'llevando', 'a', 'la', 'creación', 'de', 'sistemas', 'cada', 'vez', 'más', 'sofisticados', 'y', 'autónomos']\n"
     ]
    }
   ],
   "source": [
    "lista_completa = []\n",
    "print(\"Lista completa vacía\", lista_completa, \"\\n\")\n",
    "lista_completa.extend(lista_pa1)\n",
    "print(lista_completa)\n",
    "\n",
    "lista_completa.extend(lista_pa2)\n",
    "print(lista_completa)\n",
    "\n",
    "lista_completa.extend(lista_pa3)\n",
    "print(lista_completa)\n",
    "                      \n",
    "lista_completa.extend(lista_pa4)\n",
    "print(lista_completa)\n",
    "\n"
   ]
  },
  {
   "cell_type": "markdown",
   "id": "98053488",
   "metadata": {},
   "source": [
    "### Quitar signos de puntuacion"
   ]
  },
  {
   "cell_type": "code",
   "execution_count": 37,
   "id": "7d49d337",
   "metadata": {},
   "outputs": [
    {
     "name": "stdout",
     "output_type": "stream",
     "text": [
      "['?', '¿', '¡', '!', ',', ';', '.', ':', '-', '_', '{', '}', '#', '\"', '$', '%', '&', '/', '(', ')']\n"
     ]
    }
   ],
   "source": [
    "signos = ['?', '¿', '¡', '!', ',', ';', '.', ':', '-', '_', '{', '}', '#', '\"', '$', '%', \"&\", '/', '(', ')']\n",
    "print (signos)     \n",
    "          \n",
    "for i in lista_completa:\n",
    "    if i in signos:\n",
    "        #print(i, \"está en la lista completa\")\n",
    "        #print(\"Remover este elemento de la lista\")\n",
    "        lista_completa.remove(i)"
   ]
  },
  {
   "cell_type": "markdown",
   "id": "7aaf2b14",
   "metadata": {},
   "source": [
    "### Quitar artículos"
   ]
  },
  {
   "cell_type": "code",
   "execution_count": 38,
   "id": "36bd1cdf",
   "metadata": {},
   "outputs": [
    {
     "name": "stdout",
     "output_type": "stream",
     "text": [
      "['el', 'la', 'los', 'un', 'una', 'unos', 'unas', 'lo', 'al']\n"
     ]
    }
   ],
   "source": [
    "articulos = ['el', 'la', 'los', 'un', 'una', 'unos', 'unas', 'lo', 'al']\n",
    "print (articulos)     \n",
    "          \n",
    "for i in lista_completa:\n",
    "    if i.lower() in articulos:\n",
    "        #print(i, \"está en la lista completa\")\n",
    "        #print(\"Remover este elemento de la lista\")\n",
    "        lista_completa.remove(i)"
   ]
  },
  {
   "cell_type": "markdown",
   "id": "251fe6cc",
   "metadata": {},
   "source": [
    "### Quitar preposiciones"
   ]
  },
  {
   "cell_type": "code",
   "execution_count": 39,
   "id": "a343f583",
   "metadata": {},
   "outputs": [
    {
     "name": "stdout",
     "output_type": "stream",
     "text": [
      "['a', 'ante', 'bajo', 'cabe', 'con', 'contra', 'de', 'desde', 'durante', 'en', 'entre', 'hacia', 'hasta', 'mediante', 'para', 'por', 'según', 'sin', 'se', 'sobre', 'tras', 'versus', 'vía']\n"
     ]
    }
   ],
   "source": [
    "preposiciones = ['a', 'ante', 'bajo', 'cabe', 'con', 'contra', 'de', 'desde', 'durante', 'en', 'entre', 'hacia', 'hasta', 'mediante', 'para', 'por', 'según', 'sin', 'se', 'sobre', 'tras', 'versus', 'vía']\n",
    "print (preposiciones)     \n",
    "          \n",
    "for i in lista_completa:\n",
    "    if i.lower() in preposiciones:\n",
    "        #print(i, \"está en la lista completa\")\n",
    "        #print(\"Remover este elemento de la lista\")\n",
    "        lista_completa.remove(i)"
   ]
  },
  {
   "cell_type": "markdown",
   "id": "5a6c2ce0",
   "metadata": {},
   "source": [
    "### Quitar conectores"
   ]
  },
  {
   "cell_type": "code",
   "execution_count": 40,
   "id": "48d7db2d",
   "metadata": {},
   "outputs": [
    {
     "name": "stdout",
     "output_type": "stream",
     "text": [
      "['además', 'asimismo', 'de', 'igual', 'forma', 'fue', 'manera', 'del', 'mismo', 'modo', 'otras', 'otro', 'como', 'puede', 'podía', 'en', 'la', 'misma', 'línea', 'encima', 'mas', 'hasta', 'igualmente', 'incluso', 'más', 'aún', 'por', 'añadidura', 'y', 'también', 'sí', 'en', 'algunos', 'algunas', 'no', 'cuando', 'que', 'uno', 'cada', 'vez', 'está', 'están', 'este', 'estos', 'estas']\n"
     ]
    }
   ],
   "source": [
    "conectores = ['además', 'asimismo', 'de', 'igual', 'forma', 'fue', 'manera','del', 'mismo', 'modo', 'otras', 'otro', 'como', 'puede', 'podía', 'en', 'la', 'misma', 'línea', 'encima', 'mas', 'hasta', 'igualmente', 'incluso', 'más', 'aún', 'por', 'añadidura', 'y', 'también', 'sí', 'en', 'algunos', 'algunas', 'no', 'cuando', 'que', 'uno', 'cada', 'vez', 'está', 'están', 'este', 'estos', 'estas']\n",
    "\n",
    "print (conectores)     \n",
    "          \n",
    "for i in lista_completa:\n",
    "    if i.lower() in conectores:\n",
    "        #print(i, \"está en la lista completa\")\n",
    "        #print(\"Remover este elemento de la lista\")\n",
    "        lista_completa.remove(i)  "
   ]
  },
  {
   "cell_type": "markdown",
   "id": "25bb24e8",
   "metadata": {},
   "source": [
    "### Lista completa y limpia"
   ]
  },
  {
   "cell_type": "code",
   "execution_count": 47,
   "id": "1c89e411",
   "metadata": {},
   "outputs": [
    {
     "name": "stdout",
     "output_type": "stream",
     "text": [
      "['(AGI)', '1950,', '1966,', '1970,', '2000,', '80', '90,', 'Eliza,', 'Esto', 'Joseph', 'Weizenbaum', 'actualidad,', 'amplia', 'analizar', 'antecedentes', 'análisis', 'aprender', 'aprender', 'aprendizaje', 'aprendizaje', 'artificial', 'artificial', 'artificial', 'artificial', 'artificial', 'artificial', 'artificial', 'atención', 'automático', 'autónomos', 'avances', 'años', 'cantidades', 'centró', 'centró', 'científicos', 'comenzaron', 'computadora', 'conocimiento', 'conversación', 'creación', 'creación', 'crear', 'datos', 'datos', 'datos,', 'decisiones.', 'desarrollado', 'desarrollo', 'detectar', 'década', 'década', 'década', 'ejemplos', 'expandió', 'expertos', 'expertos,', 'explorar', 'general', 'grandes', 'humana', 'humanos', 'industrias,', 'informático', 'inteligencia', 'inteligencia', 'inteligencia', 'inteligencia', 'inteligencia', 'inteligencia', 'inteligencia', 'lenguaje', 'lenguaje', 'llevando', 'llevó', 'línea.', 'mejorar', 'minería', 'mismas.', 'mismos.', 'máquinas', 'médica', 'natural,', 'natural,', 'patrones', 'pensar', 'permiten', 'permitió', 'podía', 'posibilidad', 'presente', 'primeros', 'procesamiento', 'procesamiento', 'profundo,', 'programa', 'publicidad', 'pudieran', 'remontan', 'robótica', 'robótica', 'simular', 'sistemas', 'sistemas', 'sistemas', 'sistemas', 'sofisticados', 'tecnologías', 'tomar', 'utilizaban', 'variedad', 'vez', 'visión', 'áreas,']\n"
     ]
    }
   ],
   "source": [
    "print(lista_completa)"
   ]
  },
  {
   "cell_type": "markdown",
   "id": "1b037c1f",
   "metadata": {},
   "source": [
    "### Contar palabras"
   ]
  },
  {
   "cell_type": "code",
   "execution_count": 49,
   "id": "426ed1d6",
   "metadata": {},
   "outputs": [
    {
     "name": "stdout",
     "output_type": "stream",
     "text": [
      "['(AGI)', '1950,', '1966,', '1970,', '2000,', '80', '90,', 'Eliza,', 'Esto', 'Joseph', 'Weizenbaum', 'actualidad,', 'amplia', 'analizar', 'antecedentes', 'análisis', 'aprender', 'aprender', 'aprendizaje', 'aprendizaje', 'artificial', 'artificial', 'artificial', 'artificial', 'artificial', 'artificial', 'artificial', 'atención', 'automático', 'autónomos', 'avances', 'años', 'cantidades', 'centró', 'centró', 'científicos', 'comenzaron', 'computadora', 'conocimiento', 'conversación', 'creación', 'creación', 'crear', 'datos', 'datos', 'datos,', 'decisiones.', 'desarrollado', 'desarrollo', 'detectar', 'década', 'década', 'década', 'ejemplos', 'expandió', 'expertos', 'expertos,', 'explorar', 'general', 'grandes', 'humana', 'humanos', 'industrias,', 'informático', 'inteligencia', 'inteligencia', 'inteligencia', 'inteligencia', 'inteligencia', 'inteligencia', 'inteligencia', 'lenguaje', 'lenguaje', 'llevando', 'llevó', 'línea.', 'mejorar', 'minería', 'mismas.', 'mismos.', 'máquinas', 'médica', 'natural,', 'natural,', 'patrones', 'pensar', 'permiten', 'permitió', 'podía', 'posibilidad', 'presente', 'primeros', 'procesamiento', 'procesamiento', 'profundo,', 'programa', 'publicidad', 'pudieran', 'remontan', 'robótica', 'robótica', 'simular', 'sistemas', 'sistemas', 'sistemas', 'sistemas', 'sofisticados', 'tecnologías', 'tomar', 'utilizaban', 'variedad', 'vez', 'visión', 'áreas,'] \n",
      "\n",
      "Frecuencias de palabras:  \n",
      " ['(AGI)', '1950,', '1966,', '1970,', '2000,', '80', '90,', 'Eliza,', 'Esto', 'Joseph', 'Weizenbaum', 'actualidad,', 'amplia', 'analizar', 'antecedentes', 'análisis', 'aprender', 'aprender', 'aprendizaje', 'aprendizaje', 'artificial', 'artificial', 'artificial', 'artificial', 'artificial', 'artificial', 'artificial', 'atención', 'automático', 'autónomos', 'avances', 'años', 'cantidades', 'centró', 'centró', 'científicos', 'comenzaron', 'computadora', 'conocimiento', 'conversación', 'creación', 'creación', 'crear', 'datos', 'datos', 'datos,', 'decisiones.', 'desarrollado', 'desarrollo', 'detectar', 'década', 'década', 'década', 'ejemplos', 'expandió', 'expertos', 'expertos,', 'explorar', 'general', 'grandes', 'humana', 'humanos', 'industrias,', 'informático', 'inteligencia', 'inteligencia', 'inteligencia', 'inteligencia', 'inteligencia', 'inteligencia', 'inteligencia', 'lenguaje', 'lenguaje', 'llevando', 'llevó', 'línea.', 'mejorar', 'minería', 'mismas.', 'mismos.', 'máquinas', 'médica', 'natural,', 'natural,', 'patrones', 'pensar', 'permiten', 'permitió', 'podía', 'posibilidad', 'presente', 'primeros', 'procesamiento', 'procesamiento', 'profundo,', 'programa', 'publicidad', 'pudieran', 'remontan', 'robótica', 'robótica', 'simular', 'sistemas', 'sistemas', 'sistemas', 'sistemas', 'sofisticados', 'tecnologías', 'tomar', 'utilizaban', 'variedad', 'vez', 'visión', 'áreas,'] \n",
      "\n",
      "Cantidad de elementos de la lista completa: \n",
      " 114 \n",
      "\n",
      "Frecuenciasde palabras:  \n",
      " [1, 1, 1, 1, 1, 1, 1, 1, 1, 1, 1, 1, 1, 1, 1, 1, 2, 2, 2, 2, 7, 7, 7, 7, 7, 7, 7, 1, 1, 1, 1, 1, 1, 2, 2, 1, 1, 1, 1, 1, 2, 2, 1, 2, 2, 1, 1, 1, 1, 1, 3, 3, 3, 1, 1, 1, 1, 1, 1, 1, 1, 1, 1, 1, 7, 7, 7, 7, 7, 7, 7, 2, 2, 1, 1, 1, 1, 1, 1, 1, 1, 1, 2, 2, 1, 1, 1, 1, 1, 1, 1, 1, 2, 2, 1, 1, 1, 1, 1, 2, 2, 1, 4, 4, 4, 4, 1, 1, 1, 1, 1, 1, 1, 1] \n",
      "\n",
      "Cantidad de elementos de la frecuencia de palabras:  \n",
      " 114 \n",
      "\n"
     ]
    }
   ],
   "source": [
    "lista_completa.sort()\n",
    "print(lista_completa, \"\\n\")\n",
    "\n",
    "frecuencia_palabras = []\n",
    "for p in lista_completa:\n",
    "    frecuencia_palabras.append(lista_completa.count(p))\n",
    "\n",
    "\n",
    "print(\"Frecuencias de palabras: \", \"\\n\", lista_completa, \"\\n\")\n",
    "print(\"Cantidad de elementos de la lista completa:\", \"\\n\", len(lista_completa), \"\\n\")    \n",
    "print(\"Frecuenciasde palabras: \", \"\\n\", frecuencia_palabras, \"\\n\")\n",
    "print(\"Cantidad de elementos de la frecuencia de palabras: \", \"\\n\", len(frecuencia_palabras), \"\\n\")\n",
    "\n"
   ]
  },
  {
   "cell_type": "markdown",
   "id": "16b7436d",
   "metadata": {},
   "source": [
    "### Crear un diccionario a partir de la lista\n",
    "\n",
    "Haciendo un recorrdio a la lista y preguntando por cada palabra, si la palabra no existe se agrega al diccionario en uno y se va incrementando el valor de cada palabra cada vez que se repite\n",
    "\n"
   ]
  },
  {
   "cell_type": "code",
   "execution_count": null,
   "id": "79b2657b",
   "metadata": {},
   "outputs": [],
   "source": [
    "diccionario = {}\n",
    "print(diccionario, \"\\n\")\n",
    "\n",
    "\n",
    "palabras = []\n",
    "frecuencia = []\n",
    "# Contar palabras de la lista\n",
    "for p in lista_completa:\n",
    "    \n",
    "              \n",
    "    "
   ]
  },
  {
   "cell_type": "code",
   "execution_count": null,
   "id": "ab7d8c8a",
   "metadata": {},
   "outputs": [],
   "source": [
    "### Elimina duplicados"
   ]
  },
  {
   "cell_type": "code",
   "execution_count": 50,
   "id": "68fdd5db",
   "metadata": {},
   "outputs": [
    {
     "name": "stdout",
     "output_type": "stream",
     "text": [
      "Palabras únicas ['(AGI)', '1950,', '1966,', '1970,', '2000,', '80', '90,', 'Eliza,', 'Esto', 'Joseph', 'Weizenbaum', 'actualidad,', 'amplia', 'analizar', 'antecedentes', 'análisis', 'aprender', 'aprendizaje', 'artificial', 'atención', 'automático', 'autónomos', 'avances', 'años', 'cantidades', 'centró', 'científicos', 'comenzaron', 'computadora', 'conocimiento', 'conversación', 'creación', 'crear', 'datos', 'datos,', 'decisiones.', 'desarrollado', 'desarrollo', 'detectar', 'década', 'ejemplos', 'expandió', 'expertos', 'expertos,', 'explorar', 'general', 'grandes', 'humana', 'humanos', 'industrias,', 'informático', 'inteligencia', 'lenguaje', 'llevando', 'llevó', 'línea.', 'mejorar', 'minería', 'mismas.', 'mismos.', 'máquinas', 'médica', 'natural,', 'patrones', 'pensar', 'permiten', 'permitió', 'podía', 'posibilidad', 'presente', 'primeros', 'procesamiento', 'profundo,', 'programa', 'publicidad', 'pudieran', 'remontan', 'robótica', 'simular', 'sistemas', 'sofisticados', 'tecnologías', 'tomar', 'utilizaban', 'variedad', 'vez', 'visión', 'áreas,'] \n",
      "\n"
     ]
    }
   ],
   "source": [
    "# Se recorre la lista_completa y pregunta si no existe para agregar a la lista palabra cada vez ue sea una nueva palabra\n",
    "palabras = []\n",
    "for p in lista_completa:\n",
    "    if p not in palabras:\n",
    "        palabras.append(p)\n",
    "        \n",
    "        \n",
    "print(\"Palabras únicas\", palabras, \"\\n\")        "
   ]
  },
  {
   "cell_type": "markdown",
   "id": "aa8457a1",
   "metadata": {},
   "source": [
    "### Contar cada palabra las veces que aparece\n",
    "\n",
    "Recorrer la lista de palabras y comparar con la lista_completa para determinar la frecuecia que aparece en lista_completa. Cada palabra se cuenta de manera independiente, reiniciando el contador que al final es la frecuencia de cada palabra\n"
   ]
  },
  {
   "cell_type": "code",
   "execution_count": 84,
   "id": "70f6e7f8",
   "metadata": {},
   "outputs": [
    {
     "name": "stdout",
     "output_type": "stream",
     "text": [
      "{'(AGI)': 1, '1950,': 1, '1966,': 1, '1970,': 1, '2000,': 1, '80': 1, '90,': 1, 'Eliza,': 1, 'Esto': 1, 'Joseph': 1, 'Weizenbaum': 1, 'actualidad,': 1, 'amplia': 1, 'analizar': 1, 'antecedentes': 1, 'análisis': 1, 'aprender': 2, 'aprendizaje': 2, 'artificial': 7, 'atención': 1, 'automático': 1, 'autónomos': 1, 'avances': 1, 'años': 1, 'cantidades': 1, 'centró': 2, 'científicos': 1, 'comenzaron': 1, 'computadora': 1, 'conocimiento': 1, 'conversación': 1, 'creación': 2, 'crear': 1, 'datos': 3, 'datos,': 1, 'decisiones.': 1, 'desarrollado': 1, 'desarrollo': 1, 'detectar': 1, 'década': 3, 'ejemplos': 1, 'expandió': 1, 'expertos': 2, 'expertos,': 1, 'explorar': 1, 'general': 1, 'grandes': 1, 'humana': 1, 'humanos': 1, 'industrias,': 1, 'informático': 1, 'inteligencia': 7, 'lenguaje': 2, 'llevando': 1, 'llevó': 1, 'línea.': 1, 'mejorar': 1, 'minería': 1, 'mismas.': 1, 'mismos.': 1, 'máquinas': 1, 'médica': 1, 'natural,': 2, 'patrones': 1, 'pensar': 1, 'permiten': 1, 'permitió': 1, 'podía': 1, 'posibilidad': 1, 'presente': 1, 'primeros': 1, 'procesamiento': 2, 'profundo,': 1, 'programa': 1, 'publicidad': 1, 'pudieran': 1, 'remontan': 1, 'robótica': 2, 'simular': 1, 'sistemas': 4, 'sofisticados': 1, 'tecnologías': 1, 'tomar': 1, 'utilizaban': 1, 'variedad': 1, 'vez': 1, 'visión': 1, 'áreas,': 1}\n"
     ]
    }
   ],
   "source": [
    "diccionario = {}\n",
    "for p in palabras:\n",
    "    contador = 0\n",
    "    for l in lista_completa:\n",
    "        if p in l:\n",
    "            contador = contador + 1\n",
    "    diccionario.update({str(p): contador})\n",
    "print(diccionario)\n",
    "    \n",
    "    "
   ]
  },
  {
   "cell_type": "markdown",
   "id": "a7beef83",
   "metadata": {},
   "source": [
    "### Ordenar el diccionario por la frecuencia\n",
    "\n",
    "Ordenar con sort de mayor a menor"
   ]
  },
  {
   "cell_type": "code",
   "execution_count": 85,
   "id": "b67a14f8",
   "metadata": {},
   "outputs": [
    {
     "name": "stdout",
     "output_type": "stream",
     "text": [
      "[('artificial', 7), ('inteligencia', 7), ('sistemas', 4), ('datos', 3), ('década', 3), ('aprender', 2), ('aprendizaje', 2), ('centró', 2), ('creación', 2), ('expertos', 2), ('lenguaje', 2), ('natural,', 2), ('procesamiento', 2), ('robótica', 2), ('(AGI)', 1), ('1950,', 1), ('1966,', 1), ('1970,', 1), ('2000,', 1), ('80', 1), ('90,', 1), ('Eliza,', 1), ('Esto', 1), ('Joseph', 1), ('Weizenbaum', 1), ('actualidad,', 1), ('amplia', 1), ('analizar', 1), ('antecedentes', 1), ('análisis', 1), ('atención', 1), ('automático', 1), ('autónomos', 1), ('avances', 1), ('años', 1), ('cantidades', 1), ('científicos', 1), ('comenzaron', 1), ('computadora', 1), ('conocimiento', 1), ('conversación', 1), ('crear', 1), ('datos,', 1), ('decisiones.', 1), ('desarrollado', 1), ('desarrollo', 1), ('detectar', 1), ('ejemplos', 1), ('expandió', 1), ('expertos,', 1), ('explorar', 1), ('general', 1), ('grandes', 1), ('humana', 1), ('humanos', 1), ('industrias,', 1), ('informático', 1), ('llevando', 1), ('llevó', 1), ('línea.', 1), ('mejorar', 1), ('minería', 1), ('mismas.', 1), ('mismos.', 1), ('máquinas', 1), ('médica', 1), ('patrones', 1), ('pensar', 1), ('permiten', 1), ('permitió', 1), ('podía', 1), ('posibilidad', 1), ('presente', 1), ('primeros', 1), ('profundo,', 1), ('programa', 1), ('publicidad', 1), ('pudieran', 1), ('remontan', 1), ('simular', 1), ('sofisticados', 1), ('tecnologías', 1), ('tomar', 1), ('utilizaban', 1), ('variedad', 1), ('vez', 1), ('visión', 1), ('áreas,', 1)]\n"
     ]
    }
   ],
   "source": [
    "import operator\n",
    "diccionario_ord = sorted(diccionario.items(), key=operator.itemgetter(1), reverse=True)\n",
    "\n",
    "print(diccionario_ord)"
   ]
  },
  {
   "cell_type": "code",
   "execution_count": 80,
   "id": "20c0b959",
   "metadata": {},
   "outputs": [
    {
     "data": {
      "text/plain": [
       "{0: 'permitió',\n",
       " 1: 'automático',\n",
       " 2: 'línea.',\n",
       " 3: 'sofisticados',\n",
       " 4: '1970,',\n",
       " 5: '90,',\n",
       " 6: 'avances',\n",
       " 7: 'detectar',\n",
       " 8: 'utilizaban',\n",
       " 9: 'expertos',\n",
       " 10: 'crear',\n",
       " 11: 'pensar',\n",
       " 12: 'podía',\n",
       " 13: 'posibilidad',\n",
       " 14: 'procesamiento',\n",
       " 15: 'pudieran',\n",
       " 16: 'científicos',\n",
       " 17: 'conversación',\n",
       " 18: 'amplia',\n",
       " 19: 'explorar',\n",
       " 20: 'patrones',\n",
       " 21: 'cantidades',\n",
       " 22: 'simular',\n",
       " 23: 'aprender',\n",
       " 24: 'lenguaje',\n",
       " 25: 'mismas.',\n",
       " 26: 'década',\n",
       " 27: 'datos',\n",
       " 28: 'atención',\n",
       " 29: 'remontan',\n",
       " 30: 'centró',\n",
       " 31: 'creación',\n",
       " 32: 'conocimiento',\n",
       " 33: 'humanos',\n",
       " 34: 'artificial',\n",
       " 35: 'comenzaron',\n",
       " 36: 'ejemplos',\n",
       " 37: 'años',\n",
       " 38: 'general',\n",
       " 39: 'permiten',\n",
       " 40: 'minería',\n",
       " 41: 'computadora',\n",
       " 42: '1950,',\n",
       " 43: 'desarrollo',\n",
       " 44: '1966,',\n",
       " 45: 'vez',\n",
       " 46: '2000,',\n",
       " 47: 'Eliza,',\n",
       " 48: 'publicidad',\n",
       " 49: 'Joseph',\n",
       " 50: 'variedad',\n",
       " 51: 'sistemas',\n",
       " 52: 'autónomos',\n",
       " 53: 'natural,',\n",
       " 54: 'humana',\n",
       " 55: 'actualidad,',\n",
       " 56: 'profundo,',\n",
       " 57: 'máquinas',\n",
       " 58: 'inteligencia',\n",
       " 59: 'aprendizaje',\n",
       " 60: 'áreas,',\n",
       " 61: 'decisiones.',\n",
       " 62: 'llevando',\n",
       " 63: 'robótica',\n",
       " 64: 'desarrollado',\n",
       " 65: 'primeros',\n",
       " 66: 'informático',\n",
       " 67: 'presente',\n",
       " 68: 'datos,',\n",
       " 69: 'industrias,',\n",
       " 70: '80',\n",
       " 71: 'análisis',\n",
       " 72: 'analizar',\n",
       " 73: 'visión',\n",
       " 74: 'llevó',\n",
       " 75: 'mismos.',\n",
       " 76: 'mejorar',\n",
       " 77: 'médica',\n",
       " 78: 'programa',\n",
       " 79: 'grandes',\n",
       " 80: 'Weizenbaum',\n",
       " 81: 'tecnologías',\n",
       " 82: 'antecedentes',\n",
       " 83: 'Esto',\n",
       " 84: 'tomar',\n",
       " 85: 'expertos,',\n",
       " 86: 'expandió',\n",
       " 87: '(AGI)'}"
      ]
     },
     "execution_count": 80,
     "metadata": {},
     "output_type": "execute_result"
    }
   ],
   "source": [
    "# diccionario = dict(enumerate(set(lista_completa)))\n",
    "# diccionario"
   ]
  }
 ],
 "metadata": {
  "kernelspec": {
   "display_name": "Python 3 (ipykernel)",
   "language": "python",
   "name": "python3"
  },
  "language_info": {
   "codemirror_mode": {
    "name": "ipython",
    "version": 3
   },
   "file_extension": ".py",
   "mimetype": "text/x-python",
   "name": "python",
   "nbconvert_exporter": "python",
   "pygments_lexer": "ipython3",
   "version": "3.9.12"
  }
 },
 "nbformat": 4,
 "nbformat_minor": 5
}
