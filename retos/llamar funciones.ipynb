{
 "cells": [
  {
   "cell_type": "markdown",
   "id": "6ddde525-e6af-4080-8442-25810af4c127",
   "metadata": {},
   "source": [
    "# Mandar llamar funciones del archivo saludos\n"
   ]
  },
  {
   "cell_type": "code",
   "execution_count": 1,
   "id": "00c4aa88-e697-40cc-93e5-0ab189370bef",
   "metadata": {},
   "outputs": [],
   "source": [
    "# Importar el archivo saludos.py\n",
    "# Mandar llamar el archivo para reutilizar sus funciones\n",
    "\n",
    "from saludos import *"
   ]
  },
  {
   "cell_type": "code",
   "execution_count": 3,
   "id": "57256812-f0b4-4dce-b7e0-84680f6f445a",
   "metadata": {},
   "outputs": [
    {
     "name": "stdout",
     "output_type": "stream",
     "text": [
      "Hola desde saludo\n"
     ]
    }
   ],
   "source": [
    "# LLamar saludo\n",
    "\n",
    "saludo()\n"
   ]
  },
  {
   "cell_type": "code",
   "execution_count": 4,
   "id": "160c633f-e534-41ce-8559-7b50d036c877",
   "metadata": {},
   "outputs": [
    {
     "name": "stdout",
     "output_type": "stream",
     "text": [
      "Hola desde saludo arg Hola  Ruben\n"
     ]
    }
   ],
   "source": [
    "saludo_arg(\"Ruben\")"
   ]
  },
  {
   "cell_type": "code",
   "execution_count": 6,
   "id": "79e0787e-b1b1-463c-b8b1-cd0312ad27bb",
   "metadata": {},
   "outputs": [
    {
     "data": {
      "text/plain": [
       "'Regresa un valor desde saludo_devuelveHola:Ruben'"
      ]
     },
     "execution_count": 6,
     "metadata": {},
     "output_type": "execute_result"
    }
   ],
   "source": [
    "saludo_devuelve(\"Ruben\")"
   ]
  },
  {
   "cell_type": "code",
   "execution_count": 5,
   "id": "7f40a184-12f8-43fa-8b7c-9eea83f1a2e8",
   "metadata": {},
   "outputs": [
    {
     "data": {
      "text/plain": [
       "{'1000': {'nombre': 'RUBEN', 'edad': 25, 'estado': 'DURANGO', 'genero': 'M'},\n",
       " '1002': {'nombre': 'JORGE', 'edad': 26, 'estado': 'CHIHUAHUA', 'genero': 'M'},\n",
       " '1020': {'nombre': 'MARY', 'edad': 20, 'estado': 'DURANGO', 'genero': 'F'},\n",
       " '1010': {'nombre': 'MAYELA',\n",
       "  'edad': 22,\n",
       "  'estado': 'CHIHUAHUA',\n",
       "  'genero': 'F'},\n",
       " '1012': {'nombre': 'MAYRA', 'edad': 22, 'estado': 'DURANGO', 'genero': 'F'}}"
      ]
     },
     "execution_count": 5,
     "metadata": {},
     "output_type": "execute_result"
    }
   ],
   "source": [
    "people = crear_diccionario()\n",
    "people"
   ]
  }
 ],
 "metadata": {
  "kernelspec": {
   "display_name": "Python 3 (ipykernel)",
   "language": "python",
   "name": "python3"
  },
  "language_info": {
   "codemirror_mode": {
    "name": "ipython",
    "version": 3
   },
   "file_extension": ".py",
   "mimetype": "text/x-python",
   "name": "python",
   "nbconvert_exporter": "python",
   "pygments_lexer": "ipython3",
   "version": "3.9.12"
  }
 },
 "nbformat": 4,
 "nbformat_minor": 5
}
