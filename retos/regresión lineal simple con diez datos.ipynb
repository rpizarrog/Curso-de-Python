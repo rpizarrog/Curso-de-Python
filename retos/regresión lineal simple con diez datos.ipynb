{
 "cells": [
  {
   "cell_type": "markdown",
   "id": "9ec7ac05",
   "metadata": {},
   "source": [
    "# Objetivo\n",
    "Construir y evaluar un modelo de regresón lineal simple con datos de dos variables (x e y) con los cuales se pueda predecir un valor con el modelo. Evaluar el R Square y RMSE Root Mean Square Error."
   ]
  },
  {
   "cell_type": "markdown",
   "id": "f94426d0",
   "metadata": {},
   "source": [
    "# Cargar librerías"
   ]
  },
  {
   "cell_type": "code",
   "execution_count": 6,
   "id": "b9a06309",
   "metadata": {},
   "outputs": [],
   "source": [
    "import pandas as pd\n",
    "import numpy as np\n",
    "from sklearn import linear_model\n",
    "# from sklearn.metrics import mean_squared_error, r2_score\n",
    "import matplotlib.pyplot as plt\n",
    "#%matplotlib inline"
   ]
  },
  {
   "cell_type": "markdown",
   "id": "c8e143bd",
   "metadata": {},
   "source": [
    "# Cargar datos"
   ]
  },
  {
   "cell_type": "code",
   "execution_count": 32,
   "id": "9f8135de",
   "metadata": {},
   "outputs": [
    {
     "name": "stdout",
     "output_type": "stream",
     "text": [
      "    x\n",
      "0  10\n",
      "1  11\n",
      "2  13\n",
      "3  15\n",
      "4  13\n",
      "5  12\n",
      "6  10\n",
      "7  11\n",
      "8  15\n",
      "9  10\n"
     ]
    }
   ],
   "source": [
    "datos = pd.read_csv(\"https://raw.githubusercontent.com/rpizarrog/Curso-de-Python/main/datos/datos%20para%20regresion%20diez%20datos.csv\")\n",
    "datos\n",
    "\n",
    "# print(datos[['x']])"
   ]
  },
  {
   "cell_type": "markdown",
   "id": "fb5cb507",
   "metadata": {},
   "source": [
    "# Describir estadísticamente los datos"
   ]
  },
  {
   "cell_type": "code",
   "execution_count": 18,
   "id": "a840995b",
   "metadata": {},
   "outputs": [
    {
     "data": {
      "text/html": [
       "<div>\n",
       "<style scoped>\n",
       "    .dataframe tbody tr th:only-of-type {\n",
       "        vertical-align: middle;\n",
       "    }\n",
       "\n",
       "    .dataframe tbody tr th {\n",
       "        vertical-align: top;\n",
       "    }\n",
       "\n",
       "    .dataframe thead th {\n",
       "        text-align: right;\n",
       "    }\n",
       "</style>\n",
       "<table border=\"1\" class=\"dataframe\">\n",
       "  <thead>\n",
       "    <tr style=\"text-align: right;\">\n",
       "      <th></th>\n",
       "      <th>x</th>\n",
       "      <th>y</th>\n",
       "    </tr>\n",
       "  </thead>\n",
       "  <tbody>\n",
       "    <tr>\n",
       "      <th>count</th>\n",
       "      <td>10.000000</td>\n",
       "      <td>10.000000</td>\n",
       "    </tr>\n",
       "    <tr>\n",
       "      <th>mean</th>\n",
       "      <td>12.000000</td>\n",
       "      <td>17.000000</td>\n",
       "    </tr>\n",
       "    <tr>\n",
       "      <th>std</th>\n",
       "      <td>1.943651</td>\n",
       "      <td>1.563472</td>\n",
       "    </tr>\n",
       "    <tr>\n",
       "      <th>min</th>\n",
       "      <td>10.000000</td>\n",
       "      <td>15.000000</td>\n",
       "    </tr>\n",
       "    <tr>\n",
       "      <th>25%</th>\n",
       "      <td>10.250000</td>\n",
       "      <td>16.000000</td>\n",
       "    </tr>\n",
       "    <tr>\n",
       "      <th>50%</th>\n",
       "      <td>11.500000</td>\n",
       "      <td>16.500000</td>\n",
       "    </tr>\n",
       "    <tr>\n",
       "      <th>75%</th>\n",
       "      <td>13.000000</td>\n",
       "      <td>17.750000</td>\n",
       "    </tr>\n",
       "    <tr>\n",
       "      <th>max</th>\n",
       "      <td>15.000000</td>\n",
       "      <td>20.000000</td>\n",
       "    </tr>\n",
       "  </tbody>\n",
       "</table>\n",
       "</div>"
      ],
      "text/plain": [
       "               x          y\n",
       "count  10.000000  10.000000\n",
       "mean   12.000000  17.000000\n",
       "std     1.943651   1.563472\n",
       "min    10.000000  15.000000\n",
       "25%    10.250000  16.000000\n",
       "50%    11.500000  16.500000\n",
       "75%    13.000000  17.750000\n",
       "max    15.000000  20.000000"
      ]
     },
     "execution_count": 18,
     "metadata": {},
     "output_type": "execute_result"
    }
   ],
   "source": [
    "datos.describe()"
   ]
  },
  {
   "cell_type": "markdown",
   "id": "d50c6e29",
   "metadata": {},
   "source": [
    "# Visualizar la dispersión de los valores x e y"
   ]
  },
  {
   "cell_type": "code",
   "execution_count": 17,
   "id": "447c9d9d",
   "metadata": {},
   "outputs": [
    {
     "data": {
      "text/plain": [
       "[<matplotlib.lines.Line2D at 0x2249148a8b0>]"
      ]
     },
     "execution_count": 17,
     "metadata": {},
     "output_type": "execute_result"
    },
    {
     "data": {
      "image/png": "[encoded data removed]",
      "text/plain": [
       "<Figure size 432x288 with 1 Axes>"
      ]
     },
     "metadata": {
      "needs_background": "light"
     },
     "output_type": "display_data"
    }
   ],
   "source": [
    "plt.plot(datos['x'], datos['y'], \"o\", color= 'blue') # Pon puntos"
   ]
  },
  {
   "cell_type": "markdown",
   "id": "f3938e83",
   "metadata": {},
   "source": [
    "# Determinar la correlación estadística \n"
   ]
  },
  {
   "cell_type": "code",
   "execution_count": 22,
   "id": "7524bd5d",
   "metadata": {},
   "outputs": [
    {
     "name": "stdout",
     "output_type": "stream",
     "text": [
      "Valor de la Correlacion de Pearson estadística es 0.91\n"
     ]
    }
   ],
   "source": [
    "r = round(datos['x'].corr(datos['y'], method='pearson'),2)\n",
    "print(\"Valor de la Correlacion de Pearson estadística es\", r)"
   ]
  },
  {
   "cell_type": "markdown",
   "id": "47de7709",
   "metadata": {},
   "source": [
    "# R Square \n",
    "es elevar al cuadrado la correlación r\n",
    "¿Que significa R Square?. Es cuanto representa el valor de x al valor de y, o lo que representa la variable independiente (x) a la variable dependiente (y). También significa cuanto significado estadísticamente hablando tiene x sobre y o cuanto impacta estadísticamente habñando x sobre y.\n",
    "\n",
    "\n"
   ]
  },
  {
   "cell_type": "code",
   "execution_count": 23,
   "id": "b5e390b3",
   "metadata": {},
   "outputs": [
    {
     "name": "stdout",
     "output_type": "stream",
     "text": [
      "0.8281000000000001\n"
     ]
    }
   ],
   "source": [
    "r_square = r ** 2\n",
    "print(r_square)"
   ]
  },
  {
   "cell_type": "markdown",
   "id": "3d50cb39",
   "metadata": {},
   "source": [
    "# Construir el modelo de regresión Lineal Simple\n",
    "\n",
    "\n",
    "$$\n",
    "Y = a + b \\cdot x\n",
    "$$\n",
    "\n",
    "- a es la intercepción \n",
    "- b es la pendiente\n",
    "- x es el valor de x o variable dependiente que se utilizará para predecir los valores de y\n"
   ]
  },
  {
   "cell_type": "code",
   "execution_count": 25,
   "id": "ff7c8b78",
   "metadata": {},
   "outputs": [
    {
     "data": {
      "text/plain": [
       "LinearRegression()"
      ]
     },
     "execution_count": 25,
     "metadata": {},
     "output_type": "execute_result"
    }
   ],
   "source": [
    "modelo = linear_model.LinearRegression()\n",
    "modelo"
   ]
  },
  {
   "cell_type": "code",
   "execution_count": 33,
   "id": "24f37e5b",
   "metadata": {},
   "outputs": [
    {
     "name": "stdout",
     "output_type": "stream",
     "text": [
      "[[10]\n",
      " [11]\n",
      " [13]\n",
      " [15]\n",
      " [13]\n",
      " [12]\n",
      " [10]\n",
      " [11]\n",
      " [15]\n",
      " [10]]\n",
      "[[15]\n",
      " [16]\n",
      " [18]\n",
      " [19]\n",
      " [17]\n",
      " [16]\n",
      " [16]\n",
      " [17]\n",
      " [20]\n",
      " [16]]\n"
     ]
    },
    {
     "data": {
      "text/plain": [
       "LinearRegression()"
      ]
     },
     "execution_count": 33,
     "metadata": {},
     "output_type": "execute_result"
    }
   ],
   "source": [
    "# Crear variables x e y libres de los datos a arregos numpy y \n",
    "# utilizarlas para ajustar (fit) el modelo previamente creado\n",
    "\n",
    "x = datos[['x']].to_numpy()\n",
    "y = datos[['y']].to_numpy()\n",
    "print(x)\n",
    "print(y)\n",
    "\n",
    "# Preparando los areglos numpy\n",
    "modelo.fit(x, y)"
   ]
  },
  {
   "cell_type": "markdown",
   "id": "ae4583c5",
   "metadata": {},
   "source": [
    "# Hacer predicciones con valores de x"
   ]
  },
  {
   "cell_type": "code",
   "execution_count": 34,
   "id": "c9df11ed",
   "metadata": {},
   "outputs": [
    {
     "data": {
      "text/plain": [
       "[<matplotlib.lines.Line2D at 0x22493951160>]"
      ]
     },
     "execution_count": 34,
     "metadata": {},
     "output_type": "execute_result"
    },
    {
     "data": {
      "image/png": "[encoded data removed]",
      "text/plain": [
       "<Figure size 432x288 with 1 Axes>"
      ]
     },
     "metadata": {
      "needs_background": "light"
     },
     "output_type": "display_data"
    }
   ],
   "source": [
    "predicciones = modelo.predict(x)\n",
    "\n",
    "# Representar el diagrama de dispersión en azul con las \n",
    "# predicciones o linea de tendencia en color rojo\n",
    "plt.plot(x, y, 'o', color= 'blue')\n",
    "plt.plot(x, predicciones, color=\"red\") \n"
   ]
  },
  {
   "cell_type": "markdown",
   "id": "5cf4f015",
   "metadata": {},
   "source": [
    "# Conocer los coeficientes de a y b que participan en la fórmula \n",
    "\n",
    "$$\n",
    "Y = a + b\\cdot x\n",
    "$$"
   ]
  },
  {
   "cell_type": "code",
   "execution_count": 35,
   "id": "89f1e9b3",
   "metadata": {},
   "outputs": [
    {
     "name": "stdout",
     "output_type": "stream",
     "text": [
      "Valor de a:  [8.17647059]\n",
      "Valor de b:  [[0.73529412]]\n"
     ]
    }
   ],
   "source": [
    "b = modelo.coef_   # Representa la pendiente\n",
    "a = modelo.intercept_  # Representa el valor del cruce de el valor \"y\" con la pendiente abcisa\n",
    "print(\"Valor de a: \", a)\n",
    "print(\"Valor de b: \", b)"
   ]
  },
  {
   "cell_type": "code",
   "execution_count": 38,
   "id": "e7d72594",
   "metadata": {},
   "outputs": [
    {
     "name": "stdout",
     "output_type": "stream",
     "text": [
      "[[18.76470588]]\n"
     ]
    }
   ],
   "source": [
    "# pred_simple = a + bx\n",
    "pred_simple = a + b * 14.4\n",
    "print(pred_simple)"
   ]
  },
  {
   "cell_type": "code",
   "execution_count": 39,
   "id": "9660e77a",
   "metadata": {},
   "outputs": [
    {
     "name": "stdout",
     "output_type": "stream",
     "text": [
      "La predicción con x = 14.4 es:  [[18.7647]]\n"
     ]
    }
   ],
   "source": [
    "# Prediccion con la función predict()\n",
    "Y_pred = modelo.predict(np.array([[14.4]]))\n",
    "print(\"La predicción con x = 14.4 es: \", np.round(Y_pred, 4))"
   ]
  },
  {
   "cell_type": "code",
   "execution_count": null,
   "id": "5e18a3fe",
   "metadata": {},
   "outputs": [],
   "source": []
  }
 ],
 "metadata": {
  "kernelspec": {
   "display_name": "Python 3 (ipykernel)",
   "language": "python",
   "name": "python3"
  },
  "language_info": {
   "codemirror_mode": {
    "name": "ipython",
    "version": 3
   },
   "file_extension": ".py",
   "mimetype": "text/x-python",
   "name": "python",
   "nbconvert_exporter": "python",
   "pygments_lexer": "ipython3",
   "version": "3.9.12"
  }
 },
 "nbformat": 4,
 "nbformat_minor": 5
}
