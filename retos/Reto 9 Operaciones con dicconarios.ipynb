{
 "cells": [
  {
   "cell_type": "markdown",
   "id": "2f46d7b0",
   "metadata": {},
   "source": [
    "# Reto 8 Crear diccionarios\n",
    "\n",
    "## Objetivo\n",
    "\n",
    "Crear un diccionario aninado de nombres, edades, generos y estudios de una persona. La clave es el número de control o similar.\n",
    "\n",
    "## Descripción \n",
    "\n",
    "- Crear un diccionario anidado cuya llave sea el nocontrol con 5 estudiantes con estos atributos:\n",
    "\n",
    "    - Los nombres: son nombres de pila de personas PUEDEN SER minúsculas Y MAYÚSCULAS\n",
    "    - Las edades: son valores numéricos\n",
    "    - Los géneros: debe ser \"F\" Femenino \"M\" Masculino, MAYÚSCULAS o minúsculas \n",
    "- Imprimir el diccionario\n",
    "- Convertir los nombres y los géneros a solo MAYÚSCULAS. Usar ciclo u otra alternativa iterando el dicconario\n",
    "    - Agregar el elemento carrera al dicconario con los 5 elementos\n",
    "- Imprimir el diccionario\n",
    "- Copiar el diccionario a otro diccionario de tal forma de que se tengan dos dicconarios iguales\n",
    "- Agregar elemento carrera al diccionario personas con letras MAYÚSCULAS\n",
    "- Agregar otros 3 elementos al diccionario original incluynedo la carrera\n",
    "- Mostrar el diccioanrio ordenado ascendente la clave \n",
    "- Ordenar el diccionario original con los 8 elementos sorted(key)\n",
    "- Extraer del diccionario solo los elementos cuyo género sea 'F' y convertir esta extracción a una lista. Iterar\n",
    "- Presentar la lista\n",
    "- Extraer del diccionario tres listas por carrera\n",
    "- Presentar la listas\n",
    "\n",
    "\n",
    "\n"
   ]
  },
  {
   "cell_type": "markdown",
   "id": "d031d458",
   "metadata": {},
   "source": [
    "## Desarrollo"
   ]
  },
  {
   "cell_type": "code",
   "execution_count": 1,
   "id": "f1fc10ee",
   "metadata": {},
   "outputs": [
    {
     "data": {
      "text/plain": [
       "{'1000': {'nombre': 'rubén', 'edad': 30, 'genero': 'm'},\n",
       " '1002': {'nombre': 'JUAN', 'edad': 25, 'genero': 'M'},\n",
       " '1004': {'nombre': 'Adriana', 'edad': 20, 'genero': 'F'},\n",
       " '1006': {'nombre': 'MAry', 'edad': 25, 'genero': 'F'},\n",
       " '1008': {'nombre': 'Gerardo', 'edad': 22, 'genero': 'M'}}"
      ]
     },
     "execution_count": 1,
     "metadata": {},
     "output_type": "execute_result"
    }
   ],
   "source": [
    "# Crear y visualziar el dicconario\n",
    "personas = {\n",
    "    \"1000\": {\"nombre\": \"rubén\", \"edad\": 30, \"genero\": \"m\"},\n",
    "    \"1002\": {\"nombre\": \"JUAN\", \"edad\": 25, \"genero\": \"M\"},\n",
    "    \"1004\": {\"nombre\": \"Adriana\", \"edad\": 20, \"genero\": \"F\"},\n",
    "    \"1006\": {\"nombre\": \"MAry\", \"edad\": 25, \"genero\": \"F\"},\n",
    "    \"1008\": {\"nombre\": \"Gerardo\", \"edad\": 22, \"genero\": \"M\"},\n",
    "    \n",
    "}\n",
    "personas"
   ]
  },
  {
   "cell_type": "code",
   "execution_count": 2,
   "id": "837da330",
   "metadata": {},
   "outputs": [
    {
     "data": {
      "text/plain": [
       "{'1000': {'nombre': 'RUBÉN', 'edad': 30, 'genero': 'M'},\n",
       " '1002': {'nombre': 'JUAN', 'edad': 25, 'genero': 'M'},\n",
       " '1004': {'nombre': 'ADRIANA', 'edad': 20, 'genero': 'F'},\n",
       " '1006': {'nombre': 'MARY', 'edad': 25, 'genero': 'F'},\n",
       " '1008': {'nombre': 'GERARDO', 'edad': 22, 'genero': 'M'}}"
      ]
     },
     "execution_count": 2,
     "metadata": {},
     "output_type": "execute_result"
    }
   ],
   "source": [
    "# Convertir a mayúsculas nombre y género\n",
    "for persona in personas:\n",
    "    personas[persona][\"nombre\"] = personas[persona][\"nombre\"].upper()\n",
    "    personas[persona][\"genero\"] = personas[persona][\"genero\"].upper()\n",
    "    \n",
    "personas    \n",
    "    \n"
   ]
  },
  {
   "cell_type": "code",
   "execution_count": 4,
   "id": "527b2538",
   "metadata": {},
   "outputs": [
    {
     "data": {
      "text/plain": [
       "{'1000': {'nombre': 'RUBÉN', 'edad': 30, 'genero': 'M'},\n",
       " '1002': {'nombre': 'JUAN', 'edad': 25, 'genero': 'M'},\n",
       " '1004': {'nombre': 'ADRIANA', 'edad': 20, 'genero': 'F'},\n",
       " '1006': {'nombre': 'MARY', 'edad': 25, 'genero': 'F'},\n",
       " '1008': {'nombre': 'GERARDO', 'edad': 22, 'genero': 'M'}}"
      ]
     },
     "execution_count": 4,
     "metadata": {},
     "output_type": "execute_result"
    }
   ],
   "source": [
    "# - Copiar el diccionario a otro diccionaro de tal forma de que se tengan dos dicconarios iguales\n",
    "\n",
    "copia_personas = personas.copy()\n",
    "copia_personas\n"
   ]
  },
  {
   "cell_type": "code",
   "execution_count": 3,
   "id": "254a5f16",
   "metadata": {},
   "outputs": [
    {
     "data": {
      "text/plain": [
       "{'1000': {'nombre': 'RUBÉN', 'edad': 30, 'genero': 'M', 'carrera': 'SISTEMAS'},\n",
       " '1002': {'nombre': 'JUAN', 'edad': 25, 'genero': 'M', 'carrera': 'TIC'},\n",
       " '1004': {'nombre': 'ADRIANA',\n",
       "  'edad': 20,\n",
       "  'genero': 'F',\n",
       "  'carrera': 'INFORMATICA'},\n",
       " '1006': {'nombre': 'MARY', 'edad': 25, 'genero': 'F', 'carrera': 'SISTEMAS'},\n",
       " '1008': {'nombre': 'GERARDO',\n",
       "  'edad': 22,\n",
       "  'genero': 'M',\n",
       "  'carrera': 'INFORMATICA'}}"
      ]
     },
     "execution_count": 3,
     "metadata": {},
     "output_type": "execute_result"
    }
   ],
   "source": [
    "# Agregar elemento carrera al dicconario\n",
    "\n",
    "personas[\"1000\"][\"carrera\"] = \"SISTEMAS\"\n",
    "personas[\"1002\"][\"carrera\"] = \"TIC\"\n",
    "personas[\"1004\"][\"carrera\"] = \"INFORMATICA\"\n",
    "personas[\"1006\"][\"carrera\"] = \"SISTEMAS\"\n",
    "personas[\"1008\"][\"carrera\"] = \"INFORMATICA\"    \n",
    "    \n",
    "personas\n",
    "    "
   ]
  },
  {
   "cell_type": "code",
   "execution_count": 4,
   "id": "e0775c9b",
   "metadata": {},
   "outputs": [
    {
     "data": {
      "text/plain": [
       "{'1000': {'nombre': 'RUBÉN', 'edad': 30, 'genero': 'M', 'carrera': 'SISTEMAS'},\n",
       " '1002': {'nombre': 'JUAN', 'edad': 25, 'genero': 'M', 'carrera': 'TIC'},\n",
       " '1004': {'nombre': 'ADRIANA',\n",
       "  'edad': 20,\n",
       "  'genero': 'F',\n",
       "  'carrera': 'INFORMATICA'},\n",
       " '1006': {'nombre': 'MARY', 'edad': 25, 'genero': 'F', 'carrera': 'SISTEMAS'},\n",
       " '1008': {'nombre': 'GERARDO',\n",
       "  'edad': 22,\n",
       "  'genero': 'M',\n",
       "  'carrera': 'INFORMATICA'},\n",
       " '0050': {'nombre': 'GABY', 'edad': 24, 'genero': 'F', 'carrera': 'TIC'},\n",
       " '0060': {'nombre': 'LULU', 'edad': 22, 'genero': 'F', 'carrera': 'TIC'},\n",
       " '0070': {'nombre': 'MARIO', 'edad': 20, 'genero': 'm', 'carrera': 'SISTEMAS'}}"
      ]
     },
     "execution_count": 4,
     "metadata": {},
     "output_type": "execute_result"
    }
   ],
   "source": [
    "# Agregar otros 3 elementos al diccionario original incluynedo la carrera\n",
    "personas[\"0050\"] = {'nombre': 'GABY', 'edad': 24, 'genero': 'F', 'carrera': 'TIC'}\n",
    "personas[\"0060\"] = {'nombre': 'LULU', 'edad': 22, 'genero': 'F', 'carrera': 'TIC'}\n",
    "personas[\"0070\"] = {'nombre': 'MARIO', 'edad': 20, 'genero': 'm', 'carrera': 'SISTEMAS'}\n",
    "\n",
    "personas\n",
    "\n"
   ]
  },
  {
   "cell_type": "code",
   "execution_count": 5,
   "id": "a5c51292",
   "metadata": {},
   "outputs": [
    {
     "name": "stdout",
     "output_type": "stream",
     "text": [
      "Claves dict_keys(['1000', '1002', '1004', '1006', '1008', '0050', '0060', '0070'])\n",
      "Ordenadas ['0050', '0060', '0070', '1000', '1002', '1004', '1006', '1008']\n",
      "Diccionario ordenado\n",
      "0050: {'nombre': 'GABY', 'edad': 24, 'genero': 'F', 'carrera': 'TIC'}\n",
      "0060: {'nombre': 'LULU', 'edad': 22, 'genero': 'F', 'carrera': 'TIC'}\n",
      "0070: {'nombre': 'MARIO', 'edad': 20, 'genero': 'm', 'carrera': 'SISTEMAS'}\n",
      "1000: {'nombre': 'RUBÉN', 'edad': 30, 'genero': 'M', 'carrera': 'SISTEMAS'}\n",
      "1002: {'nombre': 'JUAN', 'edad': 25, 'genero': 'M', 'carrera': 'TIC'}\n",
      "1004: {'nombre': 'ADRIANA', 'edad': 20, 'genero': 'F', 'carrera': 'INFORMATICA'}\n",
      "1006: {'nombre': 'MARY', 'edad': 25, 'genero': 'F', 'carrera': 'SISTEMAS'}\n",
      "1008: {'nombre': 'GERARDO', 'edad': 22, 'genero': 'M', 'carrera': 'INFORMATICA'}\n"
     ]
    }
   ],
   "source": [
    "# Imprimir ordenado el diccionario\n",
    "\n",
    "# Obtener las claves del diccionario anidado\n",
    "claves = personas.keys()\n",
    "print(\"Claves\", claves)\n",
    "\n",
    "# Ordenar las claves alfabéticamente\n",
    "claves_ordenadas = sorted(claves)\n",
    "print(\"Ordenadas\", claves_ordenadas)\n",
    "\n",
    "print(\"Diccionario ordenado\")\n",
    "\n",
    "# Imprimir las claves y valores del diccionario en orden\n",
    "for clave in claves_ordenadas:\n",
    "    valor = personas[clave]\n",
    "    print(clave + \": \" + str(valor))"
   ]
  },
  {
   "cell_type": "code",
   "execution_count": 21,
   "id": "d778c937",
   "metadata": {},
   "outputs": [
    {
     "data": {
      "text/plain": [
       "{'1000': {'nombre': 'RUBÉN', 'edad': 30, 'genero': 'M', 'carrera': 'SISTEMAS'},\n",
       " '1002': {'nombre': 'JUAN', 'edad': 25, 'genero': 'M', 'carrera': 'TIC'},\n",
       " '1004': {'nombre': 'ADRIANA',\n",
       "  'edad': 20,\n",
       "  'genero': 'F',\n",
       "  'carrera': 'INFORMATICA'},\n",
       " '1006': {'nombre': 'MARY', 'edad': 25, 'genero': 'F', 'carrera': 'SISTEMAS'},\n",
       " '1008': {'nombre': 'GERARDO',\n",
       "  'edad': 22,\n",
       "  'genero': 'M',\n",
       "  'carrera': 'INFORMATICA'},\n",
       " '0050': {'nombre': 'GABY', 'edad': 24, 'genero': 'F', 'carrera': 'TIC'},\n",
       " '0060': {'nombre': 'LULU', 'edad': 22, 'genero': 'F', 'carrera': 'TIC'},\n",
       " '0070': {'nombre': 'MARIO', 'edad': 20, 'genero': 'm', 'carrera': 'SISTEMAS'}}"
      ]
     },
     "execution_count": 21,
     "metadata": {},
     "output_type": "execute_result"
    }
   ],
   "source": [
    "personas"
   ]
  },
  {
   "cell_type": "code",
   "execution_count": 6,
   "id": "8d2bed2c",
   "metadata": {},
   "outputs": [
    {
     "name": "stdout",
     "output_type": "stream",
     "text": [
      "Claves dict_keys(['1000', '1002', '1004', '1006', '1008', '0050', '0060', '0070'])\n",
      "Ordenadas ['0050', '0060', '0070', '1000', '1002', '1004', '1006', '1008']\n"
     ]
    },
    {
     "data": {
      "text/plain": [
       "{'0050': {'nombre': 'GABY', 'edad': 24, 'genero': 'F', 'carrera': 'TIC'},\n",
       " '0060': {'nombre': 'LULU', 'edad': 22, 'genero': 'F', 'carrera': 'TIC'},\n",
       " '0070': {'nombre': 'MARIO', 'edad': 20, 'genero': 'm', 'carrera': 'SISTEMAS'},\n",
       " '1000': {'nombre': 'RUBÉN', 'edad': 30, 'genero': 'M', 'carrera': 'SISTEMAS'},\n",
       " '1002': {'nombre': 'JUAN', 'edad': 25, 'genero': 'M', 'carrera': 'TIC'},\n",
       " '1004': {'nombre': 'ADRIANA',\n",
       "  'edad': 20,\n",
       "  'genero': 'F',\n",
       "  'carrera': 'INFORMATICA'},\n",
       " '1006': {'nombre': 'MARY', 'edad': 25, 'genero': 'F', 'carrera': 'SISTEMAS'},\n",
       " '1008': {'nombre': 'GERARDO',\n",
       "  'edad': 22,\n",
       "  'genero': 'M',\n",
       "  'carrera': 'INFORMATICA'}}"
      ]
     },
     "execution_count": 6,
     "metadata": {},
     "output_type": "execute_result"
    }
   ],
   "source": [
    "# Crear un nuevo diccionario ordenado a partir del original\n",
    "claves = personas.keys()\n",
    "print(\"Claves\", claves)\n",
    "\n",
    "# Ordenar las claves alfabéticamente\n",
    "claves_ordenadas = sorted(claves)\n",
    "print(\"Ordenadas\", claves_ordenadas)\n",
    "\n",
    "personas_ordenado = {}\n",
    "for clave in claves_ordenadas:\n",
    "    personas_ordenado[clave] = personas[clave]\n",
    "    \n",
    "personas_ordenado\n"
   ]
  },
  {
   "cell_type": "code",
   "execution_count": 7,
   "id": "87fe4446",
   "metadata": {},
   "outputs": [
    {
     "data": {
      "text/plain": [
       "[{'nombre': 'ADRIANA', 'edad': 20, 'genero': 'F', 'carrera': 'INFORMATICA'},\n",
       " {'nombre': 'MARY', 'edad': 25, 'genero': 'F', 'carrera': 'SISTEMAS'},\n",
       " {'nombre': 'GABY', 'edad': 24, 'genero': 'F', 'carrera': 'TIC'},\n",
       " {'nombre': 'LULU', 'edad': 22, 'genero': 'F', 'carrera': 'TIC'}]"
      ]
     },
     "execution_count": 7,
     "metadata": {},
     "output_type": "execute_result"
    }
   ],
   "source": [
    "# - Extraer del diccionario solo los elementos cuyo género sea 'F' y convertir esta extracción a una lista. Iterar\n",
    "lista_femeninos = []\n",
    "\n",
    "for persona in personas:\n",
    "    if personas[persona][\"genero\"] == 'F':\n",
    "        lista_femeninos.append(personas[persona])\n",
    "\n",
    "lista_femeninos"
   ]
  },
  {
   "cell_type": "code",
   "execution_count": 11,
   "id": "1255dd0a",
   "metadata": {},
   "outputs": [
    {
     "data": {
      "text/plain": [
       "[{'nombre': 'RUBÉN', 'edad': 30, 'genero': 'M', 'carrera': 'SISTEMAS'},\n",
       " {'nombre': 'JUAN', 'edad': 25, 'genero': 'M', 'carrera': 'TIC'},\n",
       " {'nombre': 'GERARDO', 'edad': 22, 'genero': 'M', 'carrera': 'INFORMATICA'}]"
      ]
     },
     "execution_count": 11,
     "metadata": {},
     "output_type": "execute_result"
    }
   ],
   "source": [
    "# - Extraer del diccionario solo los elementos cuyo género sea 'M' y convertir esta extracción a una lista. Iterar\n",
    "lista_masculinos = []\n",
    "\n",
    "for persona in personas:\n",
    "    if personas[persona][\"genero\"] == 'M':\n",
    "        lista_masculinos.append(personas[persona])\n",
    "\n",
    "lista_masculinos"
   ]
  },
  {
   "cell_type": "code",
   "execution_count": null,
   "id": "6707bfef-5099-4834-8baa-92311617e666",
   "metadata": {},
   "outputs": [],
   "source": [
    "# - Extraer del diccionario tres listas por carrera SISTEMAS\n",
    "# Presentar la lista"
   ]
  },
  {
   "cell_type": "code",
   "execution_count": null,
   "id": "ba4a07f3-51af-4fe2-9ab7-ac3f56e6d408",
   "metadata": {},
   "outputs": [],
   "source": [
    "# - Extraer del diccionario tres listas por carrera TIC\n",
    "# Presentar la lista"
   ]
  },
  {
   "cell_type": "code",
   "execution_count": null,
   "id": "5b6b446e-b9a2-4123-a247-161e7f23bcf7",
   "metadata": {},
   "outputs": [],
   "source": [
    "# - Extraer del diccionario tres listas por carrera INFORMATICA\n",
    "# Presentar la lista"
   ]
  }
 ],
 "metadata": {
  "kernelspec": {
   "display_name": "Python 3 (ipykernel)",
   "language": "python",
   "name": "python3"
  },
  "language_info": {
   "codemirror_mode": {
    "name": "ipython",
    "version": 3
   },
   "file_extension": ".py",
   "mimetype": "text/x-python",
   "name": "python",
   "nbconvert_exporter": "python",
   "pygments_lexer": "ipython3",
   "version": "3.9.12"
  }
 },
 "nbformat": 4,
 "nbformat_minor": 5
}
