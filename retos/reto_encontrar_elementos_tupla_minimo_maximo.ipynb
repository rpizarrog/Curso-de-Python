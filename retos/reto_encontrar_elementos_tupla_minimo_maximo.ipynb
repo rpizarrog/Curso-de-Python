{
 "cells": [
  {
   "cell_type": "markdown",
   "id": "d0e70193",
   "metadata": {},
   "source": [
    "# Encontrar elementos de una tupla\n",
    "\n",
    "## Crear una tupla\n",
    "\n",
    "\n",
    "Ejemplo de entrada:\n",
    "tupla = (5, 2, 8, 3, 9, 1, 5, 6, 7, 8, 7, 6, 8, 9, 7, 3, 4, 5)\n",
    "\n",
    "Ejemplo de salida:\n",
    "\n",
    "Encontrar el segundo elemento mas pequeño\n",
    "\n",
    "El segundo elemento más pequeño es 2.\n",
    "\n",
    "\n",
    "## Sugerencias\n",
    "\n",
    "Para resolver este reto, puedes utilizar la función sorted() para ordenar los elementos de la tupla en orden ascendente y luego seleccionar el segundo elemento. También puedes utilizar la función min() para encontrar el elemento más pequeño, y luego eliminarlo de la tupla antes de buscar el siguiente elemento más pequeño.\n",
    "\n",
    "\n",
    "## Crear un noetbook y  compartir el reto\n"
   ]
  },
  {
   "cell_type": "markdown",
   "id": "d593ecbd",
   "metadata": {},
   "source": [
    "### Crear tupla"
   ]
  },
  {
   "cell_type": "code",
   "execution_count": 35,
   "id": "b50ebea2",
   "metadata": {},
   "outputs": [
    {
     "data": {
      "text/plain": [
       "(5, 2, 8, 3, 9, 1, 5, 6, 7, 8, 7, 6, 8, 9, 7, 3, 4, 5)"
      ]
     },
     "execution_count": 35,
     "metadata": {},
     "output_type": "execute_result"
    }
   ],
   "source": [
    "tupla = (5, 2, 8, 3, 9, 1, 5, 6, 7, 8, 7, 6, 8, 9, 7, 3, 4, 5)\n",
    "tupla_copia = tupla\n",
    "tupla\n"
   ]
  },
  {
   "cell_type": "code",
   "execution_count": 12,
   "id": "a51291fd",
   "metadata": {},
   "outputs": [
    {
     "name": "stdout",
     "output_type": "stream",
     "text": [
      "(5, 2, 8, 3, 9, 1, 5, 6, 7, 8, 7, 6, 8, 9, 7, 3, 4, 5)\n"
     ]
    }
   ],
   "source": [
    "print(tupla_copia)"
   ]
  },
  {
   "cell_type": "markdown",
   "id": "49ca47b1",
   "metadata": {},
   "source": [
    "### Ordenar la tupla"
   ]
  },
  {
   "cell_type": "code",
   "execution_count": 36,
   "id": "1df91b87",
   "metadata": {},
   "outputs": [
    {
     "data": {
      "text/plain": [
       "[1, 2, 3, 3, 4, 5, 5, 5, 6, 6, 7, 7, 7, 8, 8, 8, 9, 9]"
      ]
     },
     "execution_count": 36,
     "metadata": {},
     "output_type": "execute_result"
    }
   ],
   "source": [
    "sorted(tupla)"
   ]
  },
  {
   "cell_type": "markdown",
   "id": "8beae532",
   "metadata": {},
   "source": [
    "### El segundo valor mas pequeño es\n",
    "\n",
    "Seleccionar el segundo elemento de la tupla ordenada"
   ]
  },
  {
   "cell_type": "code",
   "execution_count": 14,
   "id": "c42e024d",
   "metadata": {},
   "outputs": [
    {
     "data": {
      "text/plain": [
       "2"
      ]
     },
     "execution_count": 14,
     "metadata": {},
     "output_type": "execute_result"
    }
   ],
   "source": [
    "tupla[1]"
   ]
  },
  {
   "cell_type": "code",
   "execution_count": null,
   "id": "7cfd5f8e",
   "metadata": {},
   "outputs": [],
   "source": []
  },
  {
   "cell_type": "code",
   "execution_count": 38,
   "id": "3220638d",
   "metadata": {},
   "outputs": [
    {
     "data": {
      "text/plain": [
       "1"
      ]
     },
     "execution_count": 38,
     "metadata": {},
     "output_type": "execute_result"
    }
   ],
   "source": [
    "minimo = min(tupla_copia)\n",
    "minimo\n",
    "\n"
   ]
  },
  {
   "cell_type": "markdown",
   "id": "50e56f27",
   "metadata": {},
   "source": [
    "### Convertir la tupla a lista ordenada y eliminar el elemento de la primera posición\n",
    "\n",
    "Eliminar con pop()"
   ]
  },
  {
   "cell_type": "code",
   "execution_count": 45,
   "id": "9048c79f",
   "metadata": {},
   "outputs": [
    {
     "name": "stdout",
     "output_type": "stream",
     "text": [
      "[1, 2, 3, 3, 4, 5, 5, 5, 6, 6, 7, 7, 7, 8, 8, 8, 9, 9]\n",
      "El segundo valor mas pequeño de la tupla originalfue:  2\n"
     ]
    }
   ],
   "source": [
    "lista = list(sorted(tupla_copia))\n",
    "print(lista)\n",
    "\n",
    "lista.pop(0)\n",
    "lista\n",
    "\n",
    "tupla_nueva = tuple(lista)\n",
    "tupla_nueva\n",
    "\n",
    "print(\"El segundo valor mas pequeño de la tupla originalfue: \", tupla_nueva[0])\n"
   ]
  }
 ],
 "metadata": {
  "kernelspec": {
   "display_name": "Python 3 (ipykernel)",
   "language": "python",
   "name": "python3"
  },
  "language_info": {
   "codemirror_mode": {
    "name": "ipython",
    "version": 3
   },
   "file_extension": ".py",
   "mimetype": "text/x-python",
   "name": "python",
   "nbconvert_exporter": "python",
   "pygments_lexer": "ipython3",
   "version": "3.9.12"
  }
 },
 "nbformat": 4,
 "nbformat_minor": 5
}
