{
 "cells": [
  {
   "cell_type": "markdown",
   "id": "9aaad2cc",
   "metadata": {},
   "source": [
    "# Reto 16 Leer un archivo csv y describir sus variables numéricas\n",
    "- Leer el archivo localmente o desde una URL\n",
    "- Mostrar los estadísticos de solo las variables numéricas\n",
    "- Mostrar gráficamente la distribución de los datos de cada una de las variables que son numéricas\n",
    "- Mostrar la frecuencia de las variables categóricas\n",
    "- Interpretar el ejercicio\n"
   ]
  },
  {
   "cell_type": "code",
   "execution_count": null,
   "id": "1852e65d",
   "metadata": {},
   "outputs": [],
   "source": []
  }
 ],
 "metadata": {
  "kernelspec": {
   "display_name": "Python 3 (ipykernel)",
   "language": "python",
   "name": "python3"
  },
  "language_info": {
   "codemirror_mode": {
    "name": "ipython",
    "version": 3
   },
   "file_extension": ".py",
   "mimetype": "text/x-python",
   "name": "python",
   "nbconvert_exporter": "python",
   "pygments_lexer": "ipython3",
   "version": "3.9.12"
  }
 },
 "nbformat": 4,
 "nbformat_minor": 5
}
