{
 "cells": [
  {
   "cell_type": "markdown",
   "id": "f6dfda58",
   "metadata": {},
   "source": [
    "# Contar palabras de un texto\n",
    "\n",
    "## Crear un texto con algunos parrafos en variables diferentes\n",
    "\n",
    "Del texto se pide contar el número de palabras para identificar cual es la palabra que mas se repite\n",
    "\n",
    "\n",
    "\"Los antecedentes de la inteligencia artificial se remontan a la década de 1950, cuando los científicos comenzaron a explorar la posibilidad de crear máquinas que pudieran pensar y aprender por sí mismas. Uno de los primeros ejemplos de inteligencia artificial fue el programa informático \"Eliza\", desarrollado por Joseph Weizenbaum en 1966, que podía simular una conversación humana\"\n",
    "\n",
    "\"En la década de 1970, la inteligencia artificial se centró en la creación de sistemas expertos, que utilizaban el conocimiento de expertos humanos para tomar decisiones. En los años 80 y 90, la inteligencia artificial se expandió a otras áreas, como el procesamiento del lenguaje natural, la visión por computadora y la robótica\"\n",
    "\n",
    "\"En la década de 2000, la inteligencia artificial se centró en el aprendizaje automático y el análisis de datos, lo que permitió a los sistemas aprender y mejorar por sí mismos. Esto llevó al desarrollo de tecnologías como la minería de datos y el aprendizaje profundo, que permiten a los sistemas analizar grandes cantidades de datos y detectar patrones\"\n",
    "\n",
    "\"En la actualidad, la inteligencia artificial está presente en una amplia variedad de industrias, desde la atención médica hasta la publicidad en línea. Los avances en el procesamiento del lenguaje natural, la robótica y la inteligencia artificial general (AGI) están llevando a la creación de sistemas cada vez más sofisticados y autónomos\"\n",
    "\n",
    "## Del texto identificar las que sean preposiciones, artículos y signos de puntuación\n",
    "\n",
    "preposiciones = \"a, ante, bajo, cabe, con, contra, de, desde, durante, en, entre, hacia, hasta, mediante, para, por, según, sin, so, sobre, tras, versus, vía\"\n",
    "\n",
    "articulos = \"el, la, los, las, un, una, unos, unas\"\n",
    "\n",
    "signos_puntuacion = \"'.'';', ',', ':'\",\n",
    "\n",
    "Quitando preposiciones, los artículos y los signos de puntuación, ¿cuáles son las palabras que más se repiten, el top 5 , es decir las cinco que mas se repiten.\n",
    "\n",
    "\n",
    "\n",
    "## ¿Cuáles son las palabras que mas se repiten? \n",
    "\n",
    "Se recomienda tratar párrafos independintes\n",
    "Se recomienda usar la función split() en una variable string\n",
    "\n",
    "\n",
    "## Solución en notebook y compartir\n",
    "\n",
    "\n"
   ]
  },
  {
   "cell_type": "markdown",
   "id": "72bbba96",
   "metadata": {},
   "source": [
    "### Crear párrafos independientes solo 145 palabras "
   ]
  },
  {
   "cell_type": "code",
   "execution_count": 140,
   "id": "37e1ea04",
   "metadata": {},
   "outputs": [
    {
     "name": "stdout",
     "output_type": "stream",
     "text": [
      "Los antecedentes de la inteligencia artificial se remontan a la década de 1950, cuando los científicos comenzaron a explorar la posibilidad de crear máquinas que pudieran pensar y aprender por sí mismas. Uno de los primeros ejemplos de inteligencia artificial fue el programa informático Eliza, desarrollado por Joseph Weizenbaum en 1966, que podía simular una conversación humana\n"
     ]
    }
   ],
   "source": [
    "parrafo1 = \"Los antecedentes de la inteligencia artificial se remontan a la década de 1950, cuando los científicos comenzaron a explorar la posibilidad de crear máquinas que pudieran pensar y aprender por sí mismas. Uno de los primeros ejemplos de inteligencia artificial fue el programa informático Eliza, desarrollado por Joseph Weizenbaum en 1966, que podía simular una conversación humana\"\n",
    "\n",
    "\n",
    "print(parrafo1)"
   ]
  },
  {
   "cell_type": "code",
   "execution_count": 141,
   "id": "4c62ba2f",
   "metadata": {},
   "outputs": [
    {
     "name": "stdout",
     "output_type": "stream",
     "text": [
      "En la década de 1970, la inteligencia artificial se centró en la creación de sistemas expertos, que utilizaban el conocimiento de expertos humanos para tomar decisiones. En los años 80 y 90, la inteligencia artificial se expandió a otras áreas, como el procesamiento del lenguaje natural, la visión por computadora y la robótica\n"
     ]
    }
   ],
   "source": [
    "parrafo2 = \"En la década de 1970, la inteligencia artificial se centró en la creación de sistemas expertos, que utilizaban el conocimiento de expertos humanos para tomar decisiones. En los años 80 y 90, la inteligencia artificial se expandió a otras áreas, como el procesamiento del lenguaje natural, la visión por computadora y la robótica\"\n",
    "\n",
    "print (parrafo2)"
   ]
  },
  {
   "cell_type": "code",
   "execution_count": 142,
   "id": "d529e9ca",
   "metadata": {},
   "outputs": [
    {
     "name": "stdout",
     "output_type": "stream",
     "text": [
      "En la década de 2000, la inteligencia artificial se centró en el aprendizaje automático y el análisis de datos, lo que permitió a los sistemas aprender y mejorar por sí mismos. Esto llevó al desarrollo de tecnologías como la minería de datos y el aprendizaje profundo, que permiten a los sistemas analizar grandes cantidades de datos y detectar patrones\n"
     ]
    }
   ],
   "source": [
    "parrafo3 = \"En la década de 2000, la inteligencia artificial se centró en el aprendizaje automático y el análisis de datos, lo que permitió a los sistemas aprender y mejorar por sí mismos. Esto llevó al desarrollo de tecnologías como la minería de datos y el aprendizaje profundo, que permiten a los sistemas analizar grandes cantidades de datos y detectar patrones\"\n",
    "\n",
    "print (parrafo3)"
   ]
  },
  {
   "cell_type": "code",
   "execution_count": 143,
   "id": "b21d76ea",
   "metadata": {},
   "outputs": [
    {
     "name": "stdout",
     "output_type": "stream",
     "text": [
      "En la actualidad, la inteligencia artificial está presente en una amplia variedad de industrias, desde la atención médica hasta la publicidad en línea. Los avances en el procesamiento del lenguaje natural, la robótica y la inteligencia artificial general (AGI) están llevando a la creación de sistemas cada vez más sofisticados y autónomos\n"
     ]
    }
   ],
   "source": [
    "parrafo4 = \"En la actualidad, la inteligencia artificial está presente en una amplia variedad de industrias, desde la atención médica hasta la publicidad en línea. Los avances en el procesamiento del lenguaje natural, la robótica y la inteligencia artificial general (AGI) están llevando a la creación de sistemas cada vez más sofisticados y autónomos\"\n",
    "\n",
    "print (parrafo4)"
   ]
  },
  {
   "cell_type": "markdown",
   "id": "6d93bbcd",
   "metadata": {},
   "source": [
    "###  Convertir cada párrafo en una lista con método split()"
   ]
  },
  {
   "cell_type": "code",
   "execution_count": 144,
   "id": "a4da915d",
   "metadata": {},
   "outputs": [
    {
     "name": "stdout",
     "output_type": "stream",
     "text": [
      "['Los', 'antecedentes', 'de', 'la', 'inteligencia', 'artificial', 'se', 'remontan', 'a', 'la', 'década', 'de', '1950,', 'cuando', 'los', 'científicos', 'comenzaron', 'a', 'explorar', 'la', 'posibilidad', 'de', 'crear', 'máquinas', 'que', 'pudieran', 'pensar', 'y', 'aprender', 'por', 'sí', 'mismas.', 'Uno', 'de', 'los', 'primeros', 'ejemplos', 'de', 'inteligencia', 'artificial', 'fue', 'el', 'programa', 'informático', 'Eliza,', 'desarrollado', 'por', 'Joseph', 'Weizenbaum', 'en', '1966,', 'que', 'podía', 'simular', 'una', 'conversación', 'humana']\n"
     ]
    }
   ],
   "source": [
    "\n",
    "\n",
    "lista_pa1 = parrafo1.split() \n",
    "print(lista_pa1)\n",
    "\n",
    "\n",
    "\n"
   ]
  },
  {
   "cell_type": "markdown",
   "id": "a8dec714",
   "metadata": {},
   "source": []
  },
  {
   "cell_type": "code",
   "execution_count": 145,
   "id": "af10ba5e",
   "metadata": {},
   "outputs": [
    {
     "name": "stdout",
     "output_type": "stream",
     "text": [
      "['En', 'la', 'década', 'de', '1970,', 'la', 'inteligencia', 'artificial', 'se', 'centró', 'en', 'la', 'creación', 'de', 'sistemas', 'expertos,', 'que', 'utilizaban', 'el', 'conocimiento', 'de', 'expertos', 'humanos', 'para', 'tomar', 'decisiones.', 'En', 'los', 'años', '80', 'y', '90,', 'la', 'inteligencia', 'artificial', 'se', 'expandió', 'a', 'otras', 'áreas,', 'como', 'el', 'procesamiento', 'del', 'lenguaje', 'natural,', 'la', 'visión', 'por', 'computadora', 'y', 'la', 'robótica']\n"
     ]
    }
   ],
   "source": [
    "lista_pa2 = parrafo2.split() \n",
    "print(lista_pa2)\n",
    "\n"
   ]
  },
  {
   "cell_type": "code",
   "execution_count": 146,
   "id": "e2db3400",
   "metadata": {},
   "outputs": [
    {
     "name": "stdout",
     "output_type": "stream",
     "text": [
      "['En', 'la', 'década', 'de', '2000,', 'la', 'inteligencia', 'artificial', 'se', 'centró', 'en', 'el', 'aprendizaje', 'automático', 'y', 'el', 'análisis', 'de', 'datos,', 'lo', 'que', 'permitió', 'a', 'los', 'sistemas', 'aprender', 'y', 'mejorar', 'por', 'sí', 'mismos.', 'Esto', 'llevó', 'al', 'desarrollo', 'de', 'tecnologías', 'como', 'la', 'minería', 'de', 'datos', 'y', 'el', 'aprendizaje', 'profundo,', 'que', 'permiten', 'a', 'los', 'sistemas', 'analizar', 'grandes', 'cantidades', 'de', 'datos', 'y', 'detectar', 'patrones']\n"
     ]
    }
   ],
   "source": [
    "lista_pa3 = parrafo3.split() \n",
    "print(lista_pa3)\n",
    "\n"
   ]
  },
  {
   "cell_type": "code",
   "execution_count": 147,
   "id": "02a77124",
   "metadata": {},
   "outputs": [
    {
     "name": "stdout",
     "output_type": "stream",
     "text": [
      "['En', 'la', 'actualidad,', 'la', 'inteligencia', 'artificial', 'está', 'presente', 'en', 'una', 'amplia', 'variedad', 'de', 'industrias,', 'desde', 'la', 'atención', 'médica', 'hasta', 'la', 'publicidad', 'en', 'línea.', 'Los', 'avances', 'en', 'el', 'procesamiento', 'del', 'lenguaje', 'natural,', 'la', 'robótica', 'y', 'la', 'inteligencia', 'artificial', 'general', '(AGI)', 'están', 'llevando', 'a', 'la', 'creación', 'de', 'sistemas', 'cada', 'vez', 'más', 'sofisticados', 'y', 'autónomos']\n"
     ]
    }
   ],
   "source": [
    "\n",
    "lista_pa4 = parrafo4.split() \n",
    "print(lista_pa4)"
   ]
  },
  {
   "cell_type": "markdown",
   "id": "e1e1ad51",
   "metadata": {},
   "source": [
    "### Juntando las listas en una sola"
   ]
  },
  {
   "cell_type": "code",
   "execution_count": 148,
   "id": "b0dd6778",
   "metadata": {},
   "outputs": [
    {
     "name": "stdout",
     "output_type": "stream",
     "text": [
      "['Los', 'antecedentes', 'de', 'la', 'inteligencia', 'artificial', 'se', 'remontan', 'a', 'la', 'década', 'de', '1950,', 'cuando', 'los', 'científicos', 'comenzaron', 'a', 'explorar', 'la', 'posibilidad', 'de', 'crear', 'máquinas', 'que', 'pudieran', 'pensar', 'y', 'aprender', 'por', 'sí', 'mismas.', 'Uno', 'de', 'los', 'primeros', 'ejemplos', 'de', 'inteligencia', 'artificial', 'fue', 'el', 'programa', 'informático', 'Eliza,', 'desarrollado', 'por', 'Joseph', 'Weizenbaum', 'en', '1966,', 'que', 'podía', 'simular', 'una', 'conversación', 'humana', 'En', 'la', 'década', 'de', '1970,', 'la', 'inteligencia', 'artificial', 'se', 'centró', 'en', 'la', 'creación', 'de', 'sistemas', 'expertos,', 'que', 'utilizaban', 'el', 'conocimiento', 'de', 'expertos', 'humanos', 'para', 'tomar', 'decisiones.', 'En', 'los', 'años', '80', 'y', '90,', 'la', 'inteligencia', 'artificial', 'se', 'expandió', 'a', 'otras', 'áreas,', 'como', 'el', 'procesamiento', 'del', 'lenguaje', 'natural,', 'la', 'visión', 'por', 'computadora', 'y', 'la', 'robótica', 'En', 'la', 'década', 'de', '2000,', 'la', 'inteligencia', 'artificial', 'se', 'centró', 'en', 'el', 'aprendizaje', 'automático', 'y', 'el', 'análisis', 'de', 'datos,', 'lo', 'que', 'permitió', 'a', 'los', 'sistemas', 'aprender', 'y', 'mejorar', 'por', 'sí', 'mismos.', 'Esto', 'llevó', 'al', 'desarrollo', 'de', 'tecnologías', 'como', 'la', 'minería', 'de', 'datos', 'y', 'el', 'aprendizaje', 'profundo,', 'que', 'permiten', 'a', 'los', 'sistemas', 'analizar', 'grandes', 'cantidades', 'de', 'datos', 'y', 'detectar', 'patrones', 'En', 'la', 'actualidad,', 'la', 'inteligencia', 'artificial', 'está', 'presente', 'en', 'una', 'amplia', 'variedad', 'de', 'industrias,', 'desde', 'la', 'atención', 'médica', 'hasta', 'la', 'publicidad', 'en', 'línea.', 'Los', 'avances', 'en', 'el', 'procesamiento', 'del', 'lenguaje', 'natural,', 'la', 'robótica', 'y', 'la', 'inteligencia', 'artificial', 'general', '(AGI)', 'están', 'llevando', 'a', 'la', 'creación', 'de', 'sistemas', 'cada', 'vez', 'más', 'sofisticados', 'y', 'autónomos']\n"
     ]
    }
   ],
   "source": [
    "lista_completa = lista_pa1 + lista_pa2 + lista_pa3 + lista_pa4\n",
    "print(lista_completa)\n"
   ]
  },
  {
   "cell_type": "markdown",
   "id": "f04e2106",
   "metadata": {},
   "source": [
    "### Quitando signos"
   ]
  },
  {
   "cell_type": "code",
   "execution_count": 149,
   "id": "62d25f65",
   "metadata": {},
   "outputs": [
    {
     "name": "stdout",
     "output_type": "stream",
     "text": [
      "['?', '¿', '¡', '!', ',', ';', '.', ':', '-', '_', '{', '}', '#', '\"', '$', '%', '&', '/', '(', ')']\n"
     ]
    }
   ],
   "source": [
    "signos = ['?', '¿', '¡', '!', ',', ';', '.', ':', '-', '_', '{', '}', '#', '\"', '$', '%', \"&\", '/', '(', ')']\n",
    "print (signos)     \n",
    "          \n",
    "for i in lista_completa:\n",
    "    if i in signos:\n",
    "        #print(i, \"está en la lista completa\")\n",
    "        #print(\"Remover este elemento de la lista\")\n",
    "        lista_completa.remove(i)\n",
    "        \n",
    "# lista_completa        "
   ]
  },
  {
   "cell_type": "markdown",
   "id": "0ca6f664",
   "metadata": {},
   "source": [
    "### Quitando artículos"
   ]
  },
  {
   "cell_type": "code",
   "execution_count": 150,
   "id": "63c23628",
   "metadata": {},
   "outputs": [
    {
     "name": "stdout",
     "output_type": "stream",
     "text": [
      "['el', 'la', 'los', 'un', 'una', 'unos', 'unas', 'lo', 'al']\n"
     ]
    }
   ],
   "source": [
    "articulos = ['el', 'la', 'los', 'un', 'una', 'unos', 'unas', 'lo', 'al']\n",
    "print (articulos)     \n",
    "          \n",
    "for i in lista_completa:\n",
    "    if i.lower() in articulos:\n",
    "        #print(i, \"está en la lista completa\")\n",
    "        #print(\"Remover este elemento de la lista\")\n",
    "        lista_completa.remove(i)"
   ]
  },
  {
   "cell_type": "markdown",
   "id": "bca6d73e",
   "metadata": {},
   "source": [
    "### Quitando signos de preposiciones"
   ]
  },
  {
   "cell_type": "code",
   "execution_count": 151,
   "id": "45b8f2c2",
   "metadata": {},
   "outputs": [
    {
     "name": "stdout",
     "output_type": "stream",
     "text": [
      "['a', 'ante', 'bajo', 'cabe', 'con', 'contra', 'de', 'desde', 'durante', 'en', 'entre', 'hacia', 'hasta', 'mediante', 'para', 'por', 'según', 'sin', 'se', 'sobre', 'tras', 'versus', 'vía']\n"
     ]
    }
   ],
   "source": [
    "preposiciones = ['a', 'ante', 'bajo', 'cabe', 'con', 'contra', 'de', 'desde', 'durante', 'en', 'entre', 'hacia', 'hasta', 'mediante', 'para', 'por', 'según', 'sin', 'se', 'sobre', 'tras', 'versus', 'vía']\n",
    "print (preposiciones)     \n",
    "          \n",
    "for i in lista_completa:\n",
    "    if i.lower() in preposiciones:\n",
    "        #print(i, \"está en la lista completa\")\n",
    "        #print(\"Remover este elemento de la lista\")\n",
    "        lista_completa.remove(i)"
   ]
  },
  {
   "cell_type": "markdown",
   "id": "0ef060fb",
   "metadata": {},
   "source": [
    "### Quitando conectores\n"
   ]
  },
  {
   "cell_type": "code",
   "execution_count": 152,
   "id": "b46a8e51",
   "metadata": {},
   "outputs": [
    {
     "name": "stdout",
     "output_type": "stream",
     "text": [
      "['además', 'asimismo', 'de', 'igual', 'forma', 'fue', 'manera', 'del', 'mismo', 'modo', 'otras', 'otro', 'como', 'puede', 'podía', 'en', 'la', 'misma', 'línea', 'encima', 'mas', 'hasta', 'igualmente', 'incluso', 'más', 'aún', 'por', 'añadidura', 'y', 'también', 'sí', 'en', 'algunos', 'algunas', 'no', 'cuando', 'que', 'uno', 'cada', 'vez', 'está', 'están', 'este', 'estos', 'estas']\n"
     ]
    }
   ],
   "source": [
    "conectores = ['además', 'asimismo', 'de', 'igual', 'forma', 'fue', 'manera','del', 'mismo', 'modo', 'otras', 'otro', 'como', 'puede', 'podía', 'en', 'la', 'misma', 'línea', 'encima', 'mas', 'hasta', 'igualmente', 'incluso', 'más', 'aún', 'por', 'añadidura', 'y', 'también', 'sí', 'en', 'algunos', 'algunas', 'no', 'cuando', 'que', 'uno', 'cada', 'vez', 'está', 'están', 'este', 'estos', 'estas']\n",
    "\n",
    "print (conectores)     \n",
    "          \n",
    "for i in lista_completa:\n",
    "    if i.lower() in conectores:\n",
    "        #print(i, \"está en la lista completa\")\n",
    "        #print(\"Remover este elemento de la lista\")\n",
    "        lista_completa.remove(i)              "
   ]
  },
  {
   "cell_type": "markdown",
   "id": "484c6b12",
   "metadata": {},
   "source": [
    "### Lista limpia"
   ]
  },
  {
   "cell_type": "code",
   "execution_count": 153,
   "id": "5028f64e",
   "metadata": {},
   "outputs": [
    {
     "name": "stdout",
     "output_type": "stream",
     "text": [
      "['antecedentes', 'inteligencia', 'artificial', 'remontan', 'década', '1950,', 'científicos', 'comenzaron', 'explorar', 'posibilidad', 'crear', 'máquinas', 'pudieran', 'pensar', 'aprender', 'mismas.', 'primeros', 'ejemplos', 'inteligencia', 'artificial', 'programa', 'informático', 'Eliza,', 'desarrollado', 'Joseph', 'Weizenbaum', '1966,', 'podía', 'simular', 'conversación', 'humana', 'década', '1970,', 'inteligencia', 'artificial', 'centró', 'creación', 'sistemas', 'expertos,', 'utilizaban', 'conocimiento', 'expertos', 'humanos', 'tomar', 'decisiones.', 'años', '80', '90,', 'inteligencia', 'artificial', 'expandió', 'áreas,', 'procesamiento', 'lenguaje', 'natural,', 'visión', 'computadora', 'robótica', 'década', '2000,', 'inteligencia', 'artificial', 'centró', 'aprendizaje', 'automático', 'análisis', 'datos,', 'permitió', 'sistemas', 'aprender', 'mejorar', 'mismos.', 'Esto', 'llevó', 'desarrollo', 'tecnologías', 'minería', 'datos', 'aprendizaje', 'profundo,', 'permiten', 'sistemas', 'analizar', 'grandes', 'cantidades', 'datos', 'detectar', 'patrones', 'actualidad,', 'inteligencia', 'artificial', 'presente', 'amplia', 'variedad', 'industrias,', 'atención', 'médica', 'publicidad', 'línea.', 'avances', 'procesamiento', 'lenguaje', 'natural,', 'robótica', 'inteligencia', 'artificial', 'general', '(AGI)', 'llevando', 'creación', 'sistemas', 'vez', 'sofisticados', 'autónomos']\n"
     ]
    }
   ],
   "source": [
    "print(lista_completa)"
   ]
  },
  {
   "cell_type": "markdown",
   "id": "09f6cdd3",
   "metadata": {},
   "source": [
    "### Contar palabras\n",
    "\n",
    "Se utiliza la función count() para crear una lista de la cantidad de ocasiones que hay de cada palabra\n",
    "\n"
   ]
  },
  {
   "cell_type": "code",
   "execution_count": 154,
   "id": "ec764264",
   "metadata": {},
   "outputs": [
    {
     "name": "stdout",
     "output_type": "stream",
     "text": [
      "Frecuenciasde palabras:  \n",
      " ['antecedentes', 'inteligencia', 'artificial', 'remontan', 'década', '1950,', 'científicos', 'comenzaron', 'explorar', 'posibilidad', 'crear', 'máquinas', 'pudieran', 'pensar', 'aprender', 'mismas.', 'primeros', 'ejemplos', 'inteligencia', 'artificial', 'programa', 'informático', 'Eliza,', 'desarrollado', 'Joseph', 'Weizenbaum', '1966,', 'podía', 'simular', 'conversación', 'humana', 'década', '1970,', 'inteligencia', 'artificial', 'centró', 'creación', 'sistemas', 'expertos,', 'utilizaban', 'conocimiento', 'expertos', 'humanos', 'tomar', 'decisiones.', 'años', '80', '90,', 'inteligencia', 'artificial', 'expandió', 'áreas,', 'procesamiento', 'lenguaje', 'natural,', 'visión', 'computadora', 'robótica', 'década', '2000,', 'inteligencia', 'artificial', 'centró', 'aprendizaje', 'automático', 'análisis', 'datos,', 'permitió', 'sistemas', 'aprender', 'mejorar', 'mismos.', 'Esto', 'llevó', 'desarrollo', 'tecnologías', 'minería', 'datos', 'aprendizaje', 'profundo,', 'permiten', 'sistemas', 'analizar', 'grandes', 'cantidades', 'datos', 'detectar', 'patrones', 'actualidad,', 'inteligencia', 'artificial', 'presente', 'amplia', 'variedad', 'industrias,', 'atención', 'médica', 'publicidad', 'línea.', 'avances', 'procesamiento', 'lenguaje', 'natural,', 'robótica', 'inteligencia', 'artificial', 'general', '(AGI)', 'llevando', 'creación', 'sistemas', 'vez', 'sofisticados', 'autónomos'] \n",
      "\n",
      "Cantidad de elementos de la lista completa: \n",
      " 114 \n",
      "\n",
      "Frecuenciasde palabras:  \n",
      " [1, 7, 7, 1, 3, 1, 1, 1, 1, 1, 1, 1, 1, 1, 2, 1, 1, 1, 7, 7, 1, 1, 1, 1, 1, 1, 1, 1, 1, 1, 1, 3, 1, 7, 7, 2, 2, 4, 1, 1, 1, 1, 1, 1, 1, 1, 1, 1, 7, 7, 1, 1, 2, 2, 2, 1, 1, 2, 3, 1, 7, 7, 2, 2, 1, 1, 1, 1, 4, 2, 1, 1, 1, 1, 1, 1, 1, 2, 2, 1, 1, 4, 1, 1, 1, 2, 1, 1, 1, 7, 7, 1, 1, 1, 1, 1, 1, 1, 1, 1, 2, 2, 2, 2, 7, 7, 1, 1, 1, 2, 4, 1, 1, 1] \n",
      "\n",
      "Cantidad de elementos de la frecuencia de palabras:  \n",
      " 114 \n",
      "\n"
     ]
    }
   ],
   "source": [
    "frecuencia_palabras = []\n",
    "for p in lista_completa:\n",
    "    frecuencia_palabras.append(lista_completa.count(p))\n",
    "\n",
    "\n",
    "print(\"Frecuenciasde palabras: \", \"\\n\", lista_completa, \"\\n\")\n",
    "print(\"Cantidad de elementos de la lista completa:\", \"\\n\", len(lista_completa), \"\\n\")    \n",
    "print(\"Frecuenciasde palabras: \", \"\\n\", frecuencia_palabras, \"\\n\")\n",
    "print(\"Cantidad de elementos de la frecuencia de palabras: \", \"\\n\", len(frecuencia_palabras), \"\\n\")\n",
    "\n",
    "\n"
   ]
  },
  {
   "cell_type": "markdown",
   "id": "d01f36ae",
   "metadata": {},
   "source": [
    "### Juntas la lista de palabras con las frecuencias\n",
    "\n",
    "Se utiliza la función zip para crear pares entre las dos listas y luego se imprime en un ciclo \n",
    "\n"
   ]
  },
  {
   "cell_type": "code",
   "execution_count": 155,
   "id": "9b6081c7",
   "metadata": {},
   "outputs": [
    {
     "name": "stdout",
     "output_type": "stream",
     "text": [
      "('juan', '20')\n",
      "('pedro', '30')\n",
      "('luis', '25')\n",
      "('20', 'juan')\n",
      "('30', 'pedro')\n",
      "('25', 'luis')\n"
     ]
    }
   ],
   "source": [
    "nombres = ['juan', 'pedro', 'luis']\n",
    "edad = ['20', '30' , '25', '34', '35', '25']\n",
    "\n",
    "juntos1 = zip(nombres, edad)\n",
    "\n",
    "for x in juntos1:\n",
    "    print(x)\n",
    "    \n",
    "juntos2 = zip(edad, nombres)\n",
    "\n",
    "for x in juntos2:\n",
    "    print(x)\n",
    "    \n",
    "    "
   ]
  },
  {
   "cell_type": "code",
   "execution_count": 156,
   "id": "d517e31f",
   "metadata": {},
   "outputs": [
    {
     "name": "stdout",
     "output_type": "stream",
     "text": [
      "('antecedentes', 1)\n",
      "('inteligencia', 7)\n",
      "('artificial', 7)\n",
      "('remontan', 1)\n",
      "('década', 3)\n",
      "('1950,', 1)\n",
      "('científicos', 1)\n",
      "('comenzaron', 1)\n",
      "('explorar', 1)\n",
      "('posibilidad', 1)\n",
      "('crear', 1)\n",
      "('máquinas', 1)\n",
      "('pudieran', 1)\n",
      "('pensar', 1)\n",
      "('aprender', 2)\n",
      "('mismas.', 1)\n",
      "('primeros', 1)\n",
      "('ejemplos', 1)\n",
      "('inteligencia', 7)\n",
      "('artificial', 7)\n",
      "('programa', 1)\n",
      "('informático', 1)\n",
      "('Eliza,', 1)\n",
      "('desarrollado', 1)\n",
      "('Joseph', 1)\n",
      "('Weizenbaum', 1)\n",
      "('1966,', 1)\n",
      "('podía', 1)\n",
      "('simular', 1)\n",
      "('conversación', 1)\n",
      "('humana', 1)\n",
      "('década', 3)\n",
      "('1970,', 1)\n",
      "('inteligencia', 7)\n",
      "('artificial', 7)\n",
      "('centró', 2)\n",
      "('creación', 2)\n",
      "('sistemas', 4)\n",
      "('expertos,', 1)\n",
      "('utilizaban', 1)\n",
      "('conocimiento', 1)\n",
      "('expertos', 1)\n",
      "('humanos', 1)\n",
      "('tomar', 1)\n",
      "('decisiones.', 1)\n",
      "('años', 1)\n",
      "('80', 1)\n",
      "('90,', 1)\n",
      "('inteligencia', 7)\n",
      "('artificial', 7)\n",
      "('expandió', 1)\n",
      "('áreas,', 1)\n",
      "('procesamiento', 2)\n",
      "('lenguaje', 2)\n",
      "('natural,', 2)\n",
      "('visión', 1)\n",
      "('computadora', 1)\n",
      "('robótica', 2)\n",
      "('década', 3)\n",
      "('2000,', 1)\n",
      "('inteligencia', 7)\n",
      "('artificial', 7)\n",
      "('centró', 2)\n",
      "('aprendizaje', 2)\n",
      "('automático', 1)\n",
      "('análisis', 1)\n",
      "('datos,', 1)\n",
      "('permitió', 1)\n",
      "('sistemas', 4)\n",
      "('aprender', 2)\n",
      "('mejorar', 1)\n",
      "('mismos.', 1)\n",
      "('Esto', 1)\n",
      "('llevó', 1)\n",
      "('desarrollo', 1)\n",
      "('tecnologías', 1)\n",
      "('minería', 1)\n",
      "('datos', 2)\n",
      "('aprendizaje', 2)\n",
      "('profundo,', 1)\n",
      "('permiten', 1)\n",
      "('sistemas', 4)\n",
      "('analizar', 1)\n",
      "('grandes', 1)\n",
      "('cantidades', 1)\n",
      "('datos', 2)\n",
      "('detectar', 1)\n",
      "('patrones', 1)\n",
      "('actualidad,', 1)\n",
      "('inteligencia', 7)\n",
      "('artificial', 7)\n",
      "('presente', 1)\n",
      "('amplia', 1)\n",
      "('variedad', 1)\n",
      "('industrias,', 1)\n",
      "('atención', 1)\n",
      "('médica', 1)\n",
      "('publicidad', 1)\n",
      "('línea.', 1)\n",
      "('avances', 1)\n",
      "('procesamiento', 2)\n",
      "('lenguaje', 2)\n",
      "('natural,', 2)\n",
      "('robótica', 2)\n",
      "('inteligencia', 7)\n",
      "('artificial', 7)\n",
      "('general', 1)\n",
      "('(AGI)', 1)\n",
      "('llevando', 1)\n",
      "('creación', 2)\n",
      "('sistemas', 4)\n",
      "('vez', 1)\n",
      "('sofisticados', 1)\n",
      "('autónomos', 1)\n"
     ]
    }
   ],
   "source": [
    "\n",
    "resultado = zip(lista_completa, frecuencia_palabras)\n",
    "for x in resultado:\n",
    "    print(x)"
   ]
  }
 ],
 "metadata": {
  "kernelspec": {
   "display_name": "Python 3 (ipykernel)",
   "language": "python",
   "name": "python3"
  },
  "language_info": {
   "codemirror_mode": {
    "name": "ipython",
    "version": 3
   },
   "file_extension": ".py",
   "mimetype": "text/x-python",
   "name": "python",
   "nbconvert_exporter": "python",
   "pygments_lexer": "ipython3",
   "version": "3.9.12"
  }
 },
 "nbformat": 4,
 "nbformat_minor": 5
}
