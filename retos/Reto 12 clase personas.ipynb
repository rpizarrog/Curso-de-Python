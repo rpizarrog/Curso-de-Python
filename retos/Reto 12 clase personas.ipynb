{
 "cells": [
  {
   "cell_type": "markdown",
   "id": "de8f415c",
   "metadata": {},
   "source": [
    "# Reto 12.  Construir una clase llamada personas con estos atributos y funciones:\n",
    "\n",
    "\n",
    "## Atributos: nombre, edad, genero\n",
    "## Funciones: \n",
    "\n",
    "comer() [True comiendo o False no comiendo],\n",
    "despierto() [True Despierto o False Dormido], \n",
    "caminar() [True o False], \n",
    "estado() [True = Sano o False = Enfermo]\n",
    "\n",
    "## condiciones: \n",
    "No puede comer ni caminar cuando está dormido\n",
    "No puede comer ni caminar cuando está enfermo\n",
        
    "Construir un objeto que simule los atributos, así como las funciones de una persona.\n",
    "Viualizar el estado de la persona; si está despierto; comiendo caminando, entre otros...\n",
    "Similar a la clase autos:\n"
   ]
  },
  {
   "cell_type": "code",
   "execution_count": null,
   "id": "360becf8",
   "metadata": {},
   "outputs": [],
   "source": []
  }
 ],
 "metadata": {
  "kernelspec": {
   "display_name": "Python 3 (ipykernel)",
   "language": "python",
   "name": "python3"
  },
  "language_info": {
   "codemirror_mode": {
    "name": "ipython",
    "version": 3
   },
   "file_extension": ".py",
   "mimetype": "text/x-python",
   "name": "python",
   "nbconvert_exporter": "python",
   "pygments_lexer": "ipython3",
   "version": "3.9.12"
  }
 },
 "nbformat": 4,
 "nbformat_minor": 5
}
