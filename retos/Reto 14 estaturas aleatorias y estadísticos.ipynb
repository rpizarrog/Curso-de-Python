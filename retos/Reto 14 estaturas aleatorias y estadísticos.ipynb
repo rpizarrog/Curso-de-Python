{
 "cells": [
  {
   "cell_type": "markdown",
   "id": "41d847b5",
   "metadata": {},
   "source": [
    "# Reto 14 estaturas aleatorias y estadísticos\n",
    "\n",
    "- Generar 6500 valores que representan la estatura de 6500 alumnos cuya media aritmética está entre 170 y desviación estándar de 5 centímetros. La variable que almacena las alturas de los estudiantes se llama estaturas\n",
    "- Visualizar la densidad o diagrama de campana de la distribución de los datos o de las estaturas de los estudiantes\n",
    "- Extraer una muestra de 50 estudiantes de las estaturas\n",
    "- Determinar los estadísticos media, desviación estándar, máximo y mínimo de la población estaturas y la muestra y ver sus diferencias (Error de muestreo)\n",
    "- Ver gráficos d densidad de la población y de la muestra\n",
    "- Intrepretar el reto\n",
    "\n",
    "\n"
   ]
  },
  {
   "cell_type": "code",
   "execution_count": 13,
   "id": "9947ccd0",
   "metadata": {},
   "outputs": [
    {
     "name": "stdout",
     "output_type": "stream",
     "text": [
      "Los primeros 20\n",
      "[167.32386532 172.76607512 175.4349804  164.36924335 172.77156748\n",
      " 168.04275661 167.95655359 168.10892214 170.14883353 168.43347725\n",
      " 165.91552057 158.445482   179.11286992 163.87454833 165.13526266\n",
      " 171.92167686 164.6229718  171.44700781 175.90591071 171.78667768\n",
      " 166.20900395]\n",
      "Los ultimos 20\n",
      "[168.91636898 177.19506461 177.6132553  168.30487948 170.71129085\n",
      " 165.81196588 172.22493083 172.03913008 170.93253309 165.1902246\n",
      " 175.50373028 164.40502105 174.71363433 171.6176357  167.85353076\n",
      " 158.73505595 168.0972039  170.39427392 169.85106909 170.36103354]\n",
      "[168.91636898 177.19506461 177.6132553  168.30487948 170.71129085\n",
      " 165.81196588 172.22493083 172.03913008 170.93253309 165.1902246\n",
      " 175.50373028 164.40502105 174.71363433 171.6176357  167.85353076\n",
      " 158.73505595 168.0972039  170.39427392 169.85106909 170.36103354]\n"
     ]
    }
   ],
   "source": [
    "import numpy as np\n",
    "\n",
    "media = 170\n",
    "desv_estandar = 5\n",
    "n_alumnos = 6500\n",
    "\n",
    "estaturas = np.random.normal(loc=media, scale=desv_estandar, size=n_alumnos)\n",
    "\n",
    "print (\"Los primeros 20\")\n",
    "print(estaturas[0:21])\n",
    "\n",
    "\n",
    "print (\"Los ultimos 20\")\n",
    "print(estaturas[6480:6500])\n",
    "print(estaturas[-20:])\n",
    "\n",
    "\n",
    "\n",
    "\n",
    "\n"
   ]
  },
  {
   "cell_type": "code",
   "execution_count": 17,
   "id": "3b978c51",
   "metadata": {},
   "outputs": [
    {
     "name": "stdout",
     "output_type": "stream",
     "text": [
      "169.91268098785108\n",
      "4.974996724190717\n",
      "189.25948840058336\n",
      "149.14667220524638\n"
     ]
    }
   ],
   "source": [
    "# La estadisticos basicos media desviacion maxim y minimo\n",
    "print(np.mean(estaturas))\n",
    "print(np.std(estaturas))\n",
    "print(np.max(estaturas))\n",
    "print(np.min(estaturas))\n",
    "\n"
   ]
  },
  {
   "cell_type": "code",
   "execution_count": 23,
   "id": "22dc3b8b",
   "metadata": {},
   "outputs": [
    {
     "data": {
      "text/plain": [
       "<AxesSubplot:ylabel='Count'>"
      ]
     },
     "execution_count": 23,
     "metadata": {},
     "output_type": "execute_result"
    },
    {
     "data": {
      "image/png": "[encoded data removed]",
      "text/plain": [
       "<Figure size 432x288 with 1 Axes>"
      ]
     },
     "metadata": {
      "needs_background": "light"
     },
     "output_type": "display_data"
    }
   ],
   "source": [
    "# Visuaziar con seaborn\n",
    "import seaborn as sb\n",
    "\n",
    "sb.histplot(estaturas, kde=True)\n"
   ]
  },
  {
   "cell_type": "code",
   "execution_count": 25,
   "id": "db52d7e8",
   "metadata": {},
   "outputs": [
    {
     "data": {
      "text/plain": [
       "array([175.84794562, 164.77493167, 171.42706411, 173.32679372,\n",
       "       159.73579336, 162.5860734 , 171.43942139, 181.16439368,\n",
       "       169.25107743, 168.49209444, 174.28899352, 166.55862464,\n",
       "       172.70692918, 167.64333069, 169.13479245, 174.77725761,\n",
       "       167.33283371, 164.14163119, 175.50361739, 165.37073554,\n",
       "       177.5348814 , 164.86872717, 165.60252608, 171.61273697,\n",
       "       172.25824136, 166.24562137, 165.43636863, 168.21719386,\n",
       "       173.97685967, 173.9898832 , 167.52546201, 172.29527096,\n",
       "       162.0169504 , 161.65865111, 167.05768746, 165.33313149,\n",
       "       168.8579485 , 174.3149213 , 175.58131123, 165.95879024,\n",
       "       170.05242289, 169.59165457, 171.36638234, 168.75947427,\n",
       "       170.67667164, 172.12063487, 164.41524639, 171.16476149,\n",
       "       170.35187141, 166.3465146 ])"
      ]
     },
     "execution_count": 25,
     "metadata": {},
     "output_type": "execute_result"
    }
   ],
   "source": [
    "# Crear una muestra de 50 estudiantes\n",
    "muestra = np.random.choice(estaturas, 50)\n",
    "muestra\n"
   ]
  },
  {
   "cell_type": "code",
   "execution_count": 28,
   "id": "9ca84bdb",
   "metadata": {},
   "outputs": [
    {
     "name": "stdout",
     "output_type": "stream",
     "text": [
      "Estadísticos de la muestra\n",
      "LA media de la muestra es:  169.4138626719448\n",
      "LA Desviación Std de la muestra es:  4.436684281779886\n",
      "MAximo  189.25948840058336\n",
      "Mínimo  149.14667220524638\n"
     ]
    }
   ],
   "source": [
    "print(\"Estadísticos de la muestra\")\n",
    "print(\"LA media de la muestra es: \", np.mean(muestra))\n",
    "print(\"LA Desviación Std de la muestra es: \", np.std(muestra))\n",
    "print(\"MAximo \", np.max(estaturas))\n",
    "print(\"Mínimo \", np.min(estaturas))\n"
   ]
  },
  {
   "cell_type": "code",
   "execution_count": 27,
   "id": "41abc5db",
   "metadata": {},
   "outputs": [
    {
     "data": {
      "text/plain": [
       "<AxesSubplot:ylabel='Count'>"
      ]
     },
     "execution_count": 27,
     "metadata": {},
     "output_type": "execute_result"
    },
    {
     "data": {
      "image/png": "[encoded data removed]",
      "text/plain": [
       "<Figure size 432x288 with 1 Axes>"
      ]
     },
     "metadata": {
      "needs_background": "light"
     },
     "output_type": "display_data"
    }
   ],
   "source": [
    "# Grafica muy similar\n",
    "sb.histplot(muestra, kde=True)"
   ]
  },
  {
   "cell_type": "markdown",
   "id": "11975036",
   "metadata": {},
   "source": [
    "# Interpretación\n",
    "\n",
    "- Con la función *np.array.random* se pueden generar números aleatorios. Para este jercicio se generaron números aleatorios basados en la distribución normal por medio de *np.random.normal()*\n",
    "- Se generaron 6500 valores aleatorios que representan la estatura de 6500 etudiantes que tienen una estaturr media aritmética de 170 y una desviación estándar de 5 centímetros.\n",
    "- Se determinaron los estadísticos elementales como la media, la desviación el valor máximo y mínimo de la población estaturas.\n",
    "- Se construyó una muestra de 50 estudiantes y también se determianron los estadísticos de la muestra\n",
    "- Como era de esperarse, los estadísticos de la muestra se acercan a los valores de los parámetros de la población.\n",
    "- Se visualizó la densidad de la pobación estaturas y de la muestra con la función *sb.histplot()* de la libreria *seaborn*, de igual manera, se presentan gráficas similares con una concentración de datos alrededor de la media aritmética tanto en la población como la muestra."
   ]
  },
  {
   "cell_type": "code",
   "execution_count": null,
   "id": "3fb6bbc4",
   "metadata": {},
   "outputs": [],
   "source": []
  }
 ],
 "metadata": {
  "kernelspec": {
   "display_name": "Python 3 (ipykernel)",
   "language": "python",
   "name": "python3"
  },
  "language_info": {
   "codemirror_mode": {
    "name": "ipython",
    "version": 3
   },
   "file_extension": ".py",
   "mimetype": "text/x-python",
   "name": "python",
   "nbconvert_exporter": "python",
   "pygments_lexer": "ipython3",
   "version": "3.9.12"
  }
 },
 "nbformat": 4,
 "nbformat_minor": 5
}
