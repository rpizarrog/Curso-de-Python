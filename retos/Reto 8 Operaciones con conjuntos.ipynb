{
 "cells": [
  {
   "cell_type": "markdown",
   "id": "ee4dd1d7",
   "metadata": {},
   "source": [
    "\n",
    "# Objetivo\n",
    "\n",
    "Realizar operaciones con conjuntos\n",
    "\n",
    "- Crear conjunto de nombres\n",
    "- Crear distintos conjuntos de equipos deportivos que contienen nombres de estudiantes\n",
    "- Realizar algunas operaciones de conjunos\n",
    "- union\n",
    "- interseccion\n",
    "- diferencia\n",
    "- Mostrar los resulados\n",
    "\n"
   ]
  },
  {
   "cell_type": "code",
   "execution_count": 1,
   "id": "a07bb107",
   "metadata": {},
   "outputs": [
    {
     "name": "stdout",
     "output_type": "stream",
     "text": [
      "{'ERNESTO', 'JAVIER', 'RUBEN', 'INOCENCIO', 'PATY', 'OSCAR', 'LUCY', 'GABRIEL', 'MARY', 'LUIS', 'YOLANDA', 'JOAQUIN'}\n",
      "{'JAIME', 'JOSE', 'FABIAN', 'LUPITA', 'HECTOR', 'RAFAEL', 'GABRIEL', 'GABRIELA', 'JUAN', 'GUILLERMO', 'MARY', 'LUIS'}\n",
      "{'ROBERTO', 'MARIO', 'LEONARDO', 'OSCAR', 'LUCY', 'GABRIEL', 'GUILLERMO', 'MARY', 'HUMBERTO'}\n",
      "{'RUBEN', 'MARIO', 'PATY', 'LUPITA', 'OSCAR', 'GABRIEL', 'FLAVIO', 'EDUARDO', 'CHABELO', 'LUIS'}\n"
     ]
    }
   ],
   "source": [
    "# Crear conjuntos de equipos\n",
    "basquetbol = {'LUIS', 'PATY', 'OSCAR', 'LUCY', 'ERNESTO', 'GABRIEL', 'MARY', 'INOCENCIO', 'RUBEN', 'JOAQUIN', 'YOLANDA', 'JAVIER'}\n",
    "futbol = {'GABRIELA', 'LUIS', 'GUILLERMO', 'GABRIEL', 'MARY', 'FABIAN', 'HECTOR', 'JAIME', 'RAFAEL', 'LUPITA', 'JOSE', 'JUAN'}\n",
    "natacion = {'GUILLERMO', 'OSCAR', 'LEONARDO', 'HUMBERTO', 'ROBERTO', 'MARIO', 'MARY', 'LUCY', 'GABRIEL'}\n",
    "atletismo = {'PATY', 'OSCAR', 'EDUARDO', 'MARIO', 'LUIS', 'RUBEN', 'LUPITA', 'GABRIEL', 'FLAVIO', 'CHABELO'}\n",
    "\n",
    "print(basquetbol)\n",
    "print(futbol)\n",
    "print(natacion)\n",
    "print(atletismo)\n"
   ]
  },
  {
   "cell_type": "markdown",
   "id": "2dbae5b6",
   "metadata": {},
   "source": [
    "### Union"
   ]
  },
  {
   "cell_type": "code",
   "execution_count": 3,
   "id": "c17c3bb3",
   "metadata": {},
   "outputs": [
    {
     "name": "stdout",
     "output_type": "stream",
     "text": [
      "{'PATY', 'LEONARDO', 'CHABELO', 'LUIS', 'MARY', 'HUMBERTO', 'RUBEN', 'ROBERTO', 'MARIO', 'LUPITA', 'OSCAR', 'LUCY', 'GABRIEL', 'FLAVIO', 'EDUARDO', 'GUILLERMO'}\n"
     ]
    }
   ],
   "source": [
    "# Atletismo U natacion\n",
    "\n",
    "AUN = atletismo.union(natacion)\n",
    "print(AUN)"
   ]
  },
  {
   "cell_type": "code",
   "execution_count": 6,
   "id": "12f57f49",
   "metadata": {},
   "outputs": [
    {
     "data": {
      "text/plain": [
       "{'ERNESTO',\n",
       " 'FABIAN',\n",
       " 'GABRIEL',\n",
       " 'GABRIELA',\n",
       " 'GUILLERMO',\n",
       " 'HECTOR',\n",
       " 'INOCENCIO',\n",
       " 'JAIME',\n",
       " 'JAVIER',\n",
       " 'JOAQUIN',\n",
       " 'JOSE',\n",
       " 'JUAN',\n",
       " 'LUCY',\n",
       " 'LUIS',\n",
       " 'LUPITA',\n",
       " 'MARY',\n",
       " 'OSCAR',\n",
       " 'PATY',\n",
       " 'RAFAEL',\n",
       " 'RUBEN',\n",
       " 'YOLANDA'}"
      ]
     },
     "execution_count": 6,
     "metadata": {},
     "output_type": "execute_result"
    }
   ],
   "source": [
    "# Basquetbol union futbol\n",
    "BUF = basquetbol.union(futbol)\n",
    "BUF"
   ]
  },
  {
   "cell_type": "code",
   "execution_count": 9,
   "id": "c39d2eb6",
   "metadata": {},
   "outputs": [
    {
     "data": {
      "text/plain": [
       "{'CHABELO',\n",
       " 'EDUARDO',\n",
       " 'ERNESTO',\n",
       " 'FABIAN',\n",
       " 'FLAVIO',\n",
       " 'GABRIEL',\n",
       " 'GABRIELA',\n",
       " 'GUILLERMO',\n",
       " 'HECTOR',\n",
       " 'INOCENCIO',\n",
       " 'JAIME',\n",
       " 'JAVIER',\n",
       " 'JOAQUIN',\n",
       " 'JOSE',\n",
       " 'JUAN',\n",
       " 'LUCY',\n",
       " 'LUIS',\n",
       " 'LUPITA',\n",
       " 'MARIO',\n",
       " 'MARY',\n",
       " 'OSCAR',\n",
       " 'PATY',\n",
       " 'RAFAEL',\n",
       " 'RUBEN',\n",
       " 'YOLANDA'}"
      ]
     },
     "execution_count": 9,
     "metadata": {},
     "output_type": "execute_result"
    }
   ],
   "source": [
    "# Basquetbol union futbol union atletismo\n",
    "BUFUA = basquetbol.union(futbol, atletismo)\n",
    "BUFUA"
   ]
  },
  {
   "cell_type": "markdown",
   "id": "623fb694",
   "metadata": {},
   "source": [
    "### Intersección"
   ]
  },
  {
   "cell_type": "code",
   "execution_count": 10,
   "id": "c65b5392",
   "metadata": {},
   "outputs": [
    {
     "data": {
      "text/plain": [
       "{'GABRIEL', 'LUCY', 'MARY', 'OSCAR'}"
      ]
     },
     "execution_count": 10,
     "metadata": {},
     "output_type": "execute_result"
    }
   ],
   "source": [
    "# Basquetol interseccion natacion\n",
    "BIN = basquetbol.intersection(natacion)\n",
    "BIN"
   ]
  },
  {
   "cell_type": "code",
   "execution_count": 11,
   "id": "4757cf36",
   "metadata": {},
   "outputs": [
    {
     "data": {
      "text/plain": [
       "{'GABRIEL', 'MARY'}"
      ]
     },
     "execution_count": 11,
     "metadata": {},
     "output_type": "execute_result"
    }
   ],
   "source": [
    "# Basquetol interseccion natacion interseccion futbol\n",
    "BINIF = basquetbol.intersection(natacion, futbol)\n",
    "BINIF"
   ]
  },
  {
   "cell_type": "markdown",
   "id": "4224bd51",
   "metadata": {},
   "source": [
    "### Diferencia\n",
    "\n"
   ]
  },
  {
   "cell_type": "code",
   "execution_count": 14,
   "id": "1db3fdff",
   "metadata": {},
   "outputs": [
    {
     "data": {
      "text/plain": [
       "{'ERNESTO',\n",
       " 'INOCENCIO',\n",
       " 'JAVIER',\n",
       " 'JOAQUIN',\n",
       " 'LUIS',\n",
       " 'PATY',\n",
       " 'RUBEN',\n",
       " 'YOLANDA'}"
      ]
     },
     "execution_count": 14,
     "metadata": {},
     "output_type": "execute_result"
    }
   ],
   "source": [
    "# basquetbol menos natacion\n",
    "BmenosN = basquetbol.difference(natacion)\n",
    "BmenosN"
   ]
  },
  {
   "cell_type": "code",
   "execution_count": 16,
   "id": "0b2af6a0",
   "metadata": {},
   "outputs": [
    {
     "data": {
      "text/plain": [
       "{'CHABELO',\n",
       " 'EDUARDO',\n",
       " 'ERNESTO',\n",
       " 'FLAVIO',\n",
       " 'GABRIEL',\n",
       " 'INOCENCIO',\n",
       " 'JAVIER',\n",
       " 'JOAQUIN',\n",
       " 'LUIS',\n",
       " 'LUPITA',\n",
       " 'MARIO',\n",
       " 'OSCAR',\n",
       " 'PATY',\n",
       " 'RUBEN',\n",
       " 'YOLANDA'}"
      ]
     },
     "execution_count": 16,
     "metadata": {},
     "output_type": "execute_result"
    }
   ],
   "source": [
    "# basquetbol menos natacion union atletismo\n",
    "BmenosNUT = BmenosN.union(atletismo)\n",
    "BmenosNUT"
   ]
  },
  {
   "cell_type": "markdown",
   "id": "960d737c",
   "metadata": {},
   "source": [
    "### Preguntar por subconjuntos"
   ]
  },
  {
   "cell_type": "code",
   "execution_count": 22,
   "id": "3979cd22",
   "metadata": {},
   "outputs": [
    {
     "name": "stdout",
     "output_type": "stream",
     "text": [
      "{'RAFAEL', 'JUAN', 'MARY'}  están en futbol ?\n",
      "\n",
      "True\n",
      "{'RAFAEL', 'JUAN', 'MARY'}  están en basquetbol ?\n",
      "\n",
      "False\n"
     ]
    }
   ],
   "source": [
    "alumnos = {'MARY', 'RAFAEL', 'JUAN'}\n",
    "\n",
    "# sI ESTOS ALUMNOS ESTAN EN FUTBOL\n",
    "print(alumnos, \" están en futbol ?\\n\")\n",
    "print(alumnos.issubset(futbol))\n",
    "\n",
    "\n",
    "# sI ESTOS ALUMNOS ESTAN EN basquetbol\n",
    "print(alumnos, \" están en basquetbol ?\\n\")\n",
    "print(alumnos.issubset(basquetbol))"
   ]
  }
 ],
 "metadata": {
  "kernelspec": {
   "display_name": "Python 3 (ipykernel)",
   "language": "python",
   "name": "python3"
  },
  "language_info": {
   "codemirror_mode": {
    "name": "ipython",
    "version": 3
   },
   "file_extension": ".py",
   "mimetype": "text/x-python",
   "name": "python",
   "nbconvert_exporter": "python",
   "pygments_lexer": "ipython3",
   "version": "3.9.12"
  }
 },
 "nbformat": 4,
 "nbformat_minor": 5
}
