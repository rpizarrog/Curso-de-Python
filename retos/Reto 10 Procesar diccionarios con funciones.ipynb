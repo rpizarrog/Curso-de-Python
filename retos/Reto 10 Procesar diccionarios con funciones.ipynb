{
 "cells": [
  {
   "cell_type": "markdown",
   "id": "43b70c73-3166-4b93-b4eb-f3ec29263f4c",
   "metadata": {},
   "source": [
    "# Reto 10. Importar módulo y funciones \n",
    "\n",
    "## Objetivo\n",
    "\n",
    "Crear un módulo que permita imprtar fuciones para procesamiento de diccionarios y listas \n",
    "\n",
    "## Descripcón \n",
    "\n",
    "- Crear módulo llamada procesar_diccionarios\n",
    "- Importar el módulo\n",
    "- Ejecuatr funciones de saludo, simple, con arguento y la que devuelve un saludo\n",
    "- Crear un diccionario\n",
    "- Mandar llamar la función que ordena un diccionario\n",
    "- Filtrar por genero. Mandar llamar una función que filtrar los elementos del diccionario según el género. Se envpia el diccionario y el génro 1 masculino, 2 femenino, se devuelve una lista según el género\n",
    "- Filtrar por carrera. Mandar llamar una función que filtrar los elementos del diccionario según la carrera. Se envpia el diccionario y la carrera 1 SISTEMAS, 2 TIC, 3 INFORMATICA; se devuelve una lista según la carrera\n",
    "\n",
    "\n"
   ]
  },
  {
   "cell_type": "markdown",
   "id": "7e6cd7c9-b6b1-43cd-a0a0-ea3daea16dae",
   "metadata": {},
   "source": [
    "## Desarrollo\n",
    "\n"
   ]
  },
  {
   "cell_type": "code",
   "execution_count": 10,
   "id": "027291b8-fadf-4a0d-bba3-1bda00b6ce58",
   "metadata": {},
   "outputs": [],
   "source": [
    "# Importar módulo\n",
    "from procesar_diccionarios import *\n",
    "\n"
   ]
  },
  {
   "cell_type": "code",
   "execution_count": 2,
   "id": "1f9253da-a667-49e0-b806-f54d21714adf",
   "metadata": {},
   "outputs": [
    {
     "name": "stdout",
     "output_type": "stream",
     "text": [
      "Saludos. Estamos en el módulo procesar_diccionarios. Hola \n"
     ]
    }
   ],
   "source": [
    "# saludos simple\n",
    "saludo_simple()"
   ]
  },
  {
   "cell_type": "code",
   "execution_count": 3,
   "id": "418de764-77e2-4504-a5d1-c8f21e81d2e1",
   "metadata": {},
   "outputs": [
    {
     "name": "stdout",
     "output_type": "stream",
     "text": [
      "Saludos. Estamos en el módulo procesar_diccionarios: Hola  Rubén\n"
     ]
    }
   ],
   "source": [
    "# saludos nombre\n",
    "saludo_nombre(\"Rubén\")"
   ]
  },
  {
   "cell_type": "code",
   "execution_count": 2,
   "id": "7bd5872f",
   "metadata": {},
   "outputs": [
    {
     "name": "stdout",
     "output_type": "stream",
     "text": [
      "Regresamos. estamos en el módulo procesar_diccionarios. Hola, Rubén\n",
      "Regresamos. estamos en el módulo procesar_diccionarios. Hola, Rubén\n"
     ]
    }
   ],
   "source": [
    "# saludos retorno\n",
    "resultado = saludo_retorno(\"Rubén\")\n",
    "print(resultado)\n",
    "\n",
    "# o simplemente\n",
    "print(saludo_retorno(\"Rubén\"))"
   ]
  },
  {
   "cell_type": "code",
   "execution_count": 2,
   "id": "1862edca",
   "metadata": {},
   "outputs": [
    {
     "data": {
      "text/plain": [
       "{'1000': {'nombre': 'RUBÉN', 'edad': 30, 'genero': 'M', 'carrera': 'SISTEMAS'},\n",
       " '1002': {'nombre': 'JUAN', 'edad': 25, 'genero': 'M', 'carrera': 'TIC'},\n",
       " '1004': {'nombre': 'ADRIANA',\n",
       "  'edad': 20,\n",
       "  'genero': 'F',\n",
       "  'carrera': 'INFORMATICA'},\n",
       " '1006': {'nombre': 'MARY', 'edad': 25, 'genero': 'F', 'carrera': 'SISTEMAS'},\n",
       " '1008': {'nombre': 'GERARDO',\n",
       "  'edad': 22,\n",
       "  'genero': 'M',\n",
       "  'carrera': 'INFORMATICA'},\n",
       " '0050': {'nombre': 'GABY', 'edad': 24, 'genero': 'F', 'carrera': 'TIC'},\n",
       " '0060': {'nombre': 'LULU', 'edad': 22, 'genero': 'F', 'carrera': 'TIC'},\n",
       " '0070': {'nombre': 'MARIO', 'edad': 20, 'genero': 'm', 'carrera': 'SISTEMAS'}}"
      ]
     },
     "execution_count": 2,
     "metadata": {},
     "output_type": "execute_result"
    }
   ],
   "source": [
    "# Crear el diccionario\n",
    "personas = {'1000': {'nombre': 'RUBÉN', 'edad': 30, 'genero': 'M', 'carrera': 'SISTEMAS'},\n",
    " '1002': {'nombre': 'JUAN', 'edad': 25, 'genero': 'M', 'carrera': 'TIC'},\n",
    " '1004': {'nombre': 'ADRIANA',\n",
    "  'edad': 20,\n",
    "  'genero': 'F',\n",
    "  'carrera': 'INFORMATICA'},\n",
    " '1006': {'nombre': 'MARY', 'edad': 25, 'genero': 'F', 'carrera': 'SISTEMAS'},\n",
    " '1008': {'nombre': 'GERARDO',\n",
    "  'edad': 22,\n",
    "  'genero': 'M',\n",
    "  'carrera': 'INFORMATICA'},\n",
    " '0050': {'nombre': 'GABY', 'edad': 24, 'genero': 'F', 'carrera': 'TIC'},\n",
    " '0060': {'nombre': 'LULU', 'edad': 22, 'genero': 'F', 'carrera': 'TIC'},\n",
    " '0070': {'nombre': 'MARIO', 'edad': 20, 'genero': 'm', 'carrera': 'SISTEMAS'}}\n",
    "\n",
    "personas"
   ]
  },
  {
   "cell_type": "code",
   "execution_count": 4,
   "id": "029cac3b",
   "metadata": {},
   "outputs": [
    {
     "data": {
      "text/plain": [
       "{'0050': {'nombre': 'GABY', 'edad': 24, 'genero': 'F', 'carrera': 'TIC'},\n",
       " '0060': {'nombre': 'LULU', 'edad': 22, 'genero': 'F', 'carrera': 'TIC'},\n",
       " '0070': {'nombre': 'MARIO', 'edad': 20, 'genero': 'm', 'carrera': 'SISTEMAS'},\n",
       " '1000': {'nombre': 'RUBÉN', 'edad': 30, 'genero': 'M', 'carrera': 'SISTEMAS'},\n",
       " '1002': {'nombre': 'JUAN', 'edad': 25, 'genero': 'M', 'carrera': 'TIC'},\n",
       " '1004': {'nombre': 'ADRIANA',\n",
       "  'edad': 20,\n",
       "  'genero': 'F',\n",
       "  'carrera': 'INFORMATICA'},\n",
       " '1006': {'nombre': 'MARY', 'edad': 25, 'genero': 'F', 'carrera': 'SISTEMAS'},\n",
       " '1008': {'nombre': 'GERARDO',\n",
       "  'edad': 22,\n",
       "  'genero': 'M',\n",
       "  'carrera': 'INFORMATICA'}}"
      ]
     },
     "execution_count": 4,
     "metadata": {},
     "output_type": "execute_result"
    }
   ],
   "source": [
    "# Ordenar el diccionario\n",
    "personas_ordenado = ordenar_diccionario(personas)\n",
    "personas_ordenado"
   ]
  },
  {
   "cell_type": "code",
   "execution_count": 5,
   "id": "5a285e26",
   "metadata": {},
   "outputs": [
    {
     "data": {
      "text/plain": [
       "[{'nombre': 'GABY', 'edad': 24, 'genero': 'F', 'carrera': 'TIC'},\n",
       " {'nombre': 'LULU', 'edad': 22, 'genero': 'F', 'carrera': 'TIC'},\n",
       " {'nombre': 'ADRIANA', 'edad': 20, 'genero': 'F', 'carrera': 'INFORMATICA'},\n",
       " {'nombre': 'MARY', 'edad': 25, 'genero': 'F', 'carrera': 'SISTEMAS'}]"
      ]
     },
     "execution_count": 5,
     "metadata": {},
     "output_type": "execute_result"
    }
   ],
   "source": [
    "# Extraer los elementos de femenino\n",
    "filtrar_genero(personas_ordenado, 2)"
   ]
  },
  {
   "cell_type": "code",
   "execution_count": 6,
   "id": "9c084472",
   "metadata": {},
   "outputs": [
    {
     "data": {
      "text/plain": [
       "[{'nombre': 'RUBÉN', 'edad': 30, 'genero': 'M', 'carrera': 'SISTEMAS'},\n",
       " {'nombre': 'JUAN', 'edad': 25, 'genero': 'M', 'carrera': 'TIC'},\n",
       " {'nombre': 'GERARDO', 'edad': 22, 'genero': 'M', 'carrera': 'INFORMATICA'}]"
      ]
     },
     "execution_count": 6,
     "metadata": {},
     "output_type": "execute_result"
    }
   ],
   "source": [
    "# Extraer los elementos de masculino\n",
    "filtrar_genero(personas_ordenado, 1)"
   ]
  },
  {
   "cell_type": "code",
   "execution_count": 7,
   "id": "75ab84d6",
   "metadata": {},
   "outputs": [
    {
     "data": {
      "text/plain": [
       "[{'nombre': 'MARIO', 'edad': 20, 'genero': 'm', 'carrera': 'SISTEMAS'},\n",
       " {'nombre': 'RUBÉN', 'edad': 30, 'genero': 'M', 'carrera': 'SISTEMAS'},\n",
       " {'nombre': 'MARY', 'edad': 25, 'genero': 'F', 'carrera': 'SISTEMAS'}]"
      ]
     },
     "execution_count": 7,
     "metadata": {},
     "output_type": "execute_result"
    }
   ],
   "source": [
    "# Extraer por carrera SISTEMAS\n",
    "filtrar_carrera(personas_ordenado, 1)"
   ]
  },
  {
   "cell_type": "code",
   "execution_count": 8,
   "id": "bbf7217b",
   "metadata": {},
   "outputs": [
    {
     "data": {
      "text/plain": [
       "[{'nombre': 'GABY', 'edad': 24, 'genero': 'F', 'carrera': 'TIC'},\n",
       " {'nombre': 'LULU', 'edad': 22, 'genero': 'F', 'carrera': 'TIC'},\n",
       " {'nombre': 'JUAN', 'edad': 25, 'genero': 'M', 'carrera': 'TIC'}]"
      ]
     },
     "execution_count": 8,
     "metadata": {},
     "output_type": "execute_result"
    }
   ],
   "source": [
    "# Extraer por carrera TIC\n",
    "filtrar_carrera(personas_ordenado, 2)"
   ]
  },
  {
   "cell_type": "code",
   "execution_count": 9,
   "id": "c6afe20f",
   "metadata": {},
   "outputs": [
    {
     "data": {
      "text/plain": [
       "[{'nombre': 'ADRIANA', 'edad': 20, 'genero': 'F', 'carrera': 'INFORMATICA'},\n",
       " {'nombre': 'GERARDO', 'edad': 22, 'genero': 'M', 'carrera': 'INFORMATICA'}]"
      ]
     },
     "execution_count": 9,
     "metadata": {},
     "output_type": "execute_result"
    }
   ],
   "source": [
    "# Extraer por carrera INFORMATICA\n",
    "filtrar_carrera(personas_ordenado, 3)"
   ]
  },
  {
   "cell_type": "code",
   "execution_count": null,
   "id": "d00a0f81",
   "metadata": {},
   "outputs": [],
   "source": []
  }
 ],
 "metadata": {
  "kernelspec": {
   "display_name": "Python 3 (ipykernel)",
   "language": "python",
   "name": "python3"
  },
  "language_info": {
   "codemirror_mode": {
    "name": "ipython",
    "version": 3
   },
   "file_extension": ".py",
   "mimetype": "text/x-python",
   "name": "python",
   "nbconvert_exporter": "python",
   "pygments_lexer": "ipython3",
   "version": "3.9.12"
  }
 },
 "nbformat": 4,
 "nbformat_minor": 5
}
