{
 "cells": [
  {
   "cell_type": "markdown",
   "id": "1a898063",
   "metadata": {},
   "source": [
    "# Reto de String\n",
    "\n",
    "## Reto de reto_contar_vocales_string\n",
    "\n",
    "\n",
    "### Contar el número de vocales en una cadena\n",
    "\n",
    "Escribe un programa en Python que pida al usuario ingresar una cadena de texto y luego cuente el número de vocales (a, e, i, o, u) que contiene la cadena y cuente de manera específica cuantas vocales hay de cada una.\n",
    "Cuántas de a\n",
    "Cuántas de e\n",
    "Cuántas de i\n",
    "Cuántas de o\n",
    "Cuántas de u\n",
    "\n",
    "### Ejemplo de entrada:\n",
    "Ingresa una cadena de texto: \"Hola Mundo, saludos desde mi curso Python\"\n",
    "\n",
    "### Ejemplo de salida:\n",
    "La cadena \"Hola Mundo, saludos desde mi curso Python\" tiene 13 vocales.\n",
    "\n",
    "Vocales de a son: 2 \n",
    "Vocales de e son: 2\n",
    "Vocales de i son: 1\n",
    "Vocales de o son: 5\n",
    "Vocales de u son: 3\n",
    "\n",
    "### Construir el libro de notas notebook y compartir\n",
    "\n"
   ]
  },
  {
   "cell_type": "markdown",
   "id": "6c16640d",
   "metadata": {},
   "source": [
    "# Solución "
   ]
  },
  {
   "cell_type": "code",
   "execution_count": 4,
   "id": "b0e86ccc",
   "metadata": {},
   "outputs": [
    {
     "name": "stdout",
     "output_type": "stream",
     "text": [
      "Hola Mundo, saludos desde mi curso Python\n"
     ]
    }
   ],
   "source": [
    "texto = \"Hola Mundo, saludos desde mi curso Python\"\n",
    "print(texto)"
   ]
  },
  {
   "cell_type": "code",
   "execution_count": 20,
   "id": "3ff70c45",
   "metadata": {},
   "outputs": [
    {
     "name": "stdout",
     "output_type": "stream",
     "text": [
      "Las cantidad de vocales son :  13\n",
      "Vocales a 2\n",
      "Vocales e 2\n",
      "Vocales i 1\n",
      "Vocales o 5\n",
      "Vocales u 3\n"
     ]
    }
   ],
   "source": [
    "a, e, i, o, u = 0, 0, 0, 0, 0 # Asignación múltiple\n",
    "\n",
    "for l in texto:\n",
    "    if l == 'a':\n",
    "        a += 1\n",
    "    if l == 'e':\n",
    "        e += 1\n",
    "    if l == 'i':\n",
    "        i += 1\n",
    "    if l == 'o':\n",
    "        o += 1        \n",
    "    if l == 'u':\n",
    "        u += 1\n",
    "        \n",
    "print (\"Las cantidad de vocales son : \", (a + e + i + o + u))\n",
    "print (\"Vocales a\" , a)\n",
    "print (\"Vocales e\" , e)\n",
    "print (\"Vocales i\" , i)\n",
    "print (\"Vocales o\" , o)\n",
    "print (\"Vocales u\" , u)\n"
   ]
  },
  {
   "cell_type": "code",
   "execution_count": null,
   "id": "e87d4580",
   "metadata": {},
   "outputs": [],
   "source": []
  }
 ],
 "metadata": {
  "kernelspec": {
   "display_name": "Python 3 (ipykernel)",
   "language": "python",
   "name": "python3"
  },
  "language_info": {
   "codemirror_mode": {
    "name": "ipython",
    "version": 3
   },
   "file_extension": ".py",
   "mimetype": "text/x-python",
   "name": "python",
   "nbconvert_exporter": "python",
   "pygments_lexer": "ipython3",
   "version": "3.9.12"
  }
 },
 "nbformat": 4,
 "nbformat_minor": 5
}
