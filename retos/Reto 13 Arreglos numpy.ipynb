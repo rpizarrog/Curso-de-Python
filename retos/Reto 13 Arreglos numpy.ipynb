{
 "cells": [
  {
   "cell_type": "markdown",
   "id": "201374e2",
   "metadata": {},
   "source": [
    "# Reto 13. Arreglos numpy\n",
    "\n",
    "Dado un arreglo de números aleatorios de forma (5 renglones, 5 columnas) con valores enteros entre 1 y 100, encuentra los números primos de cada renglón y reemplaza todos los números que no son primos con un cero.\n",
    "\n",
    "Presentar la matriz antes y después de actualizar los números que no sean primos\n",
    "La característica de los primos es que sean divisible entre la unidad 1 y entre si mismos y el resultado sea un entero.\n",
    "2, 5, 7, 11, 13, 17, 19, 23…. 97\n",
    "\n",
    "\n"
   ]
  },
  {
   "cell_type": "code",
   "execution_count": null,
   "id": "14bacaa2",
   "metadata": {},
   "outputs": [],
   "source": []
  }
 ],
 "metadata": {
  "kernelspec": {
   "display_name": "Python 3 (ipykernel)",
   "language": "python",
   "name": "python3"
  },
  "language_info": {
   "codemirror_mode": {
    "name": "ipython",
    "version": 3
   },
   "file_extension": ".py",
   "mimetype": "text/x-python",
   "name": "python",
   "nbconvert_exporter": "python",
   "pygments_lexer": "ipython3",
   "version": "3.9.12"
  }
 },
 "nbformat": 4,
 "nbformat_minor": 5
}
