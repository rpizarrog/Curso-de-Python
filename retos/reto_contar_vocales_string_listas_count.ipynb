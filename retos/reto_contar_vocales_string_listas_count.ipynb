{
 "cells": [
  {
   "cell_type": "markdown",
   "id": "b10b29a6",
   "metadata": {},
   "source": [
    "# Reto de String\n",
    "\n",
    "## Reto de reto_contar_vocales_string\n",
    "\n",
    "\n",
    "### Contar el número de vocales en una cadena\n",
    "\n",
    "Escribe un programa en Python que pida al usuario ingresar una cadena de texto y luego cuente el número de vocales (a, e, i, o, u) que contiene la cadena y cuente de manera específica cuantas vocales hay de cada una.\n",
    "Cuántas de a\n",
    "Cuántas de e\n",
    "Cuántas de i\n",
    "Cuántas de o\n",
    "Cuántas de u\n",
    "\n",
    "### Ejemplo de entrada:\n",
    "Ingresa una cadena de texto: \"Hola Mundo, saludos desde mi curso Python\"\n",
    "\n",
    "### Ejemplo de salida:\n",
    "La cadena \"Hola Mundo, saludos desde mi curso Python\" tiene 13 vocales.\n",
    "\n",
    "Vocales de a son: 2 \n",
    "Vocales de e son: 2\n",
    "Vocales de i son: 1\n",
    "Vocales de o son: 5\n",
    "Vocales de u son: 3\n",
    "\n",
    "### Construir el libro de notas notebook y compartir\n",
    "\n",
    "La solución con count()"
   ]
  },
  {
   "cell_type": "code",
   "execution_count": 31,
   "id": "2ada4533",
   "metadata": {},
   "outputs": [
    {
     "name": "stdout",
     "output_type": "stream",
     "text": [
      "Hola Mundo, saludos desde mi curso Python\n"
     ]
    }
   ],
   "source": [
    "texto = \"Hola Mundo, saludos desde mi curso Python\"\n",
    "print(texto)"
   ]
  },
  {
   "cell_type": "code",
   "execution_count": 34,
   "id": "bc91a336",
   "metadata": {},
   "outputs": [
    {
     "data": {
      "text/plain": [
       "['H',\n",
       " 'o',\n",
       " 'l',\n",
       " 'a',\n",
       " ' ',\n",
       " 'M',\n",
       " 'u',\n",
       " 'n',\n",
       " 'd',\n",
       " 'o',\n",
       " ',',\n",
       " ' ',\n",
       " 's',\n",
       " 'a',\n",
       " 'l',\n",
       " 'u',\n",
       " 'd',\n",
       " 'o',\n",
       " 's',\n",
       " ' ',\n",
       " 'd',\n",
       " 'e',\n",
       " 's',\n",
       " 'd',\n",
       " 'e',\n",
       " ' ',\n",
       " 'm',\n",
       " 'i',\n",
       " ' ',\n",
       " 'c',\n",
       " 'u',\n",
       " 'r',\n",
       " 's',\n",
       " 'o',\n",
       " ' ',\n",
       " 'P',\n",
       " 'y',\n",
       " 't',\n",
       " 'h',\n",
       " 'o',\n",
       " 'n']"
      ]
     },
     "execution_count": 34,
     "metadata": {},
     "output_type": "execute_result"
    }
   ],
   "source": [
    "letras = list(texto)\n",
    "letras"
   ]
  },
  {
   "cell_type": "code",
   "execution_count": 36,
   "id": "85eb6d9d",
   "metadata": {},
   "outputs": [
    {
     "name": "stdout",
     "output_type": "stream",
     "text": [
      "Vocales a hay:  2\n",
      "Vocales e hay:  2\n",
      "Vocales i hay:  1\n",
      "Vocales o hay:  5\n",
      "Vocales u hay:  3\n"
     ]
    }
   ],
   "source": [
    "a = letras.count('a')\n",
    "e = letras.count('e')\n",
    "i = letras.count('i')\n",
    "o = letras.count('o')\n",
    "u = letras.count('u')\n",
    "\n",
    "print (\"Vocales a hay: \", a)\n",
    "print (\"Vocales e hay: \", e)\n",
    "print (\"Vocales i hay: \", i)\n",
    "print (\"Vocales o hay: \", o)\n",
    "print (\"Vocales u hay: \", u)"
   ]
  }
 ],
 "metadata": {
  "kernelspec": {
   "display_name": "Python 3 (ipykernel)",
   "language": "python",
   "name": "python3"
  },
  "language_info": {
   "codemirror_mode": {
    "name": "ipython",
    "version": 3
   },
   "file_extension": ".py",
   "mimetype": "text/x-python",
   "name": "python",
   "nbconvert_exporter": "python",
   "pygments_lexer": "ipython3",
   "version": "3.9.12"
  }
 },
 "nbformat": 4,
 "nbformat_minor": 5
}
