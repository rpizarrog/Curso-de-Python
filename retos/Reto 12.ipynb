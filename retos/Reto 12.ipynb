# Reto 12

## Construir una clase llamada personas con estos atributos y funciones:
### Atributos: nombre, edad, genero
### Funciones: 
  comer [True comiendo o False no comiendo],
  despierto [True Despierto o False Dormido], 
  caminar [True o False], 
  estado [True = Sano o False = Enfermo]

condiciones: 
  No puede comer ni caminar cuando está dormido
  Solo cuando está sano puede comer y caminar

Construir un objeto que simule los atributos, así como las funciones de una persona.

Presenta el estado del objeto de la clase persona

Similar a la clase autos:
