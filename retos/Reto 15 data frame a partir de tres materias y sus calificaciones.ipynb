{
 "cells": [
  {
   "cell_type": "markdown",
   "id": "585d984c",
   "metadata": {},
   "source": [
    "# Reto 15 cargar un archivo csv\n",
    "\n",
    "Crear un dataframe a partir de tres vectores numpy y generar una salida con valores aleatorios de calificaciones de tres materias:\n",
    "\n",
    "- Los tres vectores son: matematicas que se genera como una distribución normal con media = 85 y desviación estándar = 5; ingles que se genera como una distribución normal con media = 90 y desviación estándar = 5 y programacion que se genera como una distribución normal con media = 80 y desviación estándar = 5\n",
    "- A partir de los tres vectores crear el dataframe llamado datos o calificaciones\n",
    "- Describir los estadísticos básicos media, desviación mínimo, máximo de cada variable del dataframe o conjunto de datos.\n",
    "- Visualizar la distribución de los datos de cada variable e interpretar el caso.\n",
    "- Deben ser n igual a 20 registros por variable tal como se indica:\n",
    "\n",
    "\n",
    "\n",
    "matematicas\t\n",
    "85.29, 95.46, 85.48, 79.10, 88.56, 81.96\n",
    "Hasta 20 registros…\t \n",
    "\n",
    "ingles\n",
    "78.77, 94.52, 93.32 , 86.53, 79.90, 90.14 …\t\n",
    "\n",
    "programacion\n",
    "76.93, 81.65, 83.49, 87.65 , 74.56 , 84.70 ...\n",
    "\n",
    "- Debe crear un data frame de 20 registros y 3 columnas\n",
    "\n",
    "\n",
    "\n"
   ]
  },
  {
   "cell_type": "markdown",
   "id": "75c42868",
   "metadata": {},
   "source": []
  }
 ],
 "metadata": {
  "kernelspec": {
   "display_name": "Python 3 (ipykernel)",
   "language": "python",
   "name": "python3"
  },
  "language_info": {
   "codemirror_mode": {
    "name": "ipython",
    "version": 3
   },
   "file_extension": ".py",
   "mimetype": "text/x-python",
   "name": "python",
   "nbconvert_exporter": "python",
   "pygments_lexer": "ipython3",
   "version": "3.9.12"
  }
 },
 "nbformat": 4,
 "nbformat_minor": 5
}
