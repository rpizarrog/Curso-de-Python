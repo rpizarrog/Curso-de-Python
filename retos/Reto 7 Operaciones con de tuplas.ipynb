{
 "cells": [
  {
   "cell_type": "markdown",
   "id": "039ba039-6767-4be5-a09a-ec18728295aa",
   "metadata": {},
   "source": [
    "# Reto 7. Operaciones con de tuplas\n",
    "\n",
    "## Objetivo\n",
    "\n",
    "Realizar operaciones con tuplas\n",
    "\n",
    "## Descripción\n",
    "\n",
    "- Crear tres tuplas con nombres de ENTIDAES FEDERATIVAS del norte, del centro y del sur de la República Mexicana, \n",
    "- Juntar las tuplas y mostrar el resultado de la junta de manera ordenada\n",
    "- Contabilizar el número de etados en la tupla total de estados\n",
    "- Ordenar tupla de todos los estados\n",
    "- Convertir esta tupla ordenda a lista\n",
    "- Acceder a elementos de la lista el 4 y el 6\n",
    "- Regresando a la tupla estados ordenados; determinar si el estado es del norte, del centro o del sur de cada estado. Ciclos y condicionales\n",
    "\n"
   ]
  },
  {
   "cell_type": "markdown",
   "id": "d534f249-fbf2-4f25-8e67-17ea889a68d7",
   "metadata": {},
   "source": [
    "## Desarrollo"
   ]
  },
  {
   "cell_type": "code",
   "execution_count": 4,
   "id": "f07576f5-62d5-49f9-b4ff-83064ad56221",
   "metadata": {},
   "outputs": [
    {
     "data": {
      "text/plain": [
       "('DURANGO', 'CHIHUAHUA', 'SONORA', 'BAJA CALIFORNIA')"
      ]
     },
     "execution_count": 4,
     "metadata": {},
     "output_type": "execute_result"
    }
   ],
   "source": [
    "# Crear tupla estados del norte\n",
    "e_norte = (\"DURANGO\", \"CHIHUAHUA\", \"SONORA\", \"BAJA CALIFORNIA\")\n",
    "e_norte"
   ]
  },
  {
   "cell_type": "code",
   "execution_count": 5,
   "id": "c557a37f-e6b5-4f76-a083-3d00b0856de7",
   "metadata": {},
   "outputs": [
    {
     "data": {
      "text/plain": [
       "('SAN LUIS POTOSI', 'MEXICO', 'PUEBLA', 'QUERETARO', 'MORELOS')"
      ]
     },
     "execution_count": 5,
     "metadata": {},
     "output_type": "execute_result"
    }
   ],
   "source": [
    "# Crear tupla estados del centro\n",
    "e_centro = (\"SAN LUIS POTOSI\", \"MEXICO\", \"PUEBLA\", \"QUERETARO\", \"MORELOS\")\n",
    "e_centro"
   ]
  },
  {
   "cell_type": "code",
   "execution_count": 6,
   "id": "b0ede76a-13fa-4b52-b563-1bc4212db719",
   "metadata": {},
   "outputs": [
    {
     "data": {
      "text/plain": [
       "('OAXACA', 'GUERRERO', 'VERACRUZ', 'CAMPECHE')"
      ]
     },
     "execution_count": 6,
     "metadata": {},
     "output_type": "execute_result"
    }
   ],
   "source": [
    "# Crear tupla estados del centro\n",
    "e_sur = (\"OAXACA\", \"GUERRERO\", \"VERACRUZ\", \"CAMPECHE\")\n",
    "e_sur "
   ]
  },
  {
   "cell_type": "code",
   "execution_count": 12,
   "id": "0ea8913b-d192-4542-baea-5d2c4ad05907",
   "metadata": {},
   "outputs": [
    {
     "data": {
      "text/plain": [
       "('DURANGO',\n",
       " 'CHIHUAHUA',\n",
       " 'SONORA',\n",
       " 'BAJA CALIFORNIA',\n",
       " 'SAN LUIS POTOSI',\n",
       " 'MEXICO',\n",
       " 'PUEBLA',\n",
       " 'QUERETARO',\n",
       " 'MORELOS',\n",
       " 'OAXACA',\n",
       " 'GUERRERO',\n",
       " 'VERACRUZ',\n",
       " 'CAMPECHE')"
      ]
     },
     "execution_count": 12,
     "metadata": {},
     "output_type": "execute_result"
    }
   ],
   "source": [
    "estados = e_norte + e_centro + e_sur\n",
    "estados"
   ]
  },
  {
   "cell_type": "code",
   "execution_count": 10,
   "id": "9de2920b-57f2-4eae-9383-39b2ce5be7f1",
   "metadata": {},
   "outputs": [
    {
     "data": {
      "text/plain": [
       "13"
      ]
     },
     "execution_count": 10,
     "metadata": {},
     "output_type": "execute_result"
    }
   ],
   "source": [
    "# Contabilizar tupla estados\n",
    "cuantos = len(estados)\n",
    "cuantos\n"
   ]
  },
  {
   "cell_type": "code",
   "execution_count": 13,
   "id": "ceb7f9e3-21be-4a8b-830f-b8de7722e7a1",
   "metadata": {},
   "outputs": [
    {
     "name": "stdout",
     "output_type": "stream",
     "text": [
      "['BAJA CALIFORNIA', 'CAMPECHE', 'CHIHUAHUA', 'DURANGO', 'GUERRERO', 'MEXICO', 'MORELOS', 'OAXACA', 'PUEBLA', 'QUERETARO', 'SAN LUIS POTOSI', 'SONORA', 'VERACRUZ']\n"
     ]
    }
   ],
   "source": [
    "# Ordenar estados\n",
    "# Ordenar la tupla utilizando la función sorted()\n",
    "estados_ordenada = sorted(estados)\n",
    "\n",
    "# Imprimir la tupla ordenada\n",
    "print(estados_ordenada)"
   ]
  },
  {
   "cell_type": "code",
   "execution_count": 14,
   "id": "cc8b5d96-bfc8-4b15-9ebc-f5ad24f9fcc0",
   "metadata": {},
   "outputs": [
    {
     "data": {
      "text/plain": [
       "['DURANGO',\n",
       " 'CHIHUAHUA',\n",
       " 'SONORA',\n",
       " 'BAJA CALIFORNIA',\n",
       " 'SAN LUIS POTOSI',\n",
       " 'MEXICO',\n",
       " 'PUEBLA',\n",
       " 'QUERETARO',\n",
       " 'MORELOS',\n",
       " 'OAXACA',\n",
       " 'GUERRERO',\n",
       " 'VERACRUZ',\n",
       " 'CAMPECHE']"
      ]
     },
     "execution_count": 14,
     "metadata": {},
     "output_type": "execute_result"
    }
   ],
   "source": [
    "# Convertir a lista la tupla de estados ordenada\n",
    "l_estados = list(estados_ordenada)\n",
    "l_estados"
   ]
  },
  {
   "cell_type": "code",
   "execution_count": 16,
   "id": "0f69fd75-0baa-4f66-a6d5-46e7d3f42f76",
   "metadata": {},
   "outputs": [
    {
     "name": "stdout",
     "output_type": "stream",
     "text": [
      "SAN LUIS POTOSI\n",
      "PUEBLA\n"
     ]
    }
   ],
   "source": [
    "# Acceder a alementos de la llista\n",
    "print(l_estados[4])\n",
    "print(l_estados[6])"
   ]
  },
  {
   "cell_type": "code",
   "execution_count": 21,
   "id": "2a0e2867-afee-4b92-a0e1-1c264551ba76",
   "metadata": {},
   "outputs": [
    {
     "name": "stdout",
     "output_type": "stream",
     "text": [
      "El estado  BAJA CALIFORNIA es del norte\n",
      "El estado  CAMPECHE es del sur\n",
      "El estado  CHIHUAHUA es del norte\n",
      "El estado  DURANGO es del norte\n",
      "El estado  GUERRERO es del sur\n",
      "El estado  MEXICO es del centro\n",
      "El estado  MORELOS es del centro\n",
      "El estado  OAXACA es del sur\n",
      "El estado  PUEBLA es del centro\n",
      "El estado  QUERETARO es del centro\n",
      "El estado  SAN LUIS POTOSI es del centro\n",
      "El estado  SONORA es del norte\n",
      "El estado  VERACRUZ es del sur\n"
     ]
    }
   ],
   "source": [
    "# preguntar por estado norte, centro y sur\n",
    "for estado in estados_ordenada:\n",
    "    if estado in e_norte:\n",
    "        print(\"El estado \", estado, \"es del norte\")\n",
    "    elif estado in e_centro:\n",
    "        print(\"El estado \", estado, \"es del centro\")\n",
    "    else:\n",
    "        print(\"El estado \", estado, \"es del sur\")"
   ]
  },
  {
   "cell_type": "code",
   "execution_count": null,
   "id": "56c561bb-3dc6-4277-b607-065eb674b5a9",
   "metadata": {},
   "outputs": [],
   "source": []
  },
  {
   "cell_type": "code",
   "execution_count": null,
   "id": "40b9b30b-2920-4ab9-b68e-832aab106f4a",
   "metadata": {},
   "outputs": [],
   "source": []
  },
  {
   "cell_type": "code",
   "execution_count": null,
   "id": "38ce8c2c-3c64-4598-8fc7-1dc2b574b8bf",
   "metadata": {},
   "outputs": [],
   "source": []
  }
 ],
 "metadata": {
  "kernelspec": {
   "display_name": "Python 3 (ipykernel)",
   "language": "python",
   "name": "python3"
  },
  "language_info": {
   "codemirror_mode": {
    "name": "ipython",
    "version": 3
   },
   "file_extension": ".py",
   "mimetype": "text/x-python",
   "name": "python",
   "nbconvert_exporter": "python",
   "pygments_lexer": "ipython3",
   "version": "3.9.12"
  }
 },
 "nbformat": 4,
 "nbformat_minor": 5
}
