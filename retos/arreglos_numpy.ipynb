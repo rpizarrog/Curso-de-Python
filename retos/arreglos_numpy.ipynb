{
 "cells": [
  {
   "cell_type": "markdown",
   "id": "5bb782e8",
   "metadata": {},
   "source": [
    "# Crear arreglo numpy"
   ]
  },
  {
   "cell_type": "code",
   "execution_count": 1,
   "id": "afa28662",
   "metadata": {},
   "outputs": [
    {
     "name": "stdout",
     "output_type": "stream",
     "text": [
      "[1 2 3 4 5]\n"
     ]
    }
   ],
   "source": [
    "# Crear arreglo a partir de la librería numpy\n",
    "import numpy\n",
    "\n",
    "arr = numpy.array([1, 2, 3, 4, 5])\n",
    "\n",
    "print(arr)"
   ]
  },
  {
   "cell_type": "code",
   "execution_count": 5,
   "id": "ca1b5be2",
   "metadata": {},
   "outputs": [
    {
     "name": "stdout",
     "output_type": "stream",
     "text": [
      "[ 4  6  8  6 10]\n"
     ]
    }
   ],
   "source": [
    "# Crear arreglo tambinen con la librería numpy solo que con un alias np\n",
    "import numpy as np\n",
    "\n",
    "arr2 = np.array ([4, 6, 8, 6, 10])\n",
    "\n",
    "print(arr2)"
   ]
  },
  {
   "cell_type": "code",
   "execution_count": 6,
   "id": "ad0b7321",
   "metadata": {},
   "outputs": [
    {
     "name": "stdout",
     "output_type": "stream",
     "text": [
      "1.21.5\n"
     ]
    }
   ],
   "source": [
    "# Versión de numpy\n",
    "# import numpy as np\n",
    "\n",
    "print(np.__version__)"
   ]
  },
  {
   "cell_type": "code",
   "execution_count": 7,
   "id": "3e97ee7a",
   "metadata": {},
   "outputs": [
    {
     "name": "stdout",
     "output_type": "stream",
     "text": [
      "[8 7 8 9 4]\n",
      "<class 'numpy.ndarray'>\n"
     ]
    }
   ],
   "source": [
    "# Qu tipo de datos es el arreglo numpy\n",
    "# import numpy as np\n",
    "\n",
    "arr = np.array([8, 7, 8, 9, 4])\n",
    "\n",
    "print(arr)\n",
    "\n",
    "print(type(arr))"
   ]
  },
  {
   "cell_type": "code",
   "execution_count": 37,
   "id": "9034606b",
   "metadata": {},
   "outputs": [
    {
     "name": "stdout",
     "output_type": "stream",
     "text": [
      "[4 5 6 7 6 8 9 8 7 6 5]\n",
      "<class 'tuple'>\n",
      "<class 'numpy.ndarray'>\n"
     ]
    }
   ],
   "source": [
    "# A partir de una tupla de Python crear un arreglo numpy\n",
    "# La función type() muestra el tipo de dato, estructura u objeto que se está usando\n",
    "\n",
    "\n",
    "# import numpy as np\n",
    "\n",
    "latupla = (4, 5, 6, 7, 6, 8, 9, 8, 7, 6, 5)\n",
    "\n",
    "arr = np.array(latupla)\n",
    "\n",
    "print(arr)\n",
    "\n",
    "\n",
    "print(type(latupla))\n",
    "print(type(arr))"
   ]
  },
  {
   "cell_type": "code",
   "execution_count": 17,
   "id": "fefd736a",
   "metadata": {},
   "outputs": [
    {
     "data": {
      "text/plain": [
       "5"
      ]
     },
     "execution_count": 17,
     "metadata": {},
     "output_type": "execute_result"
    }
   ],
   "source": [
    "# Acceder a elementos del arreglo. Los arreglo numpy comienzan en posición 0, 1, 2,,,,,, n\n",
    "arr[1]"
   ]
  },
  {
   "cell_type": "code",
   "execution_count": 23,
   "id": "414ba028",
   "metadata": {},
   "outputs": [
    {
     "name": "stdout",
     "output_type": "stream",
     "text": [
      "[[1 2 3]\n",
      " [4 5 6]]\n"
     ]
    }
   ],
   "source": [
    "# Arreglos de dos dimensiones, puede tal vez entenderse como un matriz\n",
    "import numpy as np\n",
    "\n",
    "matriz = np.array([[1, 2, 3], [4, 5, 6]])\n",
    "\n",
    "print(matriz)"
   ]
  },
  {
   "cell_type": "code",
   "execution_count": 27,
   "id": "8c5030bf",
   "metadata": {},
   "outputs": [
    {
     "name": "stdout",
     "output_type": "stream",
     "text": [
      "matriz en renglon 1, columna 1 es: 5\n",
      "matriz en renglon 0, columna 2 es: 3\n"
     ]
    }
   ],
   "source": [
    "# Acceder a elementos del arreglo\n",
    "print(\"matriz en renglon 1, columna 1 es:\" , matriz[1][1])\n",
    "print(\"matriz en renglon 0, columna 2 es:\" , matriz[0][2])\n"
   ]
  },
  {
   "cell_type": "code",
   "execution_count": 34,
   "id": "5d9fab94",
   "metadata": {},
   "outputs": [
    {
     "name": "stdout",
     "output_type": "stream",
     "text": [
      "[[[1 2 3]\n",
      "  [4 5 6]]\n",
      "\n",
      " [[1 2 3]\n",
      "  [4 5 6]]]\n"
     ]
    },
    {
     "data": {
      "text/plain": [
       "5"
      ]
     },
     "execution_count": 34,
     "metadata": {},
     "output_type": "execute_result"
    }
   ],
   "source": [
    "# Arreglo de 3 dimensiones\n",
    "import numpy as np\n",
    "\n",
    "arr_tres = np.array([[[1, 2, 3], [4, 5, 6]], \n",
    "                     [[1, 2, 3], [4, 5, 6]]])\n",
    "\n",
    "print(arr_tres)\n",
    "\n",
    "# Accediendo a posiciones específicas\n",
    "\n",
    "arr_tres[0]\n",
    "arr_tres[0][1]\n",
    "\n",
    "arr_tres[1][1][1]"
   ]
  },
  {
   "cell_type": "code",
   "execution_count": 41,
   "id": "279e2774",
   "metadata": {},
   "outputs": [
    {
     "name": "stdout",
     "output_type": "stream",
     "text": [
      "El arreglo arr es de  1 D's\n",
      "El arreglo matriz es de  2 D's\n",
      "El arreglo arr_tres es de  3 D's\n"
     ]
    }
   ],
   "source": [
    "# Conocer de cuantas dimensiones son los arreglos con el método ndim\n",
    "print(\"El arreglo arr es de \", arr.ndim, \"D's\")\n",
    "print(\"El arreglo matriz es de \", matriz.ndim, \"D's\")\n",
    "print(\"El arreglo arr_tres es de \", arr_tres.ndim, \"D's\")\n",
    "\n"
   ]
  },
  {
   "cell_type": "code",
   "execution_count": 159,
   "id": "8df303fb",
   "metadata": {},
   "outputs": [
    {
     "name": "stdout",
     "output_type": "stream",
     "text": [
      "[[ 1  2  3  4  5  6]\n",
      " [ 7  8  9 10 11 12]]\n",
      "10\n",
      "10\n"
     ]
    }
   ],
   "source": [
    "# Arreglos con dimensiones no cuadradas,\n",
    "# Primer fila: [1, 2, 3, 4, 5, 6]\n",
    "# Segunda fila: [7, 8, 9, 10, 11, 12]\n",
    "mi_arreglo = np.array([[1, 2, 3, 4, 5, 6], [7, 8, 9, 10, 11, 12]])\n",
    "\n",
    "print(mi_arreglo)\n",
    "\n",
    "print(mi_arreglo[1][3]) \n",
    "# o bien\n",
    "print(mi_arreglo[1,3])"
   ]
  },
  {
   "cell_type": "code",
   "execution_count": 52,
   "id": "f8c45a1d",
   "metadata": {},
   "outputs": [
    {
     "name": "stdout",
     "output_type": "stream",
     "text": [
      "Del renglo 0, los elementos del 3 al 5 []\n"
     ]
    }
   ],
   "source": [
    "# Acceder  slice varios elementos de un arreglo con el formao renglon:columna\n",
    "\n",
    "print(\"Del renglo 0, los elementos del 3 al 5\", [0][3:5])\n"
   ]
  },
  {
   "cell_type": "code",
   "execution_count": 65,
   "id": "1f5a77a2",
   "metadata": {},
   "outputs": [
    {
     "name": "stdout",
     "output_type": "stream",
     "text": [
      "Las edades [[ 1  2  3  6  8]\n",
      " [20 23 24  4  5]]\n"
     ]
    }
   ],
   "source": [
    "# Los arreglos numpy son eficienes para valores numéricos y también pueden almacenar otros tipos de datos\n",
    "\n",
    "edades = np.array([[1,2,3,6,8],[20, 23, 24, 4, 5]])\n",
    "\n",
    "print(\"Las edades\", \n",
    "      edades)"
   ]
  },
  {
   "cell_type": "code",
   "execution_count": 68,
   "id": "6343c6eb",
   "metadata": {},
   "outputs": [
    {
     "name": "stdout",
     "output_type": "stream",
     "text": [
      "<U5\n"
     ]
    }
   ],
   "source": [
    "# Arreglos con otro tipo de datos no  numéricos. sTRING\n",
    "\n",
    "\n",
    "nombres = np.array(['RUBEN', 'OSCAR', 'PATY'])\n",
    "\n",
    "print(nombres.dtype)"
   ]
  },
  {
   "cell_type": "code",
   "execution_count": 75,
   "id": "8ea5f9a3",
   "metadata": {},
   "outputs": [
    {
     "name": "stdout",
     "output_type": "stream",
     "text": [
      "[6 7 8 4 5]\n",
      "[10  7  8  4  5]\n"
     ]
    }
   ],
   "source": [
    "# Copiando edades\n",
    "nums = np.array([6, 7, 8, 4, 5])\n",
    "nums_cpy = nums.copy()\n",
    "nums_cpy[0] = 10\n",
    "\n",
    "print(nums)\n",
    "print(nums_cpy)"
   ]
  },
  {
   "cell_type": "code",
   "execution_count": 77,
   "id": "8f2e2da6",
   "metadata": {},
   "outputs": [
    {
     "name": "stdout",
     "output_type": "stream",
     "text": [
      "(5,)\n"
     ]
    }
   ],
   "source": [
    "# Modificando las dimensiones del arreglo\n",
    "print(nums.shape)"
   ]
  },
  {
   "cell_type": "code",
   "execution_count": 158,
   "id": "86236cf0",
   "metadata": {},
   "outputs": [
    {
     "name": "stdout",
     "output_type": "stream",
     "text": [
      "nums ...\n",
      "[ 1  2  3  4  5  6  7  8  9 10 11 12]\n",
      "(12,)\n",
      "nums_cpy\n",
      "[[ 1  2  3]\n",
      " [ 4  5  6]\n",
      " [ 7  8  9]\n",
      " [10 11 12]]\n",
      "(4, 3)\n",
      "Renglon 0, Columna1\n",
      "2\n"
     ]
    }
   ],
   "source": [
    "# Moifiar un arreglo de 1 a dos dimensiones\n",
    "nums = np.array([1, 2, 3, 4, 5, 6, 7, 8, 9, 10, 11, 12])\n",
    "\n",
    "print(\"nums ...\")\n",
    "print (nums)\n",
    "print(nums.shape)\n",
    "\n",
    "\n",
    "print(\"nums_cpy\")\n",
    "nums_cpy = nums.copy()\n",
    "\n",
    "nums_cpy = nums_cpy.reshape(4, 3)\n",
    "\n",
    "print(nums_cpy)\n",
    "print(nums_cpy.shape)\n",
    "\n",
    "print(\"Renglon 0, Columna1\")\n",
    "print(nums_cpy[0][1])"
   ]
  },
  {
   "cell_type": "code",
   "execution_count": 88,
   "id": "e0967a19",
   "metadata": {},
   "outputs": [
    {
     "name": "stdout",
     "output_type": "stream",
     "text": [
      "nums ...\n",
      "1\n",
      "2\n",
      "3\n",
      "4\n",
      "5\n",
      "6\n",
      "7\n",
      "8\n",
      "9\n",
      "10\n",
      "11\n",
      "12\n",
      "nums_cpy ...\n",
      "[1 2 3]\n",
      "[4 5 6]\n",
      "[7 8 9]\n",
      "[10 11 12]\n"
     ]
    }
   ],
   "source": [
    "# Recorriendo un arreglo numpy\n",
    "\n",
    "print(\"nums ...\")\n",
    "for r in nums:\n",
    "    print (r)\n",
    "    \n",
    "print(\"nums_cpy ...\")    \n",
    "for r in nums_cpy:\n",
    "    print(r)\n",
    "        "
   ]
  },
  {
   "cell_type": "code",
   "execution_count": 89,
   "id": "382707c0",
   "metadata": {},
   "outputs": [
    {
     "name": "stdout",
     "output_type": "stream",
     "text": [
      "[4 5 3 6 7 8]\n"
     ]
    }
   ],
   "source": [
    "# Concatenar arreglos\n",
    "nums1 = np.array([4, 5, 3])\n",
    "\n",
    "nums2 = np.array([6, 7, 8])\n",
    "\n",
    "arr = np.concatenate((nums1, nums2))\n",
    "\n",
    "print(arr)"
   ]
  },
  {
   "cell_type": "code",
   "execution_count": 110,
   "id": "b9a80653",
   "metadata": {},
   "outputs": [
    {
     "name": "stdout",
     "output_type": "stream",
     "text": [
      "[1 2 3 4 5 6 5 6 4 5 6 7 6 9]\n",
      "(14,)\n",
      "Haciendo cortes\n",
      "[array([1, 2, 3]), array([4, 5, 6]), array([5, 6, 4]), array([5, 6, 7]), array([6, 9])]\n",
      "[1 2 3]\n",
      "[4 5 6]\n",
      "Cortes del nuevo arreglo:  5\n",
      "Iterando ... recorriendo por medio de un bucle o ciclo for \n",
      "[1 2 3]\n",
      "[4 5 6]\n",
      "[5 6 4]\n",
      "[5 6 7]\n",
      "[6 9]\n"
     ]
    }
   ],
   "source": [
    "# Cortes de un arreglo con array_split(arreglo, cortes)\n",
    "\n",
    "cortes = 5\n",
    "arr = np.array([1, 2, 3, 4, 5, 6, 5, 6, 4, 5, 6, 7, 6, 9])\n",
    "\n",
    "\n",
    "print(arr)\n",
    "print(arr.shape)\n",
    "\n",
    "\n",
    "print(\"Haciendo cortes\")\n",
    "newarr = np.array_split(arr, cortes) \n",
    "\n",
    "print(newarr)\n",
    "\n",
    "print(newarr[0])\n",
    "print(newarr[1])\n",
    "\n",
    "# Longitud del arreglo\n",
    "# print(newarr.shape)\n",
    "\n",
    "\n",
    "num_cortes = len(newarr)\n",
    "print(\"Cortes del nuevo arreglo: \", num_cortes)\n",
    "print(\"Iterando ... recorriendo por medio de un bucle o ciclo for \")\n",
    "for c in newarr:\n",
    "    print(c)"
   ]
  },
  {
   "cell_type": "code",
   "execution_count": 122,
   "id": "b7c3d777",
   "metadata": {},
   "outputs": [
    {
     "name": "stdout",
     "output_type": "stream",
     "text": [
      "[3 4 5 6 5 4 5 6 5 4 3]\n",
      "La(s) posiciones en donde hay 4 son:  (array([1, 5, 9], dtype=int64),)\n",
      "[1 5 9]\n"
     ]
    }
   ],
   "source": [
    "# Encontrar valores devolviendo el índice de un arreglo\n",
    "nums = np.array([3, 4, 5, 6, 5, 4, 5, 6, 5, 4, 3])\n",
    "print(nums)\n",
    "\n",
    "posicion = np.where(nums == 4)\n",
    "print(\"La(s) posiciones en donde hay 4 son: \", posicion)\n",
    "\n",
    "for p in posicion:\n",
    "    print(p) \n",
    "\n",
    "\n",
    "\n",
    "\n"
   ]
  },
  {
   "cell_type": "code",
   "execution_count": 137,
   "id": "cd4732c2",
   "metadata": {},
   "outputs": [
    {
     "name": "stdout",
     "output_type": "stream",
     "text": [
      "[0 1 1 2 3 3 4 4 5 5 5 6 6 6 7 7 7 8]\n",
      "[8 7 7 7 6 6 6 5 5 5 4 4 3 3 2 1 1 0]\n"
     ]
    }
   ],
   "source": [
    "# Ordenar un arreglo numérico ascendente y descendente\n",
    "arr = np.array([3, 2, 0, 7, 1, 4, 5, 3, 6, 7, 8, 7, 6, 5, 4, 5, 6, 1])\n",
    "\n",
    "print(np.sort(arr))\n",
    "print(np.sort(arr)[::-1])"
   ]
  },
  {
   "cell_type": "code",
   "execution_count": 140,
   "id": "108023c7",
   "metadata": {},
   "outputs": [
    {
     "name": "stdout",
     "output_type": "stream",
     "text": [
      "[41 43 46 54]\n"
     ]
    }
   ],
   "source": [
    "# Filtrar con valore booleandos solo lo eleentos que se le indica True\n",
    "arr = np.array([41, 42, 43, 44, 46, 54, 56])\n",
    "\n",
    "x = [True, False, True, False, True, True, False]\n",
    "\n",
    "newarr = arr[x]\n",
    "\n",
    "print(newarr)"
   ]
  },
  {
   "cell_type": "markdown",
   "id": "87fd1dff",
   "metadata": {},
   "source": [
    "Dado un arreglo de números aleatorios de forma (5, 5) con valores enteros entre 18 y 65, encuentra el número más grande y más pequeño de cada renglón del arreglo y reemplaza todos los demás números del arreglo con cero."
   ]
  },
  {
   "cell_type": "code",
   "execution_count": 168,
   "id": "6257898d",
   "metadata": {},
   "outputs": [
    {
     "name": "stdout",
     "output_type": "stream",
     "text": [
      "[18 26 44 33 58 61 64 28 47 27 34 43 46 28 63 57 27 18 50 39 48 61 50 49\n",
      " 47]\n",
      "[[18 26 44 33 58]\n",
      " [61 64 28 47 27]\n",
      " [34 43 46 28 63]\n",
      " [57 27 18 50 39]\n",
      " [48 61 50 49 47]]\n",
      "18\n",
      "26\n",
      "44\n",
      "33\n",
      "58\n",
      "61\n",
      "64\n",
      "28\n",
      "47\n",
      "27\n",
      "34\n",
      "43\n",
      "46\n",
      "28\n",
      "63\n",
      "57\n",
      "27\n",
      "18\n",
      "50\n",
      "39\n",
      "48\n",
      "61\n",
      "50\n",
      "49\n",
      "47\n",
      "[18 26 44 33 58]\n",
      "[61 64 28 47 27]\n",
      "[34 43 46 28 63]\n",
      "[57 27 18 50 39]\n",
      "[48 61 50 49 47]\n",
      "Los máximos de cada renglón\n",
      "Matriz original\n",
      "[[18 26 44 33 58]\n",
      " [61 64 28 47 27]\n",
      " [34 43 46 28 63]\n",
      " [57 27 18 50 39]\n",
      " [48 61 50 49 47]]\n",
      "Matriz modificada:\n",
      "[[18  0  0  0 58]\n",
      " [ 0 64  0  0 27]\n",
      " [ 0  0  0 28 63]\n",
      " [57  0 18  0  0]\n",
      " [ 0 61  0  0 47]]\n"
     ]
    }
   ],
   "source": [
    "# Encontrar el número más grande y más pequeño del arreglo\n",
    "# Crear arreglo aleatorio de 5x5\n",
    "\n",
    "import numpy as np\n",
    "\n",
    "numeros = np.random.randint(18, 65, size=25)\n",
    "print(numeros)\n",
    "\n",
    "\n",
    "matriz = numeros.reshape(5,5)\n",
    "print(matriz)\n",
    "\n",
    "# Copia de la matriz\n",
    "matriz_cpy = matriz.copy()\n",
    "\n",
    "\n",
    "# Iterar registros y columnas de la matriz\n",
    "for r in range(0, 5):\n",
    "    for c in range(0, 5):\n",
    "        print(matriz[r,c])\n",
    "        \n",
    "for n in matriz:\n",
    "    print (n)\n",
    "    \n",
    "print(\"Los máximos de cada renglón\")   \n",
    "\n",
    "# Crear una copia de la matriz original\n",
    "matriz_cpy = matriz.copy()\n",
    "\n",
    "# Para cada renglón, encontrar el valor máximo y reemplazar los otros valores por 0\n",
    "for r in range(5):\n",
    "    maximo = np.max(matriz[r])\n",
    "    minimo = np.min(matriz[r])\n",
    "    # Iterar sobre cada elemento de la matriz copia\n",
    "    for c in range(5):\n",
    "        if matriz_cpy[r, c] != maximo and matriz_cpy[r, c] != minimo:\n",
    "            matriz_cpy[r, c] = 0  # Asignar un valor de 0 a los elementos que no sean el máximo o mínimo del renglón\n",
    "    \n",
    "print(\"Matriz original\")\n",
    "print(matriz)\n",
    "    \n",
    "print(\"Matriz modificada:\")\n",
    "print(matriz_cpy)\n",
    "\n"
   ]
  }
 ],
 "metadata": {
  "kernelspec": {
   "display_name": "Python 3 (ipykernel)",
   "language": "python",
   "name": "python3"
  },
  "language_info": {
   "codemirror_mode": {
    "name": "ipython",
    "version": 3
   },
   "file_extension": ".py",
   "mimetype": "text/x-python",
   "name": "python",
   "nbconvert_exporter": "python",
   "pygments_lexer": "ipython3",
   "version": "3.9.12"
  }
 },
 "nbformat": 4,
 "nbformat_minor": 5
}
