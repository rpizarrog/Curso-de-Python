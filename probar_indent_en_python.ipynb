{
  "nbformat": 4,
  "nbformat_minor": 0,
  "metadata": {
    "colab": {
      "provenance": [],
      "authorship_tag": "ABX9TyP5uhXaFqriP7WraYYi8Iga",
      "include_colab_link": true
    },
    "kernelspec": {
      "name": "python3",
      "display_name": "Python 3"
    },
    "language_info": {
      "name": "python"
    }
  },
  "cells": [
    {
      "cell_type": "markdown",
      "metadata": {
        "id": "view-in-github",
        "colab_type": "text"
      },
      "source": [
        "<a href=\"https://colab.research.google.com/github/rpizarrog/Curso-de-Python/blob/main/probar_indent_en_python.ipynb\" target=\"_parent\"><img src=\"https://colab.research.google.com/assets/colab-badge.svg\" alt=\"Open In Colab\"/></a>"
      ]
    },
    {
      "cell_type": "markdown",
      "source": [
        "# Probar el indent en Python con un if"
      ],
      "metadata": {
        "id": "eOkOzoI3Ne4R"
      }
    },
    {
      "cell_type": "code",
      "execution_count": 3,
      "metadata": {
        "colab": {
          "base_uri": "https://localhost:8080/"
        },
        "id": "Z5NOizSZNdQt",
        "outputId": "8711ac4c-7883-4f50-f4ea-b240c341a1ed"
      },
      "outputs": [
        {
          "output_type": "stream",
          "name": "stdout",
          "text": [
            "Cinco es mayor que 2!\n"
          ]
        }
      ],
      "source": [
        "if 5 > 2:\n",
        "  print(\"Cinco es mayor que 2!\")"
      ]
    },
    {
      "cell_type": "code",
      "source": [
        "if (3 == 3):\n",
        "  print (\"Son iguales\")"
      ],
      "metadata": {
        "colab": {
          "base_uri": "https://localhost:8080/"
        },
        "id": "-0q2WcfpOGCI",
        "outputId": "762f5ce3-5a5b-4a38-f28e-0af8dba020fd"
      },
      "execution_count": 6,
      "outputs": [
        {
          "output_type": "stream",
          "name": "stdout",
          "text": [
            "Son iguales\n"
          ]
        }
      ]
    },
    {
      "cell_type": "code",
      "source": [
        "if (8 < 10 and 3 < 4) :\n",
        "  print(\"8 es menor que 10\")"
      ],
      "metadata": {
        "colab": {
          "base_uri": "https://localhost:8080/"
        },
        "id": "AKe37Jl2OO-V",
        "outputId": "39f971ba-fb83-457e-da74-9049ad905f68"
      },
      "execution_count": 15,
      "outputs": [
        {
          "output_type": "stream",
          "name": "stdout",
          "text": [
            "8 es menor que 10\n"
          ]
        }
      ]
    },
    {
      "cell_type": "code",
      "source": [
        "if (8 < 10 or 4 < 5):\n",
        "  print (\"Son menores\")\n"
      ],
      "metadata": {
        "colab": {
          "base_uri": "https://localhost:8080/"
        },
        "id": "vB7giES3PCMZ",
        "outputId": "46efd011-1a2d-413f-db1e-7f74498b3f1c"
      },
      "execution_count": 16,
      "outputs": [
        {
          "output_type": "stream",
          "name": "stdout",
          "text": [
            "Son menores\n"
          ]
        }
      ]
    }
  ]
}