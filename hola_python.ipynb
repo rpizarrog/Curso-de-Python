{
  "nbformat": 4,
  "nbformat_minor": 0,
  "metadata": {
    "colab": {
      "provenance": [],
      "authorship_tag": "ABX9TyO2LYfDPMRUQZXFNs2q/hi9",
      "include_colab_link": true
    },
    "kernelspec": {
      "name": "python3",
      "display_name": "Python 3"
    },
    "language_info": {
      "name": "python"
    }
  },
  "cells": [
    {
      "cell_type": "markdown",
      "metadata": {
        "id": "view-in-github",
        "colab_type": "text"
      },
      "source": [
        "<a href=\"https://colab.research.google.com/github/rpizarrog/Curso-de-Python/blob/main/hola_python.ipynb\" target=\"_parent\"><img src=\"https://colab.research.google.com/assets/colab-badge.svg\" alt=\"Open In Colab\"/></a>"
      ]
    },
    {
      "cell_type": "markdown",
      "source": [
        "# Es un cuaderno de hola mundo\n",
        "\n",
        "## Se presentan dos instrucciones utilizando la función o método print()\n",
        "\n",
        "23-03-2023\n"
      ],
      "metadata": {
        "id": "rB-CszZS8BWN"
      }
    },
    {
      "cell_type": "code",
      "execution_count": 3,
      "metadata": {
        "colab": {
          "base_uri": "https://localhost:8080/"
        },
        "id": "BT9hs4Xs6WJi",
        "outputId": "8ec19729-2ed9-425b-e904-6bf7ef6c01bf"
      },
      "outputs": [
        {
          "output_type": "stream",
          "name": "stdout",
          "text": [
            "Hola mundo de Python\n"
          ]
        }
      ],
      "source": [
        "print (\"Hola mundo de Python\")"
      ]
    },
    {
      "cell_type": "code",
      "source": [
        "print (\"Hola\", \"mundo de Pyhton\", \"Saludos desdel el ITD\")"
      ],
      "metadata": {
        "colab": {
          "base_uri": "https://localhost:8080/"
        },
        "id": "tM4hHy4V7gCY",
        "outputId": "13046199-4686-4f71-c956-0246b4b6a4ac"
      },
      "execution_count": 4,
      "outputs": [
        {
          "output_type": "stream",
          "name": "stdout",
          "text": [
            "Hola mundo de Pyhton Saludos desdel el ITD\n"
          ]
        }
      ]
    }
  ]
}